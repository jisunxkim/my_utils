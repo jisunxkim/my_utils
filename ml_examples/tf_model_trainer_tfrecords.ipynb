{
 "cells": [
  {
   "cell_type": "markdown",
   "metadata": {},
   "source": [
    "# TF Model training script"
   ]
  },
  {
   "cell_type": "markdown",
   "metadata": {
    "tags": []
   },
   "source": [
    "## Imports and other initializations"
   ]
  },
  {
   "cell_type": "code",
   "execution_count": 1,
   "metadata": {},
   "outputs": [],
   "source": [
    "# fairing:include-cell\n",
    "import tensorflow as tf\n",
    "from tensorflow.keras import layers\n",
    "from tensorflow.keras.layers.experimental import preprocessing\n",
    "\n",
    "import numpy as np\n",
    "import sys\n",
    "import os\n",
    "from pathlib import Path\n",
    "import pandas as pd\n",
    "from kubeflow import fairing \n",
    "import time\n",
    "import json\n",
    "import logging\n",
    "import imp\n",
    "import yaml\n",
    "import seaborn as sns\n",
    "import shutil\n",
    "from sklearn.metrics import classification_report, roc_curve, roc_auc_score, confusion_matrix, precision_recall_curve\n",
    "from sklearn.preprocessing import normalize\n",
    "from google.cloud import storage\n",
    "from tensorflow.io import FixedLenFeature\n",
    "\n",
    "from matplotlib import pyplot as plt\n",
    "\n",
    "sys.path.append('../utilities/')\n",
    "import modeldb_tf_utilities\n",
    "import evaluation_utilities\n",
    "import model_utilities\n",
    "import from_tfrecords\n",
    "imp.reload(modeldb_tf_utilities)\n",
    "imp.reload(evaluation_utilities)\n",
    "imp.reload(model_utilities)\n",
    "imp.reload(from_tfrecords)\n",
    "\n",
    "AUTOTUNE = tf.data.experimental.AUTOTUNE"
   ]
  },
  {
   "cell_type": "code",
   "execution_count": 2,
   "metadata": {},
   "outputs": [
    {
     "name": "stdout",
     "output_type": "stream",
     "text": [
      "rmenon\n",
      "zulilymodeltraining\n"
     ]
    }
   ],
   "source": [
    "# fairing:include-cell\n",
    "# Global configs that would be used at all the steps of the notebook.\n",
    "GCP_PROJECT = fairing.backends.gcp.guess_project_name()\n",
    "NAMESPACE = fairing.backends.utils.get_current_k8s_namespace()\n",
    "PROJECT_ID = GCP_PROJECT\n",
    "MODELDB_CLIENT_URL = \"https://modeldb.mlp.ml.gce.z8s.io/\"\n",
    "print(NAMESPACE)\n",
    "print(GCP_PROJECT)"
   ]
  },
  {
   "cell_type": "markdown",
   "metadata": {
    "tags": []
   },
   "source": [
    "## Configuration Parameters"
   ]
  },
  {
   "cell_type": "markdown",
   "metadata": {
    "tags": []
   },
   "source": [
    "### Model and Data Related"
   ]
  },
  {
   "cell_type": "code",
   "execution_count": 3,
   "metadata": {},
   "outputs": [],
   "source": [
    "# fairing:include-cell\n",
    "# YAML file containing model data configuration: i.e. Feature names, identification of categorical names etc\n",
    "model_data_config_file_name = \"./../model_configs/text_based_tfrecord_config.yaml\"\n",
    "\n",
    "# Dataset paths\n",
    "data_config = {\n",
    "    #\"training\":'gs://zulilymodeltraining/rmenon/data/tf_records/train/',\n",
    "    \"training\":'gs://zulilymodeltraining/prgupta/test_2',\n",
    "    \"validation\":'gs://zulilymodeltraining/prgupta/test_2',\n",
    "    \"test\":'gs://zulilymodeltraining/prgupta/test_2',\n",
    "}\n",
    "\n",
    "# Path to save trained model and other model-related specs\n",
    "model_data_path_prefix= f\"gs://personalization-tensorflow/models/text_features/\"\n",
    "\n",
    "# Model training parameters\n",
    "model_fit_config = {\n",
    "    \"batch_size\": 2048,\n",
    "    \"initial_lr\": 1e-3,\n",
    "    \"epochs\": 6,\n",
    "    \"shuffle_buffer_size\": 16384,\n",
    "}\n",
    "\n",
    "# Evaluating LTR performance metrics\n",
    "max_rank = 15\n",
    "\n",
    "# Use distributed training across GPUs (only set to True if using >1GPU). Also only efficient for large models.\n",
    "use_distributed_training = False\n",
    "\n",
    "# Use checkpointed model (usually based on lowest validation loss) to generate validation metrics\n",
    "use_checkpointed_model = True\n",
    "\n",
    "# Run locally for testing\n",
    "run_local = True\n",
    "\n",
    "# compression_type_for_tfrecord\n",
    "compression_type = 'GZIP'"
   ]
  },
  {
   "cell_type": "markdown",
   "metadata": {},
   "source": [
    "### Feature Normalizer Related"
   ]
  },
  {
   "cell_type": "code",
   "execution_count": 4,
   "metadata": {},
   "outputs": [],
   "source": [
    "# fairing:include-cell\n",
    "# Parameters related to feature normalizer for the model\n",
    "num_samples_to_train_normalizer = 500 # Set a sample size (in terms of number of batches). If set to None, the entire \"training\" set will be used to train the normalizer.\n",
    "if run_local:\n",
    "    num_samples_to_train_normalizer = 1"
   ]
  },
  {
   "cell_type": "markdown",
   "metadata": {},
   "source": [
    "### Model DB Related"
   ]
  },
  {
   "cell_type": "code",
   "execution_count": 5,
   "metadata": {},
   "outputs": [],
   "source": [
    "# fairing:include-cell\n",
    "# Model DB configuration parameters\n",
    "modeldb_config = {\n",
    "    ## Required configs\n",
    "    # These are required configs for a modeldb run. \n",
    "    # Please refer to notes here: https://confluence.zulily.com/display/tech/Notes+about+using+ModelDB if you are updaing the default\n",
    "    # project and experiment name.\n",
    "    \"client_url\": MODELDB_CLIENT_URL,\n",
    "    \"project_name\": 'P13N_Event_Sort_Models_2021',\n",
    "    \"experiment_name\": f\"text-features\",\n",
    "    # Username is mapped into as a ModelDB tag which will help to identiy a run by an user.\n",
    "    \"username\": NAMESPACE,\n",
    "    \n",
    "    ## Optional configs\n",
    "    # If an experiment run name is not specified, then ModelDB will randomly assign a run_name.\n",
    "    \"experiment_run_name\": 'tf_record_format',#'4layer_1024_target_0_458_dataset_v4',\n",
    "    # This parameter is by default true and is required if you are going to run multiple runs with same experiment_run_name.\n",
    "    # This will prevent you from overwritng an experiment_run data and create a new run everytime a pipeline runs.\n",
    "    \"add_random_hash_to_run_name\": 'true'\n",
    "}"
   ]
  },
  {
   "cell_type": "markdown",
   "metadata": {},
   "source": [
    "### Model Internal initializations based on YAML configuration"
   ]
  },
  {
   "cell_type": "code",
   "execution_count": 6,
   "metadata": {},
   "outputs": [],
   "source": [
    "# fairing:include-cell\n",
    "# Retrieve model configuration from YAML file.\n",
    "with open(model_data_config_file_name) as file:\n",
    "    model_data_config = yaml.load(file, Loader=yaml.SafeLoader)\n",
    "# Do some name mappings to make code cleaner\n",
    "feature_names = model_data_config['feature_names']\n",
    "categorical_columns = model_data_config['categorical_columns']\n",
    "categorical_columns_vocabulary_list = model_data_config['categorical_columns_vocabulary_list']\n",
    "numeric_columns_to_norm = model_data_config['numeric_columns_to_norm']\n",
    "vector_features = model_data_config['vector_columns']\n",
    "numeric_columns_remaining = [xx for xx in feature_names if ((xx not in categorical_columns) \\\n",
    "                                                            and (xx not in numeric_columns_to_norm)\\\n",
    "                                                            and (xx not in vector_features))]\n",
    "vector_column_lengths = model_data_config['vector_column_lengths']\n",
    "target_name = model_data_config['target_name']\n",
    "numeric_columns_remaining.remove(target_name)"
   ]
  },
  {
   "cell_type": "markdown",
   "metadata": {
    "tags": []
   },
   "source": [
    "## Create/ Load a Feature Normalizer"
   ]
  },
  {
   "cell_type": "code",
   "execution_count": 7,
   "metadata": {},
   "outputs": [],
   "source": [
    "# fairing:include-cell\n",
    "def google_file_path_exists(path_name):\n",
    "    \"\"\"\n",
    "    Checks if a file path exists in google storage\n",
    "    path_name should be something like 'gs://zulilymodeltraining/rmenon/tf-models-data/normalizer_models/saved_model.pb'\n",
    "    \"\"\"    \n",
    "\n",
    "    storage_client = storage.Client()\n",
    "    interim = path_name.split('//') # Extract gs:\n",
    "    interim = interim[1].split('/') # Extract stuff after gs, 'zulilymodeltraining/rmenon/tf-models-data/normalizer_models/saved_model.pb'\n",
    "    bucket_name = interim[0] # Extract bucket name, 'zulilymodeltraining'\n",
    "    name = ('/').join(interim[1:]) #Create file path excluding bucket name, 'rmenon/tf-models-data/normalizer_models/saved_model.pb'\n",
    "    bucket = storage_client.bucket(bucket_name)\n",
    "    stats = storage.Blob(bucket=bucket, name=name).exists(storage_client)\n",
    "    return(stats)"
   ]
  },
  {
   "cell_type": "code",
   "execution_count": 8,
   "metadata": {},
   "outputs": [
    {
     "name": "stdout",
     "output_type": "stream",
     "text": [
      "Normalizer training took 1.3728408813476562secs\n"
     ]
    }
   ],
   "source": [
    "# fairing:include-cell\n",
    "st = time.time()\n",
    "\n",
    "normalizer_schema = {}\n",
    "for feature in numeric_columns_to_norm:\n",
    "    normalizer_schema[feature] = float\n",
    "    \n",
    "# reate a data generator to run thru the training data for normalizing features\n",
    "data_batches_for_norm = from_tfrecords.from_tfrecords_to_ds(data_config['training'], \\\n",
    "                                                            compression_type = compression_type,\\\n",
    "                                                            schema=normalizer_schema)\\\n",
    "                        .batch(2048)\n",
    "\n",
    "# Pick a random sample if specified\n",
    "if num_samples_to_train_normalizer is not None:\n",
    "    data_batches_for_norm = data_batches_for_norm.take(int(num_samples_to_train_normalizer))\n",
    "\n",
    "# Stack features: Change from dictionary format to a a stacked tensor array\n",
    "def stack_features(features):\n",
    "    return tf.stack(list(features.values()), axis=1)\n",
    "data_batches_for_norm_stacked = data_batches_for_norm.map(stack_features)\n",
    "\n",
    "\n",
    "# Train the normalizer \n",
    "if use_distributed_training:\n",
    "    mirrored_strategy = tf.distribute.MirroredStrategy()\n",
    "    with mirrored_strategy.scope():\n",
    "        feature_normalizer = preprocessing.Normalization()\n",
    "        feature_normalizer.adapt(data_batches_for_norm_stacked)\n",
    "else:\n",
    "    feature_normalizer = preprocessing.Normalization()\n",
    "    feature_normalizer.adapt(data_batches_for_norm_stacked)\n",
    "print('Normalizer training took {}secs'.format(time.time() - st))"
   ]
  },
  {
   "cell_type": "code",
   "execution_count": 9,
   "metadata": {},
   "outputs": [
    {
     "data": {
      "text/plain": [
       "<tensorflow.python.keras.layers.preprocessing.normalization.Normalization at 0x7f47fc1a1310>"
      ]
     },
     "execution_count": 9,
     "metadata": {},
     "output_type": "execute_result"
    }
   ],
   "source": [
    "feature_normalizer"
   ]
  },
  {
   "cell_type": "markdown",
   "metadata": {
    "tags": []
   },
   "source": [
    "## Model Helper functions"
   ]
  },
  {
   "cell_type": "code",
   "execution_count": 10,
   "metadata": {},
   "outputs": [],
   "source": [
    "# fairing:include-cell\n",
    "# Model-DB logging functions\n",
    "def log_model_attributes(modeldb_expt_run):\n",
    "    \"\"\"\n",
    "    Capturing Model attributes before starting training in ModelDB.\n",
    "    \"\"\"\n",
    "    modeldb_expt_run.log_hyperparameters(model_fit_config)\n",
    "    modeldb_expt_run.log_attributes(data_config)\n",
    "    modeldb_expt_run.log_attributes(model_data_config)\n",
    "\n",
    "    \n",
    "def log_model_metrics(modeldb_expt_run, model, model_save_path, model_checkpoint_path, test_ds = None):\n",
    "    \"\"\"\n",
    "    Capturing Model metrics at the end of training in ModelDB.\n",
    "    \"\"\"\n",
    "    \n",
    "    # Log the paths where the model and related data were saved\n",
    "    modeldb_expt_run.log_artifact_path('other_model_related_data_path', model_data_path_prefix)\n",
    "    modeldb_expt_run.log_artifact_path('model_save_path', model_save_path)\n",
    "    modeldb_expt_run.log_artifact_path('model_checkpoint_path', model_checkpoint_path)\n",
    "    \n",
    "    # Log accuracy of the supplied data set (if supplied)\n",
    "    if test_ds is not None:\n",
    "        loss, accuracy, precision, recall = model.evaluate(test_ds)        \n",
    "        modeldb_expt_run.log_metric('loss_', loss)\n",
    "        modeldb_expt_run.log_metric('accuracy', accuracy)\n",
    "        modeldb_expt_run.log_metric('precision', precision)\n",
    "        modeldb_expt_run.log_metric('recall', recall)\n",
    "        \n",
    "\n",
    "def log_model_summary(modeldb_expt_run, model):\n",
    "    \"\"\"\n",
    "    Log the structure of the Model\n",
    "    \"\"\"\n",
    "    stringlist = []\n",
    "    # Only store the last sequential layer\n",
    "    model.get_layer(index=-1).summary(print_fn=lambda x: stringlist.append(x))\n",
    "    short_model_summary = \"\\n\".join(stringlist)    \n",
    "    \n",
    "    if os.path.exists('/tmp/model/'):        \n",
    "        shutil.rmtree('/tmp/model')\n",
    "    os.mkdir('/tmp/model')\n",
    "\n",
    "    with open('/tmp/model/model.txt', 'w') as f:\n",
    "        f.write(short_model_summary)\n",
    "    f.close()\n",
    "    modeldb_expt_run.log_artifact('Model_Summary', '/tmp/model/model.txt')    "
   ]
  },
  {
   "cell_type": "code",
   "execution_count": 11,
   "metadata": {},
   "outputs": [],
   "source": [
    "# fairing:include-cell\n",
    "# Target variable mapping function\n",
    "def parse_label_from_data(data):\n",
    "    \"\"\"\n",
    "    Function to map the data parsed in order to generate the labels\n",
    "    \"\"\"\n",
    "    labels = data.pop(target_name)\n",
    "    \n",
    "    label_0_values = tf.constant(['0'], dtype=tf.dtypes.string)    \n",
    "    labels = tf.reshape(labels, [-1, 1])\n",
    "    labels_converted = tf.where(tf.reduce_any(tf.equal(labels, label_0_values), axis=1), \n",
    "                              tf.constant(0, dtype=tf.dtypes.int64), \n",
    "                              tf.constant(1, dtype=tf.dtypes.int64)) \n",
    "    return data, labels_converted"
   ]
  },
  {
   "cell_type": "markdown",
   "metadata": {
    "tags": []
   },
   "source": [
    "## Model Setup and training"
   ]
  },
  {
   "cell_type": "code",
   "execution_count": 12,
   "metadata": {},
   "outputs": [],
   "source": [
    "# fairing:include-cell\n",
    "# Get training, test and validation data generators\n",
    "training_data = from_tfrecords.from_tfrecords_to_ds(data_config['training'], compression_type = compression_type,) \\\n",
    "        .map(parse_label_from_data, num_parallel_calls=AUTOTUNE) \\\n",
    "        .shuffle(model_fit_config['shuffle_buffer_size']).batch(model_fit_config['batch_size'])\n",
    "training_data = training_data.prefetch(buffer_size=AUTOTUNE)\n",
    "\n",
    "validation_data = from_tfrecords.from_tfrecords_to_ds(data_config['validation'], compression_type = compression_type,) \\\n",
    "        .map(parse_label_from_data, num_parallel_calls=AUTOTUNE) \\\n",
    "        .batch(model_fit_config['batch_size'])\n",
    "validation_data = validation_data.prefetch(buffer_size=AUTOTUNE)\n",
    "\n",
    "test_data = from_tfrecords.from_tfrecords_to_ds(data_config['test'], compression_type = compression_type,) \\\n",
    "        .map(parse_label_from_data, num_parallel_calls=AUTOTUNE) \\\n",
    "        .batch(model_fit_config['batch_size'])\n",
    "test_data = test_data.prefetch(buffer_size=AUTOTUNE)\n",
    "\n",
    "if run_local:\n",
    "    # For testing purposes: Selects just 1 batch of data for training, validation and test\n",
    "    training_data = training_data.take(1)\n",
    "    validation_data = validation_data.take(1)\n",
    "    test_data = test_data.take(1)\n",
    "else:\n",
    "    # Using just 1/10th dataset for training and validation\n",
    "    #training_data = training_data.shard(10, 1) \n",
    "    validation_data = validation_data.shard(10, 1)"
   ]
  },
  {
   "cell_type": "code",
   "execution_count": 13,
   "metadata": {},
   "outputs": [
    {
     "name": "stdout",
     "output_type": "stream",
     "text": [
      "connection successfully established\n",
      "got existing Project: P13N_Event_Sort_Models_2021\n",
      "got existing Experiment: text-features\n",
      "created new ExperimentRun: tf_record_format_589xap8a\n",
      "upload complete (Model_Summary)\n"
     ]
    }
   ],
   "source": [
    "# fairing:include-cell\n",
    "initial_lr = model_fit_config['initial_lr']\n",
    "num_epochs = model_fit_config['epochs']\n",
    "\n",
    "# Create Model-DB Instance\n",
    "modeldb_expt_run = modeldb_tf_utilities.create_modeldb_experiment_run(modeldb_config)\n",
    "\n",
    "# Get callbacks and save paths\n",
    "model_data_path_prefix = os.path.join(model_data_path_prefix, modeldb_expt_run.name)\n",
    "callbacks = modeldb_tf_utilities.get_tf_callbacks(modeldb_expt_run, model_data_path_prefix)\n",
    "\n",
    "# Save some attributes before training starts\n",
    "log_model_attributes(modeldb_expt_run)\n",
    "\n",
    "# Define model \n",
    "#loss=tf.keras.losses.BinaryCrossentropy(from_logits=False)\n",
    "loss=tf.keras.losses.MeanSquaredError()\n",
    "optimizer=tf.optimizers.Adam(learning_rate=initial_lr)\n",
    "\n",
    "# Create a distribution strategy to run on multiple GPUs\n",
    "if use_distributed_training:\n",
    "    with mirrored_strategy.scope():\n",
    "        sort_model = model_utilities.get_tfrecord_sort_model(feature_normalizer, \n",
    "                                                       numeric_columns_to_norm, \n",
    "                                                       numeric_columns_remaining, \n",
    "                                                       categorical_columns,\n",
    "                                                       categorical_columns_vocabulary_list,\n",
    "                                                       vector_features,\n",
    "                                                        vector_column_lengths)\n",
    "        sort_model.compile(loss=loss, optimizer=optimizer, metrics=['accuracy', tf.keras.metrics.Precision(), tf.keras.metrics.Recall()])\n",
    "else:\n",
    "    sort_model = model_utilities.get_tfrecord_sort_model(feature_normalizer,\n",
    "                                                   numeric_columns_to_norm, \n",
    "                                                   numeric_columns_remaining, \n",
    "                                                   categorical_columns,\n",
    "                                                   categorical_columns_vocabulary_list,\n",
    "                                                    vector_features,\n",
    "                                                    vector_column_lengths)\n",
    "    sort_model.compile(loss=loss, optimizer=optimizer, metrics=['accuracy', tf.keras.metrics.Precision(), tf.keras.metrics.Recall()])\n",
    "\n",
    "log_model_summary(modeldb_expt_run, sort_model)"
   ]
  },
  {
   "cell_type": "code",
   "execution_count": 14,
   "metadata": {},
   "outputs": [
    {
     "name": "stdout",
     "output_type": "stream",
     "text": [
      "Model: \"model\"\n",
      "__________________________________________________________________________________________________\n",
      "Layer (type)                    Output Shape         Param #     Connected to                     \n",
      "==================================================================================================\n",
      "estimated_demand (InputLayer)   [(None, 1)]          0                                            \n",
      "__________________________________________________________________________________________________\n",
      "projected_demand (InputLayer)   [(None, 1)]          0                                            \n",
      "__________________________________________________________________________________________________\n",
      "demand_to_date_norm (InputLayer [(None, 1)]          0                                            \n",
      "__________________________________________________________________________________________________\n",
      "order_ct_to_date_norm (InputLay [(None, 1)]          0                                            \n",
      "__________________________________________________________________________________________________\n",
      "concatenate (Concatenate)       (None, 4)            0           estimated_demand[0][0]           \n",
      "                                                                 projected_demand[0][0]           \n",
      "                                                                 demand_to_date_norm[0][0]        \n",
      "                                                                 order_ct_to_date_norm[0][0]      \n",
      "__________________________________________________________________________________________________\n",
      "activation_channel (InputLayer) [(None, 1)]          0                                            \n",
      "__________________________________________________________________________________________________\n",
      "age_segment (InputLayer)        [(None, 1)]          0                                            \n",
      "__________________________________________________________________________________________________\n",
      "conversion_rate_impression (Inp [(None, 1)]          0                                            \n",
      "__________________________________________________________________________________________________\n",
      "conversion_rate_pageview (Input [(None, 1)]          0                                            \n",
      "__________________________________________________________________________________________________\n",
      "cust_maternity_views (InputLaye [(None, 1)]          0                                            \n",
      "__________________________________________________________________________________________________\n",
      "cust_msrp_iqr_ppt (InputLayer)  [(None, 20)]         0                                            \n",
      "__________________________________________________________________________________________________\n",
      "cust_msrp_median_ppt (InputLaye [(None, 20)]         0                                            \n",
      "__________________________________________________________________________________________________\n",
      "cust_price_iqr_ppt (InputLayer) [(None, 20)]         0                                            \n",
      "__________________________________________________________________________________________________\n",
      "cust_price_median_ppt (InputLay [(None, 20)]         0                                            \n",
      "__________________________________________________________________________________________________\n",
      "customer_age (InputLayer)       [(None, 8)]          0                                            \n",
      "__________________________________________________________________________________________________\n",
      "customer_gender (InputLayer)    [(None, 4)]          0                                            \n",
      "__________________________________________________________________________________________________\n",
      "event_age (InputLayer)          [(None, 8)]          0                                            \n",
      "__________________________________________________________________________________________________\n",
      "event_gender (InputLayer)       [(None, 4)]          0                                            \n",
      "__________________________________________________________________________________________________\n",
      "event_top_ppt (InputLayer)      [(None, 1)]          0                                            \n",
      "__________________________________________________________________________________________________\n",
      "join_channel (InputLayer)       [(None, 1)]          0                                            \n",
      "__________________________________________________________________________________________________\n",
      "msrp_iqr (InputLayer)           [(None, 1)]          0                                            \n",
      "__________________________________________________________________________________________________\n",
      "msrp_median (InputLayer)        [(None, 1)]          0                                            \n",
      "__________________________________________________________________________________________________\n",
      "non_branded (InputLayer)        [(None, 1)]          0                                            \n",
      "__________________________________________________________________________________________________\n",
      "price_iqr (InputLayer)          [(None, 1)]          0                                            \n",
      "__________________________________________________________________________________________________\n",
      "price_median (InputLayer)       [(None, 1)]          0                                            \n",
      "__________________________________________________________________________________________________\n",
      "subjectline_eligible (InputLaye [(None, 1)]          0                                            \n",
      "__________________________________________________________________________________________________\n",
      "text_embd_cart_adds (InputLayer [(None, 100)]        0                                            \n",
      "__________________________________________________________________________________________________\n",
      "text_embd_event (InputLayer)    [(None, 100)]        0                                            \n",
      "__________________________________________________________________________________________________\n",
      "text_embd_style_views (InputLay [(None, 100)]        0                                            \n",
      "__________________________________________________________________________________________________\n",
      "normalization (Normalization)   (None, 4)            9           concatenate[0][0]                \n",
      "__________________________________________________________________________________________________\n",
      "dense_features (DenseFeatures)  (None, 450)          0           activation_channel[0][0]         \n",
      "                                                                 age_segment[0][0]                \n",
      "                                                                 conversion_rate_impression[0][0] \n",
      "                                                                 conversion_rate_pageview[0][0]   \n",
      "                                                                 cust_maternity_views[0][0]       \n",
      "                                                                 cust_msrp_iqr_ppt[0][0]          \n",
      "                                                                 cust_msrp_median_ppt[0][0]       \n",
      "                                                                 cust_price_iqr_ppt[0][0]         \n",
      "                                                                 cust_price_median_ppt[0][0]      \n",
      "                                                                 customer_age[0][0]               \n",
      "                                                                 customer_gender[0][0]            \n",
      "                                                                 event_age[0][0]                  \n",
      "                                                                 event_gender[0][0]               \n",
      "                                                                 event_top_ppt[0][0]              \n",
      "                                                                 join_channel[0][0]               \n",
      "                                                                 msrp_iqr[0][0]                   \n",
      "                                                                 msrp_median[0][0]                \n",
      "                                                                 non_branded[0][0]                \n",
      "                                                                 price_iqr[0][0]                  \n",
      "                                                                 price_median[0][0]               \n",
      "                                                                 subjectline_eligible[0][0]       \n",
      "                                                                 text_embd_cart_adds[0][0]        \n",
      "                                                                 text_embd_event[0][0]            \n",
      "                                                                 text_embd_style_views[0][0]      \n",
      "__________________________________________________________________________________________________\n",
      "concatenate_1 (Concatenate)     (None, 454)          0           normalization[0][0]              \n",
      "                                                                 dense_features[0][0]             \n",
      "__________________________________________________________________________________________________\n",
      "sequential (Sequential)         (None, 1)            1056513     concatenate_1[0][0]              \n",
      "==================================================================================================\n",
      "Total params: 1,056,522\n",
      "Trainable params: 1,056,513\n",
      "Non-trainable params: 9\n",
      "__________________________________________________________________________________________________\n"
     ]
    }
   ],
   "source": [
    "sort_model.summary()"
   ]
  },
  {
   "cell_type": "code",
   "execution_count": 15,
   "metadata": {},
   "outputs": [
    {
     "name": "stdout",
     "output_type": "stream",
     "text": [
      "Epoch 1/6\n",
      "WARNING:tensorflow:Model was constructed with shape (None, 20) for input KerasTensor(type_spec=TensorSpec(shape=(None, 20), dtype=tf.float32, name='cust_msrp_iqr_ppt'), name='cust_msrp_iqr_ppt', description=\"created by layer 'cust_msrp_iqr_ppt'\"), but it was called on an input with incompatible shape (None, 1).\n"
     ]
    },
    {
     "name": "stderr",
     "output_type": "stream",
     "text": [
      "/opt/conda/lib/python3.8/site-packages/tensorflow/python/keras/engine/functional.py:588: UserWarning: Input dict contained keys ['customer_id', 'event_id', 'event_position', 'new_today', 'send_date'] which did not match any model input. They will be ignored by the model.\n",
      "  warnings.warn(\n",
      "[W 211209 04:23:51 functional:632] Model was constructed with shape (None, 20) for input KerasTensor(type_spec=TensorSpec(shape=(None, 20), dtype=tf.float32, name='cust_msrp_iqr_ppt'), name='cust_msrp_iqr_ppt', description=\"created by layer 'cust_msrp_iqr_ppt'\"), but it was called on an input with incompatible shape (None, 1).\n"
     ]
    },
    {
     "name": "stdout",
     "output_type": "stream",
     "text": [
      "WARNING:tensorflow:Model was constructed with shape (None, 20) for input KerasTensor(type_spec=TensorSpec(shape=(None, 20), dtype=tf.float32, name='cust_msrp_median_ppt'), name='cust_msrp_median_ppt', description=\"created by layer 'cust_msrp_median_ppt'\"), but it was called on an input with incompatible shape (None, 1).\n"
     ]
    },
    {
     "name": "stderr",
     "output_type": "stream",
     "text": [
      "[W 211209 04:23:51 functional:632] Model was constructed with shape (None, 20) for input KerasTensor(type_spec=TensorSpec(shape=(None, 20), dtype=tf.float32, name='cust_msrp_median_ppt'), name='cust_msrp_median_ppt', description=\"created by layer 'cust_msrp_median_ppt'\"), but it was called on an input with incompatible shape (None, 1).\n"
     ]
    },
    {
     "name": "stdout",
     "output_type": "stream",
     "text": [
      "WARNING:tensorflow:Model was constructed with shape (None, 20) for input KerasTensor(type_spec=TensorSpec(shape=(None, 20), dtype=tf.float32, name='cust_price_iqr_ppt'), name='cust_price_iqr_ppt', description=\"created by layer 'cust_price_iqr_ppt'\"), but it was called on an input with incompatible shape (None, 1).\n"
     ]
    },
    {
     "name": "stderr",
     "output_type": "stream",
     "text": [
      "[W 211209 04:23:51 functional:632] Model was constructed with shape (None, 20) for input KerasTensor(type_spec=TensorSpec(shape=(None, 20), dtype=tf.float32, name='cust_price_iqr_ppt'), name='cust_price_iqr_ppt', description=\"created by layer 'cust_price_iqr_ppt'\"), but it was called on an input with incompatible shape (None, 1).\n"
     ]
    },
    {
     "name": "stdout",
     "output_type": "stream",
     "text": [
      "WARNING:tensorflow:Model was constructed with shape (None, 20) for input KerasTensor(type_spec=TensorSpec(shape=(None, 20), dtype=tf.float32, name='cust_price_median_ppt'), name='cust_price_median_ppt', description=\"created by layer 'cust_price_median_ppt'\"), but it was called on an input with incompatible shape (None, 1).\n"
     ]
    },
    {
     "name": "stderr",
     "output_type": "stream",
     "text": [
      "[W 211209 04:23:51 functional:632] Model was constructed with shape (None, 20) for input KerasTensor(type_spec=TensorSpec(shape=(None, 20), dtype=tf.float32, name='cust_price_median_ppt'), name='cust_price_median_ppt', description=\"created by layer 'cust_price_median_ppt'\"), but it was called on an input with incompatible shape (None, 1).\n"
     ]
    },
    {
     "name": "stdout",
     "output_type": "stream",
     "text": [
      "WARNING:tensorflow:Model was constructed with shape (None, 8) for input KerasTensor(type_spec=TensorSpec(shape=(None, 8), dtype=tf.float32, name='customer_age'), name='customer_age', description=\"created by layer 'customer_age'\"), but it was called on an input with incompatible shape (None, 1).\n"
     ]
    },
    {
     "name": "stderr",
     "output_type": "stream",
     "text": [
      "[W 211209 04:23:51 functional:632] Model was constructed with shape (None, 8) for input KerasTensor(type_spec=TensorSpec(shape=(None, 8), dtype=tf.float32, name='customer_age'), name='customer_age', description=\"created by layer 'customer_age'\"), but it was called on an input with incompatible shape (None, 1).\n"
     ]
    },
    {
     "name": "stdout",
     "output_type": "stream",
     "text": [
      "WARNING:tensorflow:Model was constructed with shape (None, 4) for input KerasTensor(type_spec=TensorSpec(shape=(None, 4), dtype=tf.float32, name='customer_gender'), name='customer_gender', description=\"created by layer 'customer_gender'\"), but it was called on an input with incompatible shape (None, 1).\n"
     ]
    },
    {
     "name": "stderr",
     "output_type": "stream",
     "text": [
      "[W 211209 04:23:51 functional:632] Model was constructed with shape (None, 4) for input KerasTensor(type_spec=TensorSpec(shape=(None, 4), dtype=tf.float32, name='customer_gender'), name='customer_gender', description=\"created by layer 'customer_gender'\"), but it was called on an input with incompatible shape (None, 1).\n"
     ]
    },
    {
     "name": "stdout",
     "output_type": "stream",
     "text": [
      "WARNING:tensorflow:Model was constructed with shape (None, 8) for input KerasTensor(type_spec=TensorSpec(shape=(None, 8), dtype=tf.float32, name='event_age'), name='event_age', description=\"created by layer 'event_age'\"), but it was called on an input with incompatible shape (None, 1).\n"
     ]
    },
    {
     "name": "stderr",
     "output_type": "stream",
     "text": [
      "[W 211209 04:23:51 functional:632] Model was constructed with shape (None, 8) for input KerasTensor(type_spec=TensorSpec(shape=(None, 8), dtype=tf.float32, name='event_age'), name='event_age', description=\"created by layer 'event_age'\"), but it was called on an input with incompatible shape (None, 1).\n"
     ]
    },
    {
     "name": "stdout",
     "output_type": "stream",
     "text": [
      "WARNING:tensorflow:Model was constructed with shape (None, 4) for input KerasTensor(type_spec=TensorSpec(shape=(None, 4), dtype=tf.float32, name='event_gender'), name='event_gender', description=\"created by layer 'event_gender'\"), but it was called on an input with incompatible shape (None, 1).\n"
     ]
    },
    {
     "name": "stderr",
     "output_type": "stream",
     "text": [
      "[W 211209 04:23:51 functional:632] Model was constructed with shape (None, 4) for input KerasTensor(type_spec=TensorSpec(shape=(None, 4), dtype=tf.float32, name='event_gender'), name='event_gender', description=\"created by layer 'event_gender'\"), but it was called on an input with incompatible shape (None, 1).\n"
     ]
    },
    {
     "name": "stdout",
     "output_type": "stream",
     "text": [
      "WARNING:tensorflow:Model was constructed with shape (None, 100) for input KerasTensor(type_spec=TensorSpec(shape=(None, 100), dtype=tf.float32, name='text_embd_cart_adds'), name='text_embd_cart_adds', description=\"created by layer 'text_embd_cart_adds'\"), but it was called on an input with incompatible shape (None, 1).\n"
     ]
    },
    {
     "name": "stderr",
     "output_type": "stream",
     "text": [
      "[W 211209 04:23:51 functional:632] Model was constructed with shape (None, 100) for input KerasTensor(type_spec=TensorSpec(shape=(None, 100), dtype=tf.float32, name='text_embd_cart_adds'), name='text_embd_cart_adds', description=\"created by layer 'text_embd_cart_adds'\"), but it was called on an input with incompatible shape (None, 1).\n"
     ]
    },
    {
     "name": "stdout",
     "output_type": "stream",
     "text": [
      "WARNING:tensorflow:Model was constructed with shape (None, 100) for input KerasTensor(type_spec=TensorSpec(shape=(None, 100), dtype=tf.float32, name='text_embd_event'), name='text_embd_event', description=\"created by layer 'text_embd_event'\"), but it was called on an input with incompatible shape (None, 1).\n"
     ]
    },
    {
     "name": "stderr",
     "output_type": "stream",
     "text": [
      "[W 211209 04:23:51 functional:632] Model was constructed with shape (None, 100) for input KerasTensor(type_spec=TensorSpec(shape=(None, 100), dtype=tf.float32, name='text_embd_event'), name='text_embd_event', description=\"created by layer 'text_embd_event'\"), but it was called on an input with incompatible shape (None, 1).\n"
     ]
    },
    {
     "name": "stdout",
     "output_type": "stream",
     "text": [
      "WARNING:tensorflow:Model was constructed with shape (None, 100) for input KerasTensor(type_spec=TensorSpec(shape=(None, 100), dtype=tf.float32, name='text_embd_style_views'), name='text_embd_style_views', description=\"created by layer 'text_embd_style_views'\"), but it was called on an input with incompatible shape (None, 1).\n"
     ]
    },
    {
     "name": "stderr",
     "output_type": "stream",
     "text": [
      "[W 211209 04:23:51 functional:632] Model was constructed with shape (None, 100) for input KerasTensor(type_spec=TensorSpec(shape=(None, 100), dtype=tf.float32, name='text_embd_style_views'), name='text_embd_style_views', description=\"created by layer 'text_embd_style_views'\"), but it was called on an input with incompatible shape (None, 1).\n"
     ]
    },
    {
     "name": "stdout",
     "output_type": "stream",
     "text": [
      "WARNING:tensorflow:Model was constructed with shape (None, 20) for input KerasTensor(type_spec=TensorSpec(shape=(None, 20), dtype=tf.float32, name='cust_msrp_iqr_ppt'), name='cust_msrp_iqr_ppt', description=\"created by layer 'cust_msrp_iqr_ppt'\"), but it was called on an input with incompatible shape (None, 1).\n"
     ]
    },
    {
     "name": "stderr",
     "output_type": "stream",
     "text": [
      "[W 211209 04:23:52 functional:632] Model was constructed with shape (None, 20) for input KerasTensor(type_spec=TensorSpec(shape=(None, 20), dtype=tf.float32, name='cust_msrp_iqr_ppt'), name='cust_msrp_iqr_ppt', description=\"created by layer 'cust_msrp_iqr_ppt'\"), but it was called on an input with incompatible shape (None, 1).\n"
     ]
    },
    {
     "name": "stdout",
     "output_type": "stream",
     "text": [
      "WARNING:tensorflow:Model was constructed with shape (None, 20) for input KerasTensor(type_spec=TensorSpec(shape=(None, 20), dtype=tf.float32, name='cust_msrp_median_ppt'), name='cust_msrp_median_ppt', description=\"created by layer 'cust_msrp_median_ppt'\"), but it was called on an input with incompatible shape (None, 1).\n"
     ]
    },
    {
     "name": "stderr",
     "output_type": "stream",
     "text": [
      "[W 211209 04:23:52 functional:632] Model was constructed with shape (None, 20) for input KerasTensor(type_spec=TensorSpec(shape=(None, 20), dtype=tf.float32, name='cust_msrp_median_ppt'), name='cust_msrp_median_ppt', description=\"created by layer 'cust_msrp_median_ppt'\"), but it was called on an input with incompatible shape (None, 1).\n"
     ]
    },
    {
     "name": "stdout",
     "output_type": "stream",
     "text": [
      "WARNING:tensorflow:Model was constructed with shape (None, 20) for input KerasTensor(type_spec=TensorSpec(shape=(None, 20), dtype=tf.float32, name='cust_price_iqr_ppt'), name='cust_price_iqr_ppt', description=\"created by layer 'cust_price_iqr_ppt'\"), but it was called on an input with incompatible shape (None, 1).\n"
     ]
    },
    {
     "name": "stderr",
     "output_type": "stream",
     "text": [
      "[W 211209 04:23:52 functional:632] Model was constructed with shape (None, 20) for input KerasTensor(type_spec=TensorSpec(shape=(None, 20), dtype=tf.float32, name='cust_price_iqr_ppt'), name='cust_price_iqr_ppt', description=\"created by layer 'cust_price_iqr_ppt'\"), but it was called on an input with incompatible shape (None, 1).\n"
     ]
    },
    {
     "name": "stdout",
     "output_type": "stream",
     "text": [
      "WARNING:tensorflow:Model was constructed with shape (None, 20) for input KerasTensor(type_spec=TensorSpec(shape=(None, 20), dtype=tf.float32, name='cust_price_median_ppt'), name='cust_price_median_ppt', description=\"created by layer 'cust_price_median_ppt'\"), but it was called on an input with incompatible shape (None, 1).\n"
     ]
    },
    {
     "name": "stderr",
     "output_type": "stream",
     "text": [
      "[W 211209 04:23:52 functional:632] Model was constructed with shape (None, 20) for input KerasTensor(type_spec=TensorSpec(shape=(None, 20), dtype=tf.float32, name='cust_price_median_ppt'), name='cust_price_median_ppt', description=\"created by layer 'cust_price_median_ppt'\"), but it was called on an input with incompatible shape (None, 1).\n"
     ]
    },
    {
     "name": "stdout",
     "output_type": "stream",
     "text": [
      "WARNING:tensorflow:Model was constructed with shape (None, 8) for input KerasTensor(type_spec=TensorSpec(shape=(None, 8), dtype=tf.float32, name='customer_age'), name='customer_age', description=\"created by layer 'customer_age'\"), but it was called on an input with incompatible shape (None, 1).\n"
     ]
    },
    {
     "name": "stderr",
     "output_type": "stream",
     "text": [
      "[W 211209 04:23:52 functional:632] Model was constructed with shape (None, 8) for input KerasTensor(type_spec=TensorSpec(shape=(None, 8), dtype=tf.float32, name='customer_age'), name='customer_age', description=\"created by layer 'customer_age'\"), but it was called on an input with incompatible shape (None, 1).\n"
     ]
    },
    {
     "name": "stdout",
     "output_type": "stream",
     "text": [
      "WARNING:tensorflow:Model was constructed with shape (None, 4) for input KerasTensor(type_spec=TensorSpec(shape=(None, 4), dtype=tf.float32, name='customer_gender'), name='customer_gender', description=\"created by layer 'customer_gender'\"), but it was called on an input with incompatible shape (None, 1).\n"
     ]
    },
    {
     "name": "stderr",
     "output_type": "stream",
     "text": [
      "[W 211209 04:23:52 functional:632] Model was constructed with shape (None, 4) for input KerasTensor(type_spec=TensorSpec(shape=(None, 4), dtype=tf.float32, name='customer_gender'), name='customer_gender', description=\"created by layer 'customer_gender'\"), but it was called on an input with incompatible shape (None, 1).\n"
     ]
    },
    {
     "name": "stdout",
     "output_type": "stream",
     "text": [
      "WARNING:tensorflow:Model was constructed with shape (None, 8) for input KerasTensor(type_spec=TensorSpec(shape=(None, 8), dtype=tf.float32, name='event_age'), name='event_age', description=\"created by layer 'event_age'\"), but it was called on an input with incompatible shape (None, 1).\n"
     ]
    },
    {
     "name": "stderr",
     "output_type": "stream",
     "text": [
      "[W 211209 04:23:52 functional:632] Model was constructed with shape (None, 8) for input KerasTensor(type_spec=TensorSpec(shape=(None, 8), dtype=tf.float32, name='event_age'), name='event_age', description=\"created by layer 'event_age'\"), but it was called on an input with incompatible shape (None, 1).\n"
     ]
    },
    {
     "name": "stdout",
     "output_type": "stream",
     "text": [
      "WARNING:tensorflow:Model was constructed with shape (None, 4) for input KerasTensor(type_spec=TensorSpec(shape=(None, 4), dtype=tf.float32, name='event_gender'), name='event_gender', description=\"created by layer 'event_gender'\"), but it was called on an input with incompatible shape (None, 1).\n"
     ]
    },
    {
     "name": "stderr",
     "output_type": "stream",
     "text": [
      "[W 211209 04:23:52 functional:632] Model was constructed with shape (None, 4) for input KerasTensor(type_spec=TensorSpec(shape=(None, 4), dtype=tf.float32, name='event_gender'), name='event_gender', description=\"created by layer 'event_gender'\"), but it was called on an input with incompatible shape (None, 1).\n"
     ]
    },
    {
     "name": "stdout",
     "output_type": "stream",
     "text": [
      "WARNING:tensorflow:Model was constructed with shape (None, 100) for input KerasTensor(type_spec=TensorSpec(shape=(None, 100), dtype=tf.float32, name='text_embd_cart_adds'), name='text_embd_cart_adds', description=\"created by layer 'text_embd_cart_adds'\"), but it was called on an input with incompatible shape (None, 1).\n"
     ]
    },
    {
     "name": "stderr",
     "output_type": "stream",
     "text": [
      "[W 211209 04:23:52 functional:632] Model was constructed with shape (None, 100) for input KerasTensor(type_spec=TensorSpec(shape=(None, 100), dtype=tf.float32, name='text_embd_cart_adds'), name='text_embd_cart_adds', description=\"created by layer 'text_embd_cart_adds'\"), but it was called on an input with incompatible shape (None, 1).\n"
     ]
    },
    {
     "name": "stdout",
     "output_type": "stream",
     "text": [
      "WARNING:tensorflow:Model was constructed with shape (None, 100) for input KerasTensor(type_spec=TensorSpec(shape=(None, 100), dtype=tf.float32, name='text_embd_event'), name='text_embd_event', description=\"created by layer 'text_embd_event'\"), but it was called on an input with incompatible shape (None, 1).\n"
     ]
    },
    {
     "name": "stderr",
     "output_type": "stream",
     "text": [
      "[W 211209 04:23:52 functional:632] Model was constructed with shape (None, 100) for input KerasTensor(type_spec=TensorSpec(shape=(None, 100), dtype=tf.float32, name='text_embd_event'), name='text_embd_event', description=\"created by layer 'text_embd_event'\"), but it was called on an input with incompatible shape (None, 1).\n"
     ]
    },
    {
     "name": "stdout",
     "output_type": "stream",
     "text": [
      "WARNING:tensorflow:Model was constructed with shape (None, 100) for input KerasTensor(type_spec=TensorSpec(shape=(None, 100), dtype=tf.float32, name='text_embd_style_views'), name='text_embd_style_views', description=\"created by layer 'text_embd_style_views'\"), but it was called on an input with incompatible shape (None, 1).\n"
     ]
    },
    {
     "name": "stderr",
     "output_type": "stream",
     "text": [
      "[W 211209 04:23:52 functional:632] Model was constructed with shape (None, 100) for input KerasTensor(type_spec=TensorSpec(shape=(None, 100), dtype=tf.float32, name='text_embd_style_views'), name='text_embd_style_views', description=\"created by layer 'text_embd_style_views'\"), but it was called on an input with incompatible shape (None, 1).\n"
     ]
    },
    {
     "ename": "InvalidArgumentError",
     "evalue": " Key: text_embd_style_views.  Can't parse serialized Example.\n\t [[{{node ParseSingleExample/ParseExample/ParseExampleV2}}]]\n\t [[IteratorGetNext]] [Op:__inference_train_function_3437]\n\nFunction call stack:\ntrain_function\n",
     "output_type": "error",
     "traceback": [
      "\u001b[0;31m---------------------------------------------------------------------------\u001b[0m",
      "\u001b[0;31mInvalidArgumentError\u001b[0m                      Traceback (most recent call last)",
      "\u001b[0;32m<ipython-input-15-72da2bb14074>\u001b[0m in \u001b[0;36m<module>\u001b[0;34m\u001b[0m\n\u001b[1;32m      6\u001b[0m     \u001b[0;31m#cached_validation_ds = validation_data.cache()\u001b[0m\u001b[0;34m\u001b[0m\u001b[0;34m\u001b[0m\u001b[0;34m\u001b[0m\u001b[0m\n\u001b[1;32m      7\u001b[0m     \u001b[0;31m# Fit the model\u001b[0m\u001b[0;34m\u001b[0m\u001b[0;34m\u001b[0m\u001b[0;34m\u001b[0m\u001b[0m\n\u001b[0;32m----> 8\u001b[0;31m     \u001b[0mmodel_history\u001b[0m \u001b[0;34m=\u001b[0m \u001b[0msort_model\u001b[0m\u001b[0;34m.\u001b[0m\u001b[0mfit\u001b[0m\u001b[0;34m(\u001b[0m\u001b[0mtraining_data\u001b[0m\u001b[0;34m,\u001b[0m \u001b[0mvalidation_data\u001b[0m\u001b[0;34m=\u001b[0m\u001b[0mvalidation_data\u001b[0m\u001b[0;34m,\u001b[0m \u001b[0mepochs\u001b[0m\u001b[0;34m=\u001b[0m\u001b[0mnum_epochs\u001b[0m\u001b[0;34m,\u001b[0m \u001b[0mcallbacks\u001b[0m\u001b[0;34m=\u001b[0m\u001b[0mcallbacks\u001b[0m\u001b[0;34m)\u001b[0m\u001b[0;34m\u001b[0m\u001b[0;34m\u001b[0m\u001b[0m\n\u001b[0m\u001b[1;32m      9\u001b[0m     \u001b[0;31m# Log time taken to fit model\u001b[0m\u001b[0;34m\u001b[0m\u001b[0;34m\u001b[0m\u001b[0;34m\u001b[0m\u001b[0m\n\u001b[1;32m     10\u001b[0m     \u001b[0mmodeldb_expt_run\u001b[0m\u001b[0;34m.\u001b[0m\u001b[0mlog_metric\u001b[0m\u001b[0;34m(\u001b[0m\u001b[0;34m'model_fit_run_duration_in_secs'\u001b[0m\u001b[0;34m,\u001b[0m \u001b[0;34m(\u001b[0m\u001b[0mtime\u001b[0m\u001b[0;34m.\u001b[0m\u001b[0mtime\u001b[0m\u001b[0;34m(\u001b[0m\u001b[0;34m)\u001b[0m \u001b[0;34m-\u001b[0m \u001b[0mstart_time\u001b[0m\u001b[0;34m)\u001b[0m\u001b[0;34m)\u001b[0m\u001b[0;34m\u001b[0m\u001b[0;34m\u001b[0m\u001b[0m\n",
      "\u001b[0;32m/opt/conda/lib/python3.8/site-packages/tensorflow/python/keras/engine/training.py\u001b[0m in \u001b[0;36mfit\u001b[0;34m(self, x, y, batch_size, epochs, verbose, callbacks, validation_split, validation_data, shuffle, class_weight, sample_weight, initial_epoch, steps_per_epoch, validation_steps, validation_batch_size, validation_freq, max_queue_size, workers, use_multiprocessing)\u001b[0m\n\u001b[1;32m   1181\u001b[0m                 _r=1):\n\u001b[1;32m   1182\u001b[0m               \u001b[0mcallbacks\u001b[0m\u001b[0;34m.\u001b[0m\u001b[0mon_train_batch_begin\u001b[0m\u001b[0;34m(\u001b[0m\u001b[0mstep\u001b[0m\u001b[0;34m)\u001b[0m\u001b[0;34m\u001b[0m\u001b[0;34m\u001b[0m\u001b[0m\n\u001b[0;32m-> 1183\u001b[0;31m               \u001b[0mtmp_logs\u001b[0m \u001b[0;34m=\u001b[0m \u001b[0mself\u001b[0m\u001b[0;34m.\u001b[0m\u001b[0mtrain_function\u001b[0m\u001b[0;34m(\u001b[0m\u001b[0miterator\u001b[0m\u001b[0;34m)\u001b[0m\u001b[0;34m\u001b[0m\u001b[0;34m\u001b[0m\u001b[0m\n\u001b[0m\u001b[1;32m   1184\u001b[0m               \u001b[0;32mif\u001b[0m \u001b[0mdata_handler\u001b[0m\u001b[0;34m.\u001b[0m\u001b[0mshould_sync\u001b[0m\u001b[0;34m:\u001b[0m\u001b[0;34m\u001b[0m\u001b[0;34m\u001b[0m\u001b[0m\n\u001b[1;32m   1185\u001b[0m                 \u001b[0mcontext\u001b[0m\u001b[0;34m.\u001b[0m\u001b[0masync_wait\u001b[0m\u001b[0;34m(\u001b[0m\u001b[0;34m)\u001b[0m\u001b[0;34m\u001b[0m\u001b[0;34m\u001b[0m\u001b[0m\n",
      "\u001b[0;32m/opt/conda/lib/python3.8/site-packages/tensorflow/python/eager/def_function.py\u001b[0m in \u001b[0;36m__call__\u001b[0;34m(self, *args, **kwds)\u001b[0m\n\u001b[1;32m    887\u001b[0m \u001b[0;34m\u001b[0m\u001b[0m\n\u001b[1;32m    888\u001b[0m       \u001b[0;32mwith\u001b[0m \u001b[0mOptionalXlaContext\u001b[0m\u001b[0;34m(\u001b[0m\u001b[0mself\u001b[0m\u001b[0;34m.\u001b[0m\u001b[0m_jit_compile\u001b[0m\u001b[0;34m)\u001b[0m\u001b[0;34m:\u001b[0m\u001b[0;34m\u001b[0m\u001b[0;34m\u001b[0m\u001b[0m\n\u001b[0;32m--> 889\u001b[0;31m         \u001b[0mresult\u001b[0m \u001b[0;34m=\u001b[0m \u001b[0mself\u001b[0m\u001b[0;34m.\u001b[0m\u001b[0m_call\u001b[0m\u001b[0;34m(\u001b[0m\u001b[0;34m*\u001b[0m\u001b[0margs\u001b[0m\u001b[0;34m,\u001b[0m \u001b[0;34m**\u001b[0m\u001b[0mkwds\u001b[0m\u001b[0;34m)\u001b[0m\u001b[0;34m\u001b[0m\u001b[0;34m\u001b[0m\u001b[0m\n\u001b[0m\u001b[1;32m    890\u001b[0m \u001b[0;34m\u001b[0m\u001b[0m\n\u001b[1;32m    891\u001b[0m       \u001b[0mnew_tracing_count\u001b[0m \u001b[0;34m=\u001b[0m \u001b[0mself\u001b[0m\u001b[0;34m.\u001b[0m\u001b[0mexperimental_get_tracing_count\u001b[0m\u001b[0;34m(\u001b[0m\u001b[0;34m)\u001b[0m\u001b[0;34m\u001b[0m\u001b[0;34m\u001b[0m\u001b[0m\n",
      "\u001b[0;32m/opt/conda/lib/python3.8/site-packages/tensorflow/python/eager/def_function.py\u001b[0m in \u001b[0;36m_call\u001b[0;34m(self, *args, **kwds)\u001b[0m\n\u001b[1;32m    948\u001b[0m         \u001b[0;31m# Lifting succeeded, so variables are initialized and we can run the\u001b[0m\u001b[0;34m\u001b[0m\u001b[0;34m\u001b[0m\u001b[0;34m\u001b[0m\u001b[0m\n\u001b[1;32m    949\u001b[0m         \u001b[0;31m# stateless function.\u001b[0m\u001b[0;34m\u001b[0m\u001b[0;34m\u001b[0m\u001b[0;34m\u001b[0m\u001b[0m\n\u001b[0;32m--> 950\u001b[0;31m         \u001b[0;32mreturn\u001b[0m \u001b[0mself\u001b[0m\u001b[0;34m.\u001b[0m\u001b[0m_stateless_fn\u001b[0m\u001b[0;34m(\u001b[0m\u001b[0;34m*\u001b[0m\u001b[0margs\u001b[0m\u001b[0;34m,\u001b[0m \u001b[0;34m**\u001b[0m\u001b[0mkwds\u001b[0m\u001b[0;34m)\u001b[0m\u001b[0;34m\u001b[0m\u001b[0;34m\u001b[0m\u001b[0m\n\u001b[0m\u001b[1;32m    951\u001b[0m     \u001b[0;32melse\u001b[0m\u001b[0;34m:\u001b[0m\u001b[0;34m\u001b[0m\u001b[0;34m\u001b[0m\u001b[0m\n\u001b[1;32m    952\u001b[0m       \u001b[0m_\u001b[0m\u001b[0;34m,\u001b[0m \u001b[0m_\u001b[0m\u001b[0;34m,\u001b[0m \u001b[0m_\u001b[0m\u001b[0;34m,\u001b[0m \u001b[0mfiltered_flat_args\u001b[0m \u001b[0;34m=\u001b[0m\u001b[0;31m \u001b[0m\u001b[0;31m\\\u001b[0m\u001b[0;34m\u001b[0m\u001b[0;34m\u001b[0m\u001b[0m\n",
      "\u001b[0;32m/opt/conda/lib/python3.8/site-packages/tensorflow/python/eager/function.py\u001b[0m in \u001b[0;36m__call__\u001b[0;34m(self, *args, **kwargs)\u001b[0m\n\u001b[1;32m   3021\u001b[0m       (graph_function,\n\u001b[1;32m   3022\u001b[0m        filtered_flat_args) = self._maybe_define_function(args, kwargs)\n\u001b[0;32m-> 3023\u001b[0;31m     return graph_function._call_flat(\n\u001b[0m\u001b[1;32m   3024\u001b[0m         filtered_flat_args, captured_inputs=graph_function.captured_inputs)  # pylint: disable=protected-access\n\u001b[1;32m   3025\u001b[0m \u001b[0;34m\u001b[0m\u001b[0m\n",
      "\u001b[0;32m/opt/conda/lib/python3.8/site-packages/tensorflow/python/eager/function.py\u001b[0m in \u001b[0;36m_call_flat\u001b[0;34m(self, args, captured_inputs, cancellation_manager)\u001b[0m\n\u001b[1;32m   1958\u001b[0m         and executing_eagerly):\n\u001b[1;32m   1959\u001b[0m       \u001b[0;31m# No tape is watching; skip to running the function.\u001b[0m\u001b[0;34m\u001b[0m\u001b[0;34m\u001b[0m\u001b[0;34m\u001b[0m\u001b[0m\n\u001b[0;32m-> 1960\u001b[0;31m       return self._build_call_outputs(self._inference_function.call(\n\u001b[0m\u001b[1;32m   1961\u001b[0m           ctx, args, cancellation_manager=cancellation_manager))\n\u001b[1;32m   1962\u001b[0m     forward_backward = self._select_forward_and_backward_functions(\n",
      "\u001b[0;32m/opt/conda/lib/python3.8/site-packages/tensorflow/python/eager/function.py\u001b[0m in \u001b[0;36mcall\u001b[0;34m(self, ctx, args, cancellation_manager)\u001b[0m\n\u001b[1;32m    589\u001b[0m       \u001b[0;32mwith\u001b[0m \u001b[0m_InterpolateFunctionError\u001b[0m\u001b[0;34m(\u001b[0m\u001b[0mself\u001b[0m\u001b[0;34m)\u001b[0m\u001b[0;34m:\u001b[0m\u001b[0;34m\u001b[0m\u001b[0;34m\u001b[0m\u001b[0m\n\u001b[1;32m    590\u001b[0m         \u001b[0;32mif\u001b[0m \u001b[0mcancellation_manager\u001b[0m \u001b[0;32mis\u001b[0m \u001b[0;32mNone\u001b[0m\u001b[0;34m:\u001b[0m\u001b[0;34m\u001b[0m\u001b[0;34m\u001b[0m\u001b[0m\n\u001b[0;32m--> 591\u001b[0;31m           outputs = execute.execute(\n\u001b[0m\u001b[1;32m    592\u001b[0m               \u001b[0mstr\u001b[0m\u001b[0;34m(\u001b[0m\u001b[0mself\u001b[0m\u001b[0;34m.\u001b[0m\u001b[0msignature\u001b[0m\u001b[0;34m.\u001b[0m\u001b[0mname\u001b[0m\u001b[0;34m)\u001b[0m\u001b[0;34m,\u001b[0m\u001b[0;34m\u001b[0m\u001b[0;34m\u001b[0m\u001b[0m\n\u001b[1;32m    593\u001b[0m               \u001b[0mnum_outputs\u001b[0m\u001b[0;34m=\u001b[0m\u001b[0mself\u001b[0m\u001b[0;34m.\u001b[0m\u001b[0m_num_outputs\u001b[0m\u001b[0;34m,\u001b[0m\u001b[0;34m\u001b[0m\u001b[0;34m\u001b[0m\u001b[0m\n",
      "\u001b[0;32m/opt/conda/lib/python3.8/site-packages/tensorflow/python/eager/execute.py\u001b[0m in \u001b[0;36mquick_execute\u001b[0;34m(op_name, num_outputs, inputs, attrs, ctx, name)\u001b[0m\n\u001b[1;32m     57\u001b[0m   \u001b[0;32mtry\u001b[0m\u001b[0;34m:\u001b[0m\u001b[0;34m\u001b[0m\u001b[0;34m\u001b[0m\u001b[0m\n\u001b[1;32m     58\u001b[0m     \u001b[0mctx\u001b[0m\u001b[0;34m.\u001b[0m\u001b[0mensure_initialized\u001b[0m\u001b[0;34m(\u001b[0m\u001b[0;34m)\u001b[0m\u001b[0;34m\u001b[0m\u001b[0;34m\u001b[0m\u001b[0m\n\u001b[0;32m---> 59\u001b[0;31m     tensors = pywrap_tfe.TFE_Py_Execute(ctx._handle, device_name, op_name,\n\u001b[0m\u001b[1;32m     60\u001b[0m                                         inputs, attrs, num_outputs)\n\u001b[1;32m     61\u001b[0m   \u001b[0;32mexcept\u001b[0m \u001b[0mcore\u001b[0m\u001b[0;34m.\u001b[0m\u001b[0m_NotOkStatusException\u001b[0m \u001b[0;32mas\u001b[0m \u001b[0me\u001b[0m\u001b[0;34m:\u001b[0m\u001b[0;34m\u001b[0m\u001b[0;34m\u001b[0m\u001b[0m\n",
      "\u001b[0;31mInvalidArgumentError\u001b[0m:  Key: text_embd_style_views.  Can't parse serialized Example.\n\t [[{{node ParseSingleExample/ParseExample/ParseExampleV2}}]]\n\t [[IteratorGetNext]] [Op:__inference_train_function_3437]\n\nFunction call stack:\ntrain_function\n"
     ]
    }
   ],
   "source": [
    "# fairing:include-cell\n",
    "# Start the training process\n",
    "try:\n",
    "    start_time = time.time()  \n",
    "    #cached_ds = training_data.cache()\n",
    "    #cached_validation_ds = validation_data.cache()\n",
    "    # Fit the model\n",
    "    model_history = sort_model.fit(training_data, validation_data=validation_data, epochs=num_epochs, callbacks=callbacks)\n",
    "    # Log time taken to fit model\n",
    "    modeldb_expt_run.log_metric('model_fit_run_duration_in_secs', (time.time() - start_time))            \n",
    "    # Save Model\n",
    "    model_save_path = os.path.join(model_data_path_prefix, 'saved_model/')\n",
    "    sort_model.save(model_save_path)\n",
    "    # But reload model from checkpoint (lowest validation loss) to generate validation performance\n",
    "    model_checkpoint_path = os.path.join(model_data_path_prefix, 'checkpoints/')\n",
    "    if use_checkpointed_model:\n",
    "        # But reload model from checkpoint (lowest validation loss) to generate validation performance        \n",
    "        sort_model.load_weights(model_checkpoint_path)    \n",
    "    # Log other metrics from model including validation data performance\n",
    "    log_model_metrics(modeldb_expt_run, sort_model, model_save_path, model_checkpoint_path, validation_data)\n",
    "    modeldb_expt_run.log_tag('success')\n",
    "except:\n",
    "    modeldb_expt_run.log_tag('failed_run')\n",
    "    raise"
   ]
  },
  {
   "cell_type": "markdown",
   "metadata": {
    "tags": []
   },
   "source": [
    "## Evaluate Performance of Model"
   ]
  },
  {
   "cell_type": "code",
   "execution_count": 204,
   "metadata": {},
   "outputs": [
    {
     "name": "stderr",
     "output_type": "stream",
     "text": [
      "/opt/conda/lib/python3.8/site-packages/tensorflow/python/keras/engine/functional.py:588: UserWarning: Input dict contained keys ['customer_id', 'event_id', 'event_position', 'new_today', 'send_date'] which did not match any model input. They will be ignored by the model.\n",
      "  warnings.warn(\n"
     ]
    },
    {
     "name": "stdout",
     "output_type": "stream",
     "text": [
      "1/1 [==============================] - 2s 2s/step\n",
      "Time taken for generating labels is 2.773676633834839secs\n"
     ]
    }
   ],
   "source": [
    "# fairing:include-cell\n",
    "st = time.time()\n",
    "\n",
    "# Get predicted labels for validation data\n",
    "pred_indices_raw = sort_model.predict(validation_data, verbose=1)\n",
    "pred_indices = (pred_indices_raw > 0.5)\n",
    "\n",
    "# Get true labels for test data\n",
    "iterator = validation_data.as_numpy_iterator()\n",
    "true_labels = np.array([])\n",
    "for x in iterator:\n",
    "    true_labels = np.append(true_labels, x[-1])\n",
    "print(\"Time taken for generating labels is {}secs\".format(time.time() - st))"
   ]
  },
  {
   "cell_type": "code",
   "execution_count": 205,
   "metadata": {},
   "outputs": [
    {
     "name": "stdout",
     "output_type": "stream",
     "text": [
      "I am here\n"
     ]
    }
   ],
   "source": [
    "print('I am here')"
   ]
  },
  {
   "cell_type": "code",
   "execution_count": 206,
   "metadata": {},
   "outputs": [
    {
     "name": "stdout",
     "output_type": "stream",
     "text": [
      "              precision    recall  f1-score   support\n",
      "\n",
      "     class 0       0.65      0.86      0.74      1011\n",
      "     class 1       0.80      0.56      0.65      1037\n",
      "\n",
      "    accuracy                           0.70      2048\n",
      "   macro avg       0.73      0.71      0.70      2048\n",
      "weighted avg       0.73      0.70      0.70      2048\n",
      "\n",
      "upload complete (ROC)\n",
      "upload complete (PR)\n",
      "upload complete (confusion_matrix)\n",
      "upload complete (confusion_matrix_normalized)\n"
     ]
    },
    {
     "data": {
      "image/png": "[encoded data removed]",
      "text/plain": [
       "<Figure size 360x360 with 1 Axes>"
      ]
     },
     "metadata": {
      "needs_background": "light"
     },
     "output_type": "display_data"
    },
    {
     "data": {
      "image/png": "[encoded data removed]",
      "text/plain": [
       "<Figure size 360x360 with 1 Axes>"
      ]
     },
     "metadata": {
      "needs_background": "light"
     },
     "output_type": "display_data"
    },
    {
     "data": {
      "image/png": "[encoded data removed]",
      "text/plain": [
       "<Figure size 360x360 with 2 Axes>"
      ]
     },
     "metadata": {
      "needs_background": "light"
     },
     "output_type": "display_data"
    },
    {
     "data": {
      "image/png": "[encoded data removed]",
      "text/plain": [
       "<Figure size 360x360 with 2 Axes>"
      ]
     },
     "metadata": {
      "needs_background": "light"
     },
     "output_type": "display_data"
    }
   ],
   "source": [
    "# fairing:include-cell\n",
    "# Making sure directory is removed if already exists\n",
    "if os.path.exists('/tmp/plots'):        \n",
    "    shutil.rmtree('/tmp/plots')\n",
    "os.mkdir('/tmp/plots')\n",
    "\n",
    "target_names = ['class 0', 'class 1']\n",
    "\n",
    "# Print Some Performance Metrics\n",
    "print(classification_report(true_labels, pred_indices, target_names = target_names, zero_division = 0))\n",
    "cr = classification_report(true_labels, pred_indices, target_names = target_names, zero_division=0, output_dict = True)\n",
    "class_0_recall = np.around(cr['class 0']['recall'], decimals=5)\n",
    "class_1_recall = np.around(cr['class 1']['recall'], decimals=5)\n",
    "modeldb_expt_run.log_metrics({'Recall_Class_0': class_0_recall, 'Recall_Class_1': class_1_recall, })\n",
    "\n",
    "\n",
    "# Create ROC curve\n",
    "figure = plt.figure(figsize=(5, 5))\n",
    "fpr, tpr, thresholds = roc_curve(true_labels, pred_indices_raw)\n",
    "plt.plot(fpr, tpr)\n",
    "plt.title('ROC curve')\n",
    "plt.ylabel('TPR')\n",
    "plt.xlabel('FPR')\n",
    "plt.savefig('/tmp/plots/roc.png')\n",
    "modeldb_expt_run.log_artifact('ROC', '/tmp/plots/roc.png')\n",
    "\n",
    "# Create PR curve\n",
    "figure = plt.figure(figsize=(5, 5))\n",
    "precision, recall, thresholds = precision_recall_curve(true_labels, pred_indices_raw)\n",
    "plt.plot(recall, precision)\n",
    "plt.title('PR curve')\n",
    "plt.ylabel('Precision')\n",
    "plt.xlabel('Recall')\n",
    "plt.savefig('/tmp/plots/pr.png')\n",
    "modeldb_expt_run.log_artifact('PR', '/tmp/plots/pr.png')\n",
    "\n",
    "\n",
    "# Create confusion matrix\n",
    "cm = confusion_matrix(true_labels, pred_indices)\n",
    "cm_df = pd.DataFrame(cm, index = target_names, columns = target_names)\n",
    "cm_normalize_df = pd.DataFrame(normalize(cm, 'l1', axis = 1), index = target_names, columns = target_names)\n",
    "figure = plt.figure(figsize=(5, 5))\n",
    "svm = sns.heatmap(cm_df, annot=True,cmap=plt.cm.Blues)\n",
    "plt.tight_layout()\n",
    "plt.ylabel('True label')\n",
    "plt.xlabel('Predicted label')\n",
    "figure = svm.get_figure()    \n",
    "figure.savefig('/tmp/plots/cm.png')\n",
    "\n",
    "figure = plt.figure(figsize=(5, 5))\n",
    "svm = sns.heatmap(cm_normalize_df, annot=True,cmap=plt.cm.Blues)\n",
    "plt.tight_layout()\n",
    "plt.ylabel('True label')\n",
    "plt.xlabel('Predicted label')\n",
    "figure = svm.get_figure()    \n",
    "figure.savefig('/tmp/plots/cm_norm.png')\n",
    "\n",
    "# Saving confusion_matrix\n",
    "modeldb_expt_run.log_artifact('confusion_matrix', '/tmp/plots/cm.png')\n",
    "modeldb_expt_run.log_artifact('confusion_matrix_normalized', '/tmp/plots/cm_norm.png')"
   ]
  },
  {
   "cell_type": "code",
   "execution_count": 207,
   "metadata": {},
   "outputs": [
    {
     "name": "stderr",
     "output_type": "stream",
     "text": [
      "/opt/conda/lib/python3.8/site-packages/tensorflow/python/keras/engine/functional.py:588: UserWarning: Input dict contained keys ['customer_id', 'event_id', 'event_position', 'new_today', 'send_date'] which did not match any model input. They will be ignored by the model.\n",
      "  warnings.warn(\n"
     ]
    },
    {
     "ename": "UnimplementedError",
     "evalue": " Cast int64 to string is not supported\n\t [[node model_12/Cast (defined at <ipython-input-207-dfdef1f1ce28>:9) ]] [Op:__inference_predict_function_81440]\n\nFunction call stack:\npredict_function\n",
     "output_type": "error",
     "traceback": [
      "\u001b[0;31m---------------------------------------------------------------------------\u001b[0m",
      "\u001b[0;31mUnimplementedError\u001b[0m                        Traceback (most recent call last)",
      "\u001b[0;32m<ipython-input-207-dfdef1f1ce28>\u001b[0m in \u001b[0;36m<module>\u001b[0;34m\u001b[0m\n\u001b[1;32m      7\u001b[0m \u001b[0;31m# Get predictions from the model\u001b[0m\u001b[0;34m\u001b[0m\u001b[0;34m\u001b[0m\u001b[0;34m\u001b[0m\u001b[0m\n\u001b[1;32m      8\u001b[0m \u001b[0mst\u001b[0m \u001b[0;34m=\u001b[0m \u001b[0mtime\u001b[0m\u001b[0;34m.\u001b[0m\u001b[0mtime\u001b[0m\u001b[0;34m(\u001b[0m\u001b[0;34m)\u001b[0m\u001b[0;34m\u001b[0m\u001b[0;34m\u001b[0m\u001b[0m\n\u001b[0;32m----> 9\u001b[0;31m \u001b[0mmodel_predictions\u001b[0m \u001b[0;34m=\u001b[0m \u001b[0msort_model\u001b[0m\u001b[0;34m.\u001b[0m\u001b[0mpredict\u001b[0m\u001b[0;34m(\u001b[0m\u001b[0mtest_data\u001b[0m\u001b[0;34m,\u001b[0m \u001b[0mverbose\u001b[0m\u001b[0;34m=\u001b[0m\u001b[0;36m1\u001b[0m\u001b[0;34m)\u001b[0m\u001b[0;34m\u001b[0m\u001b[0;34m\u001b[0m\u001b[0m\n\u001b[0m\u001b[1;32m     10\u001b[0m \u001b[0mprint\u001b[0m\u001b[0;34m(\u001b[0m\u001b[0;34m'Process took {}secs'\u001b[0m\u001b[0;34m.\u001b[0m\u001b[0mformat\u001b[0m\u001b[0;34m(\u001b[0m\u001b[0mtime\u001b[0m\u001b[0;34m.\u001b[0m\u001b[0mtime\u001b[0m\u001b[0;34m(\u001b[0m\u001b[0;34m)\u001b[0m \u001b[0;34m-\u001b[0m \u001b[0mst\u001b[0m\u001b[0;34m)\u001b[0m\u001b[0;34m)\u001b[0m\u001b[0;34m\u001b[0m\u001b[0;34m\u001b[0m\u001b[0m\n\u001b[1;32m     11\u001b[0m \u001b[0;34m\u001b[0m\u001b[0m\n",
      "\u001b[0;32m/opt/conda/lib/python3.8/site-packages/tensorflow/python/keras/engine/training.py\u001b[0m in \u001b[0;36mpredict\u001b[0;34m(self, x, batch_size, verbose, steps, callbacks, max_queue_size, workers, use_multiprocessing)\u001b[0m\n\u001b[1;32m   1725\u001b[0m           \u001b[0;32mfor\u001b[0m \u001b[0mstep\u001b[0m \u001b[0;32min\u001b[0m \u001b[0mdata_handler\u001b[0m\u001b[0;34m.\u001b[0m\u001b[0msteps\u001b[0m\u001b[0;34m(\u001b[0m\u001b[0;34m)\u001b[0m\u001b[0;34m:\u001b[0m\u001b[0;34m\u001b[0m\u001b[0;34m\u001b[0m\u001b[0m\n\u001b[1;32m   1726\u001b[0m             \u001b[0mcallbacks\u001b[0m\u001b[0;34m.\u001b[0m\u001b[0mon_predict_batch_begin\u001b[0m\u001b[0;34m(\u001b[0m\u001b[0mstep\u001b[0m\u001b[0;34m)\u001b[0m\u001b[0;34m\u001b[0m\u001b[0;34m\u001b[0m\u001b[0m\n\u001b[0;32m-> 1727\u001b[0;31m             \u001b[0mtmp_batch_outputs\u001b[0m \u001b[0;34m=\u001b[0m \u001b[0mself\u001b[0m\u001b[0;34m.\u001b[0m\u001b[0mpredict_function\u001b[0m\u001b[0;34m(\u001b[0m\u001b[0miterator\u001b[0m\u001b[0;34m)\u001b[0m\u001b[0;34m\u001b[0m\u001b[0;34m\u001b[0m\u001b[0m\n\u001b[0m\u001b[1;32m   1728\u001b[0m             \u001b[0;32mif\u001b[0m \u001b[0mdata_handler\u001b[0m\u001b[0;34m.\u001b[0m\u001b[0mshould_sync\u001b[0m\u001b[0;34m:\u001b[0m\u001b[0;34m\u001b[0m\u001b[0;34m\u001b[0m\u001b[0m\n\u001b[1;32m   1729\u001b[0m               \u001b[0mcontext\u001b[0m\u001b[0;34m.\u001b[0m\u001b[0masync_wait\u001b[0m\u001b[0;34m(\u001b[0m\u001b[0;34m)\u001b[0m\u001b[0;34m\u001b[0m\u001b[0;34m\u001b[0m\u001b[0m\n",
      "\u001b[0;32m/opt/conda/lib/python3.8/site-packages/tensorflow/python/eager/def_function.py\u001b[0m in \u001b[0;36m__call__\u001b[0;34m(self, *args, **kwds)\u001b[0m\n\u001b[1;32m    887\u001b[0m \u001b[0;34m\u001b[0m\u001b[0m\n\u001b[1;32m    888\u001b[0m       \u001b[0;32mwith\u001b[0m \u001b[0mOptionalXlaContext\u001b[0m\u001b[0;34m(\u001b[0m\u001b[0mself\u001b[0m\u001b[0;34m.\u001b[0m\u001b[0m_jit_compile\u001b[0m\u001b[0;34m)\u001b[0m\u001b[0;34m:\u001b[0m\u001b[0;34m\u001b[0m\u001b[0;34m\u001b[0m\u001b[0m\n\u001b[0;32m--> 889\u001b[0;31m         \u001b[0mresult\u001b[0m \u001b[0;34m=\u001b[0m \u001b[0mself\u001b[0m\u001b[0;34m.\u001b[0m\u001b[0m_call\u001b[0m\u001b[0;34m(\u001b[0m\u001b[0;34m*\u001b[0m\u001b[0margs\u001b[0m\u001b[0;34m,\u001b[0m \u001b[0;34m**\u001b[0m\u001b[0mkwds\u001b[0m\u001b[0;34m)\u001b[0m\u001b[0;34m\u001b[0m\u001b[0;34m\u001b[0m\u001b[0m\n\u001b[0m\u001b[1;32m    890\u001b[0m \u001b[0;34m\u001b[0m\u001b[0m\n\u001b[1;32m    891\u001b[0m       \u001b[0mnew_tracing_count\u001b[0m \u001b[0;34m=\u001b[0m \u001b[0mself\u001b[0m\u001b[0;34m.\u001b[0m\u001b[0mexperimental_get_tracing_count\u001b[0m\u001b[0;34m(\u001b[0m\u001b[0;34m)\u001b[0m\u001b[0;34m\u001b[0m\u001b[0;34m\u001b[0m\u001b[0m\n",
      "\u001b[0;32m/opt/conda/lib/python3.8/site-packages/tensorflow/python/eager/def_function.py\u001b[0m in \u001b[0;36m_call\u001b[0;34m(self, *args, **kwds)\u001b[0m\n\u001b[1;32m    922\u001b[0m       \u001b[0;31m# In this case we have not created variables on the first call. So we can\u001b[0m\u001b[0;34m\u001b[0m\u001b[0;34m\u001b[0m\u001b[0;34m\u001b[0m\u001b[0m\n\u001b[1;32m    923\u001b[0m       \u001b[0;31m# run the first trace but we should fail if variables are created.\u001b[0m\u001b[0;34m\u001b[0m\u001b[0;34m\u001b[0m\u001b[0;34m\u001b[0m\u001b[0m\n\u001b[0;32m--> 924\u001b[0;31m       \u001b[0mresults\u001b[0m \u001b[0;34m=\u001b[0m \u001b[0mself\u001b[0m\u001b[0;34m.\u001b[0m\u001b[0m_stateful_fn\u001b[0m\u001b[0;34m(\u001b[0m\u001b[0;34m*\u001b[0m\u001b[0margs\u001b[0m\u001b[0;34m,\u001b[0m \u001b[0;34m**\u001b[0m\u001b[0mkwds\u001b[0m\u001b[0;34m)\u001b[0m\u001b[0;34m\u001b[0m\u001b[0;34m\u001b[0m\u001b[0m\n\u001b[0m\u001b[1;32m    925\u001b[0m       \u001b[0;32mif\u001b[0m \u001b[0mself\u001b[0m\u001b[0;34m.\u001b[0m\u001b[0m_created_variables\u001b[0m\u001b[0;34m:\u001b[0m\u001b[0;34m\u001b[0m\u001b[0;34m\u001b[0m\u001b[0m\n\u001b[1;32m    926\u001b[0m         raise ValueError(\"Creating variables on a non-first call to a function\"\n",
      "\u001b[0;32m/opt/conda/lib/python3.8/site-packages/tensorflow/python/eager/function.py\u001b[0m in \u001b[0;36m__call__\u001b[0;34m(self, *args, **kwargs)\u001b[0m\n\u001b[1;32m   3021\u001b[0m       (graph_function,\n\u001b[1;32m   3022\u001b[0m        filtered_flat_args) = self._maybe_define_function(args, kwargs)\n\u001b[0;32m-> 3023\u001b[0;31m     return graph_function._call_flat(\n\u001b[0m\u001b[1;32m   3024\u001b[0m         filtered_flat_args, captured_inputs=graph_function.captured_inputs)  # pylint: disable=protected-access\n\u001b[1;32m   3025\u001b[0m \u001b[0;34m\u001b[0m\u001b[0m\n",
      "\u001b[0;32m/opt/conda/lib/python3.8/site-packages/tensorflow/python/eager/function.py\u001b[0m in \u001b[0;36m_call_flat\u001b[0;34m(self, args, captured_inputs, cancellation_manager)\u001b[0m\n\u001b[1;32m   1958\u001b[0m         and executing_eagerly):\n\u001b[1;32m   1959\u001b[0m       \u001b[0;31m# No tape is watching; skip to running the function.\u001b[0m\u001b[0;34m\u001b[0m\u001b[0;34m\u001b[0m\u001b[0;34m\u001b[0m\u001b[0m\n\u001b[0;32m-> 1960\u001b[0;31m       return self._build_call_outputs(self._inference_function.call(\n\u001b[0m\u001b[1;32m   1961\u001b[0m           ctx, args, cancellation_manager=cancellation_manager))\n\u001b[1;32m   1962\u001b[0m     forward_backward = self._select_forward_and_backward_functions(\n",
      "\u001b[0;32m/opt/conda/lib/python3.8/site-packages/tensorflow/python/eager/function.py\u001b[0m in \u001b[0;36mcall\u001b[0;34m(self, ctx, args, cancellation_manager)\u001b[0m\n\u001b[1;32m    589\u001b[0m       \u001b[0;32mwith\u001b[0m \u001b[0m_InterpolateFunctionError\u001b[0m\u001b[0;34m(\u001b[0m\u001b[0mself\u001b[0m\u001b[0;34m)\u001b[0m\u001b[0;34m:\u001b[0m\u001b[0;34m\u001b[0m\u001b[0;34m\u001b[0m\u001b[0m\n\u001b[1;32m    590\u001b[0m         \u001b[0;32mif\u001b[0m \u001b[0mcancellation_manager\u001b[0m \u001b[0;32mis\u001b[0m \u001b[0;32mNone\u001b[0m\u001b[0;34m:\u001b[0m\u001b[0;34m\u001b[0m\u001b[0;34m\u001b[0m\u001b[0m\n\u001b[0;32m--> 591\u001b[0;31m           outputs = execute.execute(\n\u001b[0m\u001b[1;32m    592\u001b[0m               \u001b[0mstr\u001b[0m\u001b[0;34m(\u001b[0m\u001b[0mself\u001b[0m\u001b[0;34m.\u001b[0m\u001b[0msignature\u001b[0m\u001b[0;34m.\u001b[0m\u001b[0mname\u001b[0m\u001b[0;34m)\u001b[0m\u001b[0;34m,\u001b[0m\u001b[0;34m\u001b[0m\u001b[0;34m\u001b[0m\u001b[0m\n\u001b[1;32m    593\u001b[0m               \u001b[0mnum_outputs\u001b[0m\u001b[0;34m=\u001b[0m\u001b[0mself\u001b[0m\u001b[0;34m.\u001b[0m\u001b[0m_num_outputs\u001b[0m\u001b[0;34m,\u001b[0m\u001b[0;34m\u001b[0m\u001b[0;34m\u001b[0m\u001b[0m\n",
      "\u001b[0;32m/opt/conda/lib/python3.8/site-packages/tensorflow/python/eager/execute.py\u001b[0m in \u001b[0;36mquick_execute\u001b[0;34m(op_name, num_outputs, inputs, attrs, ctx, name)\u001b[0m\n\u001b[1;32m     57\u001b[0m   \u001b[0;32mtry\u001b[0m\u001b[0;34m:\u001b[0m\u001b[0;34m\u001b[0m\u001b[0;34m\u001b[0m\u001b[0m\n\u001b[1;32m     58\u001b[0m     \u001b[0mctx\u001b[0m\u001b[0;34m.\u001b[0m\u001b[0mensure_initialized\u001b[0m\u001b[0;34m(\u001b[0m\u001b[0;34m)\u001b[0m\u001b[0;34m\u001b[0m\u001b[0;34m\u001b[0m\u001b[0m\n\u001b[0;32m---> 59\u001b[0;31m     tensors = pywrap_tfe.TFE_Py_Execute(ctx._handle, device_name, op_name,\n\u001b[0m\u001b[1;32m     60\u001b[0m                                         inputs, attrs, num_outputs)\n\u001b[1;32m     61\u001b[0m   \u001b[0;32mexcept\u001b[0m \u001b[0mcore\u001b[0m\u001b[0;34m.\u001b[0m\u001b[0m_NotOkStatusException\u001b[0m \u001b[0;32mas\u001b[0m \u001b[0me\u001b[0m\u001b[0;34m:\u001b[0m\u001b[0;34m\u001b[0m\u001b[0;34m\u001b[0m\u001b[0m\n",
      "\u001b[0;31mUnimplementedError\u001b[0m:  Cast int64 to string is not supported\n\t [[node model_12/Cast (defined at <ipython-input-207-dfdef1f1ce28>:9) ]] [Op:__inference_predict_function_81440]\n\nFunction call stack:\npredict_function\n"
     ]
    }
   ],
   "source": [
    "# fairing:include-cell\n",
    "# Get LTR Metrics on a test-data set\n",
    "if os.path.exists('/tmp/data'):        \n",
    "    shutil.rmtree('/tmp/data')\n",
    "os.mkdir('/tmp/data')\n",
    "\n",
    "# Get predictions from the model\n",
    "st = time.time()\n",
    "model_predictions = sort_model.predict(test_data, verbose=1)\n",
    "print('Process took {}secs'.format(time.time() - st))\n",
    "\n",
    "# Construct a pandas dataframe with scores and target\n",
    "st = time.time()\n",
    "model_results_df = pd.DataFrame()\n",
    "for f, t in test_data:\n",
    "    temp = pd.DataFrame()\n",
    "    temp[target_name] = t\n",
    "    temp['customer_id'] = f['customer_id']\n",
    "    model_results_df = model_results_df.append(temp)\n",
    "print('Process took {}secs'.format(time.time() - st))\n",
    "model_results_df['predicted'] = model_predictions\n",
    "prediction_column = 'predicted'\n",
    "\n",
    "# Call the function to evaluate LTR metrics\n",
    "model_metrics = pd.DataFrame()\n",
    "model_hit_rate, model_ndcg = evaluation_utilities.get_ltr_metrics(model_results_df, \n",
    "                                                                         max_rank, \n",
    "                                                                         target_name, \n",
    "                                                                         prediction_column)\n",
    "\n",
    "model_metrics['hit_rate'] = model_hit_rate\n",
    "model_metrics['ndcg'] = model_ndcg\n",
    "\n",
    "modeldb_expt_run.log_metrics({'HR_10': model_hit_rate[9], 'NDCG_10': model_ndcg[9]})\n",
    "model_metrics.to_csv(f'/tmp/data/{modeldb_expt_run.name}.csv')\n",
    "modeldb_expt_run.log_artifact('LTRMetrics', f'/tmp/data/{modeldb_expt_run.name}.csv')"
   ]
  },
  {
   "cell_type": "code",
   "execution_count": null,
   "metadata": {},
   "outputs": [],
   "source": [
    "# fairing:include-cell\n",
    "modeldb_expt_run.log_metric('experiment_run_duration_in_secs', (time.time() - start_time))            "
   ]
  },
  {
   "cell_type": "markdown",
   "metadata": {},
   "source": [
    "### Run below cells to get information about the model"
   ]
  },
  {
   "cell_type": "code",
   "execution_count": null,
   "metadata": {},
   "outputs": [],
   "source": [
    "#a_sort_model = get_sort_model(feature_normalizer)"
   ]
  },
  {
   "cell_type": "code",
   "execution_count": null,
   "metadata": {},
   "outputs": [],
   "source": [
    "#a_sort_model.summary()"
   ]
  },
  {
   "cell_type": "code",
   "execution_count": null,
   "metadata": {},
   "outputs": [],
   "source": [
    "#sort_model.get_layer(index=-1).summary()"
   ]
  },
  {
   "cell_type": "code",
   "execution_count": null,
   "metadata": {},
   "outputs": [],
   "source": [
    "#sort_model.summary()"
   ]
  },
  {
   "cell_type": "code",
   "execution_count": null,
   "metadata": {},
   "outputs": [],
   "source": [
    "#sort_model.get_layer(index=-1).summary()"
   ]
  },
  {
   "cell_type": "markdown",
   "metadata": {},
   "source": [
    "### Run Below to evaluate model from checkpoint"
   ]
  },
  {
   "cell_type": "code",
   "execution_count": null,
   "metadata": {},
   "outputs": [],
   "source": [
    "errout"
   ]
  },
  {
   "cell_type": "code",
   "execution_count": null,
   "metadata": {},
   "outputs": [],
   "source": [
    "a_sort_model = get_sort_model(numeric_preprocessor=feature_normalizer)"
   ]
  },
  {
   "cell_type": "code",
   "execution_count": null,
   "metadata": {},
   "outputs": [],
   "source": [
    "model_save_path = 'gs://personalization-tensorflow/models/text_features/4layer_1024_target_0_458_correct_age_gender_jqgdjbdo'\n",
    "checkpoint_path = os.path.join(model_save_path, 'checkpoints/')"
   ]
  },
  {
   "cell_type": "code",
   "execution_count": null,
   "metadata": {},
   "outputs": [],
   "source": [
    "a_sort_model.load_weights(checkpoint_path)"
   ]
  },
  {
   "cell_type": "code",
   "execution_count": null,
   "metadata": {},
   "outputs": [],
   "source": [
    "# Get predictions from the model\n",
    "st = time.time()\n",
    "model_predictions = a_sort_model.predict(test_data, verbose = 1)\n",
    "print('Process took {}secs'.format(time.time() - st))\n",
    "\n",
    "# Construct a pandas dataframe with scores and target\n",
    "st = time.time()\n",
    "model_results_df = pd.DataFrame()\n",
    "for f, t in test_data:\n",
    "    temp = pd.DataFrame()\n",
    "    temp[target_name] = t\n",
    "    temp['customer_id'] = f['customer_id']\n",
    "    model_results_df = model_results_df.append(temp)\n",
    "print('Process took {}secs'.format(time.time() - st))\n",
    "model_results_df['predicted'] = model_predictions\n",
    "prediction_column = 'predicted'\n",
    "\n",
    "# Call the function to evaluate LTR metrics\n",
    "model_metrics = pd.DataFrame()\n",
    "model_hit_rate, model_ndcg = evaluation_utilities.get_ltr_metrics(model_results_df, \n",
    "                                                                         max_rank, \n",
    "                                                                         target_name, \n",
    "                                                                         prediction_column)\n",
    "\n",
    "model_metrics['hit_rate'] = model_hit_rate\n",
    "model_metrics['ndcg'] = model_ndcg"
   ]
  },
  {
   "cell_type": "code",
   "execution_count": null,
   "metadata": {},
   "outputs": [],
   "source": [
    "## Compare with BS Results\n",
    "file_path_to_bs_results = \"bs_results_on_test_test_v2.csv\"\n",
    "bs_model_metrics = pd.read_csv(file_path_to_bs_results)"
   ]
  },
  {
   "cell_type": "code",
   "execution_count": null,
   "metadata": {},
   "outputs": [],
   "source": [
    "plt.figure()\n",
    "plt.plot(np.arange(1,max_rank), model_metrics['hit_rate'], '*-', label='Text based model')\n",
    "plt.plot(np.arange(1,max_rank), bs_model_metrics['hit_rate'], '*-', label='Estimated-demand based model')\n",
    "plt.ylabel('HR@K')\n",
    "plt.xlabel('K')\n",
    "plt.grid(b=True)\n",
    "plt.legend()\n",
    "\n",
    "plt.figure()\n",
    "plt.plot(np.arange(1,max_rank), model_metrics['ndcg'], '*-', label='Text based model')\n",
    "plt.plot(np.arange(1,max_rank), bs_model_metrics['ndcg'], '*-', label='Estimated-demand based model')\n",
    "plt.ylabel('NDCG@K')\n",
    "plt.xlabel('K')\n",
    "plt.grid(b=True)\n",
    "plt.legend()\n",
    "\n",
    "plt.show()"
   ]
  }
 ],
 "metadata": {
  "kernelspec": {
   "display_name": "Python 3 (ipykernel)",
   "language": "python",
   "name": "python3"
  },
  "language_info": {
   "codemirror_mode": {
    "name": "ipython",
    "version": 3
   },
   "file_extension": ".py",
   "mimetype": "text/x-python",
   "name": "python",
   "nbconvert_exporter": "python",
   "pygments_lexer": "ipython3",
   "version": "3.11.4"
  }
 },
 "nbformat": 4,
 "nbformat_minor": 4
}
