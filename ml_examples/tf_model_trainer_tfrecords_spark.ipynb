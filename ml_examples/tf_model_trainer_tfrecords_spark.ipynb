{
 "cells": [
  {
   "cell_type": "markdown",
   "metadata": {},
   "source": [
    "# TF Model training script: Using TFRecords created using Spark"
   ]
  },
  {
   "cell_type": "markdown",
   "metadata": {
    "tags": []
   },
   "source": [
    "## Imports and other initializations"
   ]
  },
  {
   "cell_type": "code",
   "execution_count": 148,
   "metadata": {},
   "outputs": [],
   "source": [
    "# fairing:include-cell\n",
    "import tensorflow as tf\n",
    "from tensorflow.keras import layers\n",
    "from tensorflow.keras.layers.experimental import preprocessing\n",
    "\n",
    "import numpy as np\n",
    "import sys\n",
    "import os\n",
    "from pathlib import Path\n",
    "import pandas as pd\n",
    "from kubeflow import fairing \n",
    "import time\n",
    "import json\n",
    "import logging\n",
    "import imp\n",
    "import yaml\n",
    "import seaborn as sns\n",
    "import shutil\n",
    "from sklearn.metrics import classification_report, roc_curve, roc_auc_score, confusion_matrix, precision_recall_curve\n",
    "from sklearn.preprocessing import normalize\n",
    "from google.cloud import storage\n",
    "from tensorflow.io import FixedLenFeature\n",
    "\n",
    "from matplotlib import pyplot as plt\n",
    "\n",
    "sys.path.append('../utilities/')\n",
    "import modeldb_tf_utilities\n",
    "import evaluation_utilities\n",
    "import model_utilities\n",
    "import tf_records_utils\n",
    "imp.reload(modeldb_tf_utilities)\n",
    "imp.reload(evaluation_utilities)\n",
    "imp.reload(model_utilities)\n",
    "imp.reload(tf_records_utils)\n",
    "\n",
    "AUTOTUNE = tf.data.experimental.AUTOTUNE"
   ]
  },
  {
   "cell_type": "code",
   "execution_count": 149,
   "metadata": {},
   "outputs": [
    {
     "name": "stdout",
     "output_type": "stream",
     "text": [
      "rmenon\n",
      "zulilymodeltraining\n"
     ]
    }
   ],
   "source": [
    "# fairing:include-cell\n",
    "# Global configs that would be used at all the steps of the notebook.\n",
    "GCP_PROJECT = fairing.backends.gcp.guess_project_name()\n",
    "NAMESPACE = fairing.backends.utils.get_current_k8s_namespace()\n",
    "PROJECT_ID = GCP_PROJECT\n",
    "MODELDB_CLIENT_URL = \"https://modeldb.mlp.ml.gce.z8s.io/\"\n",
    "print(NAMESPACE)\n",
    "print(GCP_PROJECT)"
   ]
  },
  {
   "cell_type": "markdown",
   "metadata": {
    "tags": []
   },
   "source": [
    "## Configuration Parameters"
   ]
  },
  {
   "cell_type": "markdown",
   "metadata": {
    "tags": []
   },
   "source": [
    "### Model and Data Related"
   ]
  },
  {
   "cell_type": "code",
   "execution_count": 150,
   "metadata": {},
   "outputs": [],
   "source": [
    "# fairing:include-cell\n",
    "# YAML file containing model data configuration: i.e. Feature names, identification of categorical names etc\n",
    "model_data_config_file_name = \"./../model_configs/text_based_tfrecord_config.yaml\"\n",
    "\n",
    "# Dataset paths\n",
    "data_config = {\n",
    "    \"training\":'gs://zulilymodeltraining/rmenon/data/tfrecords/version_8/train/',\n",
    "    \"validation\":'gs://zulilymodeltraining/rmenon/data/tfrecords/version_8/valid/',\n",
    "    \"test\":'gs://zulilymodeltraining/rmenon/data/tfrecords/version_8/test/',\n",
    "}\n",
    "\n",
    "# Path to save trained model and other model-related specs\n",
    "model_data_path_prefix= f\"gs://personalization-tensorflow/models/text_features/\"\n",
    "\n",
    "# Model training parameters\n",
    "model_fit_config = {\n",
    "    \"batch_size\": 2048,\n",
    "    \"initial_lr\": 1e-3,\n",
    "    \"epochs\": 6,\n",
    "    \"shuffle_buffer_size\": 16384,\n",
    "}\n",
    "\n",
    "# Evaluating LTR performance metrics\n",
    "max_rank = 15\n",
    "\n",
    "# Use distributed training across GPUs (only set to True if using >1GPU). Also only efficient for large models.\n",
    "use_distributed_training = False\n",
    "\n",
    "# Use checkpointed model (usually based on lowest validation loss) to generate validation metrics\n",
    "use_checkpointed_model = True\n",
    "\n",
    "# Run locally for testing\n",
    "run_local = False\n",
    "\n",
    "# Cache data from first iteration for later iterations\n",
    "cache_data = False"
   ]
  },
  {
   "cell_type": "markdown",
   "metadata": {},
   "source": [
    "### Feature Normalizer Related"
   ]
  },
  {
   "cell_type": "code",
   "execution_count": 151,
   "metadata": {},
   "outputs": [],
   "source": [
    "# fairing:include-cell\n",
    "# Parameters related to feature normalizer for the model\n",
    "num_samples_to_train_normalizer = 500 # Set a sample size (in terms of number of batches). If set to None, the entire \"training\" set will be used to train the normalizer.\n",
    "if run_local:\n",
    "    num_samples_to_train_normalizer = 1"
   ]
  },
  {
   "cell_type": "markdown",
   "metadata": {},
   "source": [
    "### Model DB Related"
   ]
  },
  {
   "cell_type": "code",
   "execution_count": 152,
   "metadata": {},
   "outputs": [],
   "source": [
    "# fairing:include-cell\n",
    "# Model DB configuration parameters\n",
    "modeldb_config = {\n",
    "    ## Required configs\n",
    "    # These are required configs for a modeldb run. \n",
    "    # Please refer to notes here: https://confluence.zulily.com/display/tech/Notes+about+using+ModelDB if you are updaing the default\n",
    "    # project and experiment name.\n",
    "    \"client_url\": MODELDB_CLIENT_URL,\n",
    "    \"project_name\": 'P13N_Event_Sort_Models_2021',\n",
    "    \"experiment_name\": f\"TFRecords\",\n",
    "    # Username is mapped into as a ModelDB tag which will help to identiy a run by an user.\n",
    "    \"username\": NAMESPACE,\n",
    "    \n",
    "    ## Optional configs\n",
    "    # If an experiment run name is not specified, then ModelDB will randomly assign a run_name.\n",
    "    \"experiment_run_name\": 'v8_bn',#'4layer_1024_target_0_458_dataset_v4',\n",
    "    # This parameter is by default true and is required if you are going to run multiple runs with same experiment_run_name.\n",
    "    # This will prevent you from overwritng an experiment_run data and create a new run everytime a pipeline runs.\n",
    "    \"add_random_hash_to_run_name\": 'true'\n",
    "}"
   ]
  },
  {
   "cell_type": "markdown",
   "metadata": {},
   "source": [
    "### Model Internal initializations based on YAML configuration"
   ]
  },
  {
   "cell_type": "code",
   "execution_count": 153,
   "metadata": {},
   "outputs": [],
   "source": [
    "# fairing:include-cell\n",
    "# Retrieve model configuration from YAML file.\n",
    "with open(model_data_config_file_name) as file:\n",
    "    model_data_config = yaml.load(file, Loader=yaml.SafeLoader)\n",
    "# Do some name mappings to make code cleaner\n",
    "feature_names = model_data_config['feature_names']\n",
    "categorical_columns = model_data_config['categorical_columns']\n",
    "categorical_columns_vocabulary_list = model_data_config['categorical_columns_vocabulary_list']\n",
    "numeric_columns_to_norm = model_data_config['numeric_columns_to_norm']\n",
    "vector_features = model_data_config['vector_columns']\n",
    "identifier_columns = model_data_config['identifier_columns']\n",
    "numeric_columns_remaining = [xx for xx in feature_names if ((xx not in categorical_columns) \\\n",
    "                                                            and (xx not in numeric_columns_to_norm)\\\n",
    "                                                            and (xx not in vector_features))]\n",
    "vector_column_lengths = model_data_config['vector_column_lengths']\n",
    "target_name = model_data_config['target_name']\n",
    "numeric_columns_remaining.remove(target_name)"
   ]
  },
  {
   "cell_type": "code",
   "execution_count": 154,
   "metadata": {},
   "outputs": [],
   "source": [
    "# fairing:include-cell\n",
    "# Build TF Structure\n",
    "tf_feature_descriptions = dict()\n",
    "# Assume that identifier columns are first\n",
    "for column in identifier_columns:\n",
    "    tf_feature_descriptions[column] = tf.io.FixedLenFeature([], tf.string)\n",
    "for column in feature_names:\n",
    "    if column == target_name:\n",
    "        tf_feature_descriptions[column] = tf.io.FixedLenFeature([], tf.int64)\n",
    "    else:\n",
    "        if column in categorical_columns:\n",
    "            if column in vector_features:\n",
    "                tf_feature_descriptions[column] = tf.io.FixedLenFeature([vector_column_lengths[column]], tf.string)\n",
    "            else:\n",
    "                tf_feature_descriptions[column] = tf.io.FixedLenFeature([], tf.string)  \n",
    "        else:\n",
    "            if column in vector_features:\n",
    "                tf_feature_descriptions[column] = tf.io.FixedLenFeature([vector_column_lengths[column]], tf.float32)\n",
    "            else:\n",
    "                tf_feature_descriptions[column] = tf.io.FixedLenFeature([], tf.float32)"
   ]
  },
  {
   "cell_type": "code",
   "execution_count": 155,
   "metadata": {},
   "outputs": [
    {
     "data": {
      "text/plain": [
       "{'send_date': FixedLenFeature(shape=[], dtype=tf.string, default_value=None),\n",
       " 'customer_id': FixedLenFeature(shape=[], dtype=tf.string, default_value=None),\n",
       " 'event_id': FixedLenFeature(shape=[], dtype=tf.string, default_value=None),\n",
       " 'label': FixedLenFeature(shape=[], dtype=tf.int64, default_value=None),\n",
       " 'text_embd_style_views': FixedLenFeature(shape=[100], dtype=tf.float32, default_value=None),\n",
       " 'text_embd_cart_adds': FixedLenFeature(shape=[100], dtype=tf.float32, default_value=None),\n",
       " 'cust_price_median_ppt': FixedLenFeature(shape=[20], dtype=tf.float32, default_value=None),\n",
       " 'cust_price_iqr_ppt': FixedLenFeature(shape=[20], dtype=tf.float32, default_value=None),\n",
       " 'cust_msrp_median_ppt': FixedLenFeature(shape=[20], dtype=tf.float32, default_value=None),\n",
       " 'cust_msrp_iqr_ppt': FixedLenFeature(shape=[20], dtype=tf.float32, default_value=None),\n",
       " 'customer_age': FixedLenFeature(shape=[8], dtype=tf.float32, default_value=None),\n",
       " 'customer_gender': FixedLenFeature(shape=[4], dtype=tf.float32, default_value=None),\n",
       " 'cust_maternity_views': FixedLenFeature(shape=[], dtype=tf.string, default_value=None),\n",
       " 'age_segment': FixedLenFeature(shape=[], dtype=tf.string, default_value=None),\n",
       " 'join_channel': FixedLenFeature(shape=[], dtype=tf.string, default_value=None),\n",
       " 'activation_channel': FixedLenFeature(shape=[], dtype=tf.string, default_value=None),\n",
       " 'subjectline_eligible': FixedLenFeature(shape=[], dtype=tf.string, default_value=None),\n",
       " 'non_branded': FixedLenFeature(shape=[], dtype=tf.string, default_value=None),\n",
       " 'price_median': FixedLenFeature(shape=[], dtype=tf.float32, default_value=None),\n",
       " 'price_iqr': FixedLenFeature(shape=[], dtype=tf.float32, default_value=None),\n",
       " 'msrp_median': FixedLenFeature(shape=[], dtype=tf.float32, default_value=None),\n",
       " 'msrp_iqr': FixedLenFeature(shape=[], dtype=tf.float32, default_value=None),\n",
       " 'estimated_demand': FixedLenFeature(shape=[], dtype=tf.float32, default_value=None),\n",
       " 'event_top_ppt': FixedLenFeature(shape=[], dtype=tf.string, default_value=None),\n",
       " 'event_age': FixedLenFeature(shape=[8], dtype=tf.float32, default_value=None),\n",
       " 'event_gender': FixedLenFeature(shape=[4], dtype=tf.float32, default_value=None),\n",
       " 'text_embd_event': FixedLenFeature(shape=[100], dtype=tf.float32, default_value=None)}"
      ]
     },
     "execution_count": 155,
     "metadata": {},
     "output_type": "execute_result"
    }
   ],
   "source": [
    "tf_feature_descriptions"
   ]
  },
  {
   "cell_type": "markdown",
   "metadata": {
    "tags": []
   },
   "source": [
    "## Create/ Load a Feature Normalizer"
   ]
  },
  {
   "cell_type": "code",
   "execution_count": 156,
   "metadata": {},
   "outputs": [],
   "source": [
    "# fairing:include-cell\n",
    "def parse_tf_records_norm(example_proto):\n",
    "    return tf.io.parse_single_example(example_proto, normalizer_tf_feature_descriptions)\n",
    "\n",
    "def mod_features_in_data(data):\n",
    "    \"\"\"\n",
    "    Function to modify some features\n",
    "    \"\"\"\n",
    "    data['cust_price_median_ppt'] = tf.math.log1p(data['cust_price_median_ppt']*10000)\n",
    "    data['cust_price_iqr_ppt'] = tf.math.log1p(data['cust_price_iqr_ppt']*10000)\n",
    "    data['cust_msrp_median_ppt'] = tf.math.log1p(data['cust_msrp_median_ppt']*10000)\n",
    "    data['cust_msrp_iqr_ppt'] = tf.math.log1p(data['cust_msrp_iqr_ppt']*10000)\n",
    "    data['price_median'] = tf.math.log1p(data['price_median']*10000)\n",
    "    data['price_iqr'] = tf.math.log1p(data['price_iqr']*10000)\n",
    "    data['msrp_median'] = tf.math.log1p(data['msrp_median']*10000)\n",
    "    data['msrp_iqr'] = tf.math.log1p(data['msrp_iqr']*10000)\n",
    "    return data"
   ]
  },
  {
   "cell_type": "code",
   "execution_count": 157,
   "metadata": {},
   "outputs": [
    {
     "name": "stdout",
     "output_type": "stream",
     "text": [
      "Normalizer training took 1.7123806476593018secs\n"
     ]
    }
   ],
   "source": [
    "# fairing:include-cell\n",
    "# If there are feature columns to be normed, use a normalizer\n",
    "if len(numeric_columns_to_norm)>0:\n",
    "    st = time.time()\n",
    "\n",
    "    normalizer_tf_feature_descriptions = {}\n",
    "    for column in numeric_columns_to_norm:   \n",
    "        if column in vector_features:\n",
    "            normalizer_tf_feature_descriptions[column] = tf.io.FixedLenFeature([vector_column_lengths[column]], tf.float32)\n",
    "        else:\n",
    "            normalizer_tf_feature_descriptions[column] = tf.io.FixedLenFeature([1], tf.float32)\n",
    "\n",
    "    # reate a data generator to run thru the training data for normalizing features\n",
    "    data_batches_for_norm = tf_records_utils.get_tf_record_ds(data_config['training'])\\\n",
    "                            .map(parse_tf_records_norm, num_parallel_calls=AUTOTUNE) \\\n",
    "                            .map(mod_features_in_data, num_parallel_calls=AUTOTUNE) \\\n",
    "                            .batch(2048)\n",
    "\n",
    "    #.map(mod_features_in_data, num_parallel_calls=AUTOTUNE) \\\n",
    "\n",
    "    # Pick a random sample if specified\n",
    "    if num_samples_to_train_normalizer is not None:\n",
    "        data_batches_for_norm = data_batches_for_norm.take(int(num_samples_to_train_normalizer))\n",
    "\n",
    "    # Stack features: Change from dictionary format to a a stacked tensor array\n",
    "    def stack_features(features):\n",
    "        tf_features = None\n",
    "        for key in numeric_columns_to_norm:\n",
    "            if tf_features is None:\n",
    "                tf_features = features[key]\n",
    "            else:\n",
    "                tf_features= tf.concat([tf_features, features[key]], axis=1) \n",
    "        return tf_features\n",
    "    data_batches_for_norm_stacked = data_batches_for_norm.map(stack_features)\n",
    "\n",
    "\n",
    "    # Train the normalizer \n",
    "    if use_distributed_training:\n",
    "        mirrored_strategy = tf.distribute.MirroredStrategy()\n",
    "        with mirrored_strategy.scope():\n",
    "            feature_normalizer = preprocessing.Normalization()\n",
    "            feature_normalizer.adapt(data_batches_for_norm_stacked)\n",
    "    else:\n",
    "        feature_normalizer = preprocessing.Normalization()\n",
    "        feature_normalizer.adapt(data_batches_for_norm_stacked)\n",
    "    print('Normalizer training took {}secs'.format(time.time() - st))\n",
    "else:\n",
    "    feature_normalizer = None"
   ]
  },
  {
   "cell_type": "code",
   "execution_count": 158,
   "metadata": {},
   "outputs": [
    {
     "data": {
      "text/plain": [
       "<tf.Variable 'mean:0' shape=(85,) dtype=float32, numpy=\n",
       "array([ 0.16773538,  0.45366895,  0.        ,  0.40166163,  0.5259734 ,\n",
       "        0.4218287 ,  1.8216207 ,  1.7502218 ,  0.8487788 ,  1.0650543 ,\n",
       "        0.9907469 ,  0.8556642 ,  0.8839725 ,  0.91379386,  1.1559806 ,\n",
       "        0.8324773 ,  0.76217437,  1.4257019 ,  0.08649938,  1.5051173 ,\n",
       "        0.0551321 ,  0.18875094,  0.        ,  0.17941704,  0.21988744,\n",
       "        0.12666436,  1.0836467 ,  1.0255623 ,  0.34590095,  0.6048437 ,\n",
       "        0.52857405,  0.42234534,  0.4597056 ,  0.45020717,  0.5441782 ,\n",
       "        0.3204374 ,  0.3702801 ,  0.88747287,  0.01805433,  0.98306274,\n",
       "        0.17154644,  0.47569734,  0.        ,  0.4399019 ,  0.56060266,\n",
       "        0.4009023 ,  1.9202104 ,  1.808947  ,  0.9908107 ,  1.255744  ,\n",
       "        1.1408458 ,  0.9629917 ,  0.9995613 ,  1.1084089 ,  1.2284244 ,\n",
       "        0.85519004,  0.8513889 ,  1.6520959 ,  0.08080957,  1.5096197 ,\n",
       "        0.06861306,  0.20694692,  0.        ,  0.21522272,  0.27821013,\n",
       "        0.22018142,  1.6861962 ,  1.6062764 ,  0.43806833,  0.8493671 ,\n",
       "        0.7244306 ,  0.52990144,  0.6046126 ,  0.696907  ,  0.6199602 ,\n",
       "        0.35585898,  0.45835775,  1.1556854 ,  0.02814424,  1.30161   ,\n",
       "        3.0566235 ,  2.0407875 ,  3.681361  ,  2.764149  , 10.722166  ],\n",
       "      dtype=float32)>"
      ]
     },
     "execution_count": 158,
     "metadata": {},
     "output_type": "execute_result"
    }
   ],
   "source": [
    "feature_normalizer.mean"
   ]
  },
  {
   "cell_type": "code",
   "execution_count": 159,
   "metadata": {},
   "outputs": [
    {
     "data": {
      "text/plain": [
       "<tf.Variable 'variance:0' shape=(85,) dtype=float32, numpy=\n",
       "array([0.41833094, 1.0230521 , 0.        , 0.75456905, 1.0362707 ,\n",
       "       0.9794381 , 1.9245857 , 1.9444389 , 1.6108763 , 1.7141784 ,\n",
       "       1.6905457 , 1.578945  , 1.6171503 , 1.7978169 , 2.3286605 ,\n",
       "       1.9334575 , 1.6732022 , 2.167526  , 0.23868822, 1.7479928 ,\n",
       "       0.11584257, 0.4237555 , 0.        , 0.28198662, 0.36785138,\n",
       "       0.24905592, 1.2441314 , 1.183287  , 0.60439533, 0.94600874,\n",
       "       0.92046756, 0.76366717, 0.8210585 , 0.9523558 , 1.2216743 ,\n",
       "       0.77443683, 0.8266123 , 1.5736455 , 0.03220537, 1.3446132 ,\n",
       "       0.49851814, 1.2362216 , 0.        , 0.93527293, 1.2791642 ,\n",
       "       1.2527673 , 3.404235  , 3.3733861 , 2.4206693 , 2.6505628 ,\n",
       "       2.5052743 , 2.1886518 , 2.3442404 , 3.1572814 , 3.4531696 ,\n",
       "       2.5868046 , 2.2490947 , 3.159697  , 0.28915927, 2.4911494 ,\n",
       "       0.19598015, 0.5649232 , 0.        , 0.41344276, 0.6011871 ,\n",
       "       0.6984566 , 3.20174   , 3.1081784 , 1.0377214 , 1.8961473 ,\n",
       "       1.7267466 , 1.2840291 , 1.5152974 , 2.2422953 , 1.9057138 ,\n",
       "       1.1185879 , 1.2916666 , 2.6894503 , 0.07965344, 2.5043557 ,\n",
       "       0.36992607, 1.5038521 , 1.0783405 , 2.0154881 , 1.4056568 ],\n",
       "      dtype=float32)>"
      ]
     },
     "execution_count": 159,
     "metadata": {},
     "output_type": "execute_result"
    }
   ],
   "source": [
    "feature_normalizer.variance"
   ]
  },
  {
   "cell_type": "code",
   "execution_count": 160,
   "metadata": {},
   "outputs": [],
   "source": [
    "#normalizer_tf_feature_descriptions"
   ]
  },
  {
   "cell_type": "markdown",
   "metadata": {
    "tags": []
   },
   "source": [
    "## Model Helper functions"
   ]
  },
  {
   "cell_type": "code",
   "execution_count": 161,
   "metadata": {},
   "outputs": [],
   "source": [
    "# fairing:include-cell\n",
    "# Model-DB logging functions\n",
    "def log_model_attributes(modeldb_expt_run):\n",
    "    \"\"\"\n",
    "    Capturing Model attributes before starting training in ModelDB.\n",
    "    \"\"\"\n",
    "    modeldb_expt_run.log_hyperparameters(model_fit_config)\n",
    "    modeldb_expt_run.log_attributes(data_config)\n",
    "    modeldb_expt_run.log_attributes(model_data_config)\n",
    "\n",
    "    \n",
    "def log_model_metrics(modeldb_expt_run, model, model_save_path, model_checkpoint_path, test_ds = None):\n",
    "    \"\"\"\n",
    "    Capturing Model metrics at the end of training in ModelDB.\n",
    "    \"\"\"\n",
    "    \n",
    "    # Log the paths where the model and related data were saved\n",
    "    modeldb_expt_run.log_artifact_path('other_model_related_data_path', model_data_path_prefix)\n",
    "    modeldb_expt_run.log_artifact_path('model_save_path', model_save_path)\n",
    "    modeldb_expt_run.log_artifact_path('model_checkpoint_path', model_checkpoint_path)\n",
    "    \n",
    "    # Log accuracy of the supplied data set (if supplied)\n",
    "    if test_ds is not None:\n",
    "        loss, accuracy, precision, recall = model.evaluate(test_ds)        \n",
    "        modeldb_expt_run.log_metric('loss_', loss)\n",
    "        modeldb_expt_run.log_metric('accuracy', accuracy)\n",
    "        modeldb_expt_run.log_metric('precision', precision)\n",
    "        modeldb_expt_run.log_metric('recall', recall)\n",
    "        \n",
    "\n",
    "def log_model_summary(modeldb_expt_run, model):\n",
    "    \"\"\"\n",
    "    Log the structure of the Model\n",
    "    \"\"\"\n",
    "    stringlist = []\n",
    "    # Only store the last sequential layer\n",
    "    model.get_layer(index=-1).summary(print_fn=lambda x: stringlist.append(x))\n",
    "    short_model_summary = \"\\n\".join(stringlist)    \n",
    "    \n",
    "    if os.path.exists('/tmp/model/'):        \n",
    "        shutil.rmtree('/tmp/model')\n",
    "    os.mkdir('/tmp/model')\n",
    "\n",
    "    with open('/tmp/model/model.txt', 'w') as f:\n",
    "        f.write(short_model_summary)\n",
    "    f.close()\n",
    "    modeldb_expt_run.log_artifact('Model_Summary', '/tmp/model/model.txt')    \n",
    "    \n",
    "def parse_tf_records(example_proto):\n",
    "    return tf.io.parse_single_example(example_proto, tf_feature_descriptions)"
   ]
  },
  {
   "cell_type": "code",
   "execution_count": 162,
   "metadata": {},
   "outputs": [],
   "source": [
    "# fairing:include-cell\n",
    "# Target variable mapping function\n",
    "def parse_label_from_data(data):\n",
    "    \"\"\"\n",
    "    Function to map the data parsed in order to generate the labels\n",
    "    \"\"\"\n",
    "    labels = data.pop(target_name)\n",
    "    \n",
    "    label_0_values = tf.constant([0], dtype=tf.dtypes.int64)    \n",
    "    labels = tf.reshape(labels, [-1, 1])\n",
    "    labels_converted = tf.where(tf.reduce_any(tf.equal(labels, label_0_values), axis=1), \n",
    "                              tf.constant(0, dtype=tf.dtypes.int64), \n",
    "                              tf.constant(1, dtype=tf.dtypes.int64)) \n",
    "    \n",
    "#     data['cust_price_median_ppt'] = tf.math.log1p(data['cust_price_median_ppt']*10000)/10\n",
    "#     data['cust_price_iqr_ppt'] = tf.math.log1p(data['cust_price_iqr_ppt']*10000)/10\n",
    "#     data['cust_msrp_median_ppt'] = tf.math.log1p(data['cust_msrp_median_ppt']*10000)/10\n",
    "#     data['cust_msrp_iqr_ppt'] = tf.math.log1p(data['cust_msrp_iqr_ppt']*10000)/10\n",
    "#     data['price_median'] = tf.math.log1p(data['price_median']*10000)/10\n",
    "#     data['price_iqr'] = tf.math.log1p(data['price_iqr']*10000)/10\n",
    "#     data['msrp_median'] = tf.math.log1p(data['msrp_median']*10000)/10\n",
    "#     data['msrp_iqr'] = tf.math.log1p(data['msrp_iqr']*10000)/10\n",
    "    data['cust_price_median_ppt'] = tf.math.log1p(data['cust_price_median_ppt']*10000)\n",
    "    data['cust_price_iqr_ppt'] = tf.math.log1p(data['cust_price_iqr_ppt']*10000)\n",
    "    data['cust_msrp_median_ppt'] = tf.math.log1p(data['cust_msrp_median_ppt']*10000)\n",
    "    data['cust_msrp_iqr_ppt'] = tf.math.log1p(data['cust_msrp_iqr_ppt']*10000)\n",
    "    data['price_median'] = tf.math.log1p(data['price_median']*10000)\n",
    "    data['price_iqr'] = tf.math.log1p(data['price_iqr']*10000)\n",
    "    data['msrp_median'] = tf.math.log1p(data['msrp_median']*10000)\n",
    "    data['msrp_iqr'] = tf.math.log1p(data['msrp_iqr']*10000)\n",
    "    #data['estimated_demand'] = data['estimated_demand']/16\n",
    "    return data, labels_converted"
   ]
  },
  {
   "cell_type": "markdown",
   "metadata": {
    "tags": []
   },
   "source": [
    "## Model Setup and training"
   ]
  },
  {
   "cell_type": "code",
   "execution_count": 163,
   "metadata": {},
   "outputs": [],
   "source": [
    "# fairing:include-cell\n",
    "# Get training, test and validation data generators\n",
    "training_data = tf_records_utils.get_tf_record_ds(data_config['training'])\\\n",
    "                .map(parse_tf_records, num_parallel_calls=AUTOTUNE) \\\n",
    "                .map(parse_label_from_data, num_parallel_calls=AUTOTUNE) \\\n",
    "                .shuffle(model_fit_config['shuffle_buffer_size']).batch(model_fit_config['batch_size'])\n",
    "training_data = training_data.prefetch(buffer_size=AUTOTUNE)\n",
    "\n",
    "validation_data = tf_records_utils.get_tf_record_ds(data_config['validation']) \\\n",
    "                .map(parse_tf_records, num_parallel_calls=AUTOTUNE) \\\n",
    "                .map(parse_label_from_data, num_parallel_calls=AUTOTUNE) \\\n",
    "                .batch(model_fit_config['batch_size'])\n",
    "validation_data = validation_data.prefetch(buffer_size=AUTOTUNE)\n",
    "\n",
    "test_data = tf_records_utils.get_tf_record_ds(data_config['test']) \\\n",
    "            .map(parse_tf_records, num_parallel_calls=AUTOTUNE) \\\n",
    "            .map(parse_label_from_data, num_parallel_calls=AUTOTUNE) \\\n",
    "            .batch(model_fit_config['batch_size'])\n",
    "test_data = test_data.prefetch(buffer_size=AUTOTUNE)\n",
    "\n",
    "if run_local:\n",
    "    # For testing purposes: Selects just 1 batch of data for training, validation and test\n",
    "    training_data = training_data.take(10)\n",
    "    validation_data = validation_data.take(10)\n",
    "    test_data = test_data.take(10)\n",
    "else:\n",
    "    if cache_data: # Can only use a subset of data, if caching\n",
    "        # Using just 1/10th dataset for training and validation\n",
    "        training_data = training_data.shard(10, 1) \n",
    "        validation_data = validation_data.shard(2, 1)"
   ]
  },
  {
   "cell_type": "code",
   "execution_count": 164,
   "metadata": {},
   "outputs": [],
   "source": [
    "# training_data1 = tf_records_utils.get_tf_record_ds(data_config['training'])\\\n",
    "#                 .map(parse_tf_records, num_parallel_calls=AUTOTUNE)\n",
    "# for row in training_data1.take(1):\n",
    "#     for key, items in aa.items():\n",
    "#         print(key, items)"
   ]
  },
  {
   "cell_type": "code",
   "execution_count": 165,
   "metadata": {},
   "outputs": [
    {
     "name": "stdout",
     "output_type": "stream",
     "text": [
      "connection successfully established\n",
      "got existing Project: P13N_Event_Sort_Models_2021\n",
      "got existing Experiment: TFRecords\n",
      "created new ExperimentRun: v8_2048_5layer_allnorm_cozjpi48\n",
      "upload complete (Model_Summary)\n"
     ]
    }
   ],
   "source": [
    "# fairing:include-cell\n",
    "initial_lr = model_fit_config['initial_lr']\n",
    "num_epochs = model_fit_config['epochs']\n",
    "\n",
    "# Create Model-DB Instance\n",
    "modeldb_expt_run = modeldb_tf_utilities.create_modeldb_experiment_run(modeldb_config)\n",
    "\n",
    "# Get callbacks and save paths\n",
    "model_data_path_prefix = os.path.join(model_data_path_prefix, modeldb_expt_run.name)\n",
    "callbacks = modeldb_tf_utilities.get_tf_callbacks(modeldb_expt_run, model_data_path_prefix)\n",
    "\n",
    "# Save some attributes before training starts\n",
    "log_model_attributes(modeldb_expt_run)\n",
    "\n",
    "# Define model \n",
    "#loss=tf.keras.losses.BinaryCrossentropy(from_logits=False)\n",
    "loss=tf.keras.losses.MeanSquaredError()\n",
    "optimizer=tf.optimizers.Adam(learning_rate=initial_lr)\n",
    "\n",
    "# Create a distribution strategy to run on multiple GPUs\n",
    "if use_distributed_training:\n",
    "    with mirrored_strategy.scope():\n",
    "        sort_model = model_utilities.get_tfrecord_sort_model_vector_norm(feature_normalizer, \n",
    "                                                       numeric_columns_to_norm, \n",
    "                                                       numeric_columns_remaining, \n",
    "                                                       categorical_columns,\n",
    "                                                       categorical_columns_vocabulary_list,\n",
    "                                                       vector_features,\n",
    "                                                        vector_column_lengths)\n",
    "        sort_model.compile(loss=loss, optimizer=optimizer, metrics=['accuracy', tf.keras.metrics.Precision(), tf.keras.metrics.Recall()])\n",
    "else:\n",
    "    sort_model = model_utilities.get_tfrecord_sort_model_vector_norm(feature_normalizer,\n",
    "                                                   numeric_columns_to_norm, \n",
    "                                                   numeric_columns_remaining, \n",
    "                                                   categorical_columns,\n",
    "                                                   categorical_columns_vocabulary_list,\n",
    "                                                    vector_features,\n",
    "                                                    vector_column_lengths)\n",
    "    sort_model.compile(loss=loss, optimizer=optimizer, metrics=['accuracy', tf.keras.metrics.Precision(), tf.keras.metrics.Recall()])\n",
    "\n",
    "log_model_summary(modeldb_expt_run, sort_model)"
   ]
  },
  {
   "cell_type": "code",
   "execution_count": 166,
   "metadata": {},
   "outputs": [
    {
     "name": "stdout",
     "output_type": "stream",
     "text": [
      "Model: \"model_6\"\n",
      "__________________________________________________________________________________________________\n",
      "Layer (type)                    Output Shape         Param #     Connected to                     \n",
      "==================================================================================================\n",
      "cust_price_median_ppt (InputLay [(None, 20)]         0                                            \n",
      "__________________________________________________________________________________________________\n",
      "cust_price_iqr_ppt (InputLayer) [(None, 20)]         0                                            \n",
      "__________________________________________________________________________________________________\n",
      "cust_msrp_median_ppt (InputLaye [(None, 20)]         0                                            \n",
      "__________________________________________________________________________________________________\n",
      "cust_msrp_iqr_ppt (InputLayer)  [(None, 20)]         0                                            \n",
      "__________________________________________________________________________________________________\n",
      "price_median (InputLayer)       [(None, 1)]          0                                            \n",
      "__________________________________________________________________________________________________\n",
      "price_iqr (InputLayer)          [(None, 1)]          0                                            \n",
      "__________________________________________________________________________________________________\n",
      "msrp_median (InputLayer)        [(None, 1)]          0                                            \n",
      "__________________________________________________________________________________________________\n",
      "msrp_iqr (InputLayer)           [(None, 1)]          0                                            \n",
      "__________________________________________________________________________________________________\n",
      "estimated_demand (InputLayer)   [(None, 1)]          0                                            \n",
      "__________________________________________________________________________________________________\n",
      "concatenate_5 (Concatenate)     (None, 85)           0           cust_price_median_ppt[0][0]      \n",
      "                                                                 cust_price_iqr_ppt[0][0]         \n",
      "                                                                 cust_msrp_median_ppt[0][0]       \n",
      "                                                                 cust_msrp_iqr_ppt[0][0]          \n",
      "                                                                 price_median[0][0]               \n",
      "                                                                 price_iqr[0][0]                  \n",
      "                                                                 msrp_median[0][0]                \n",
      "                                                                 msrp_iqr[0][0]                   \n",
      "                                                                 estimated_demand[0][0]           \n",
      "__________________________________________________________________________________________________\n",
      "activation_channel (InputLayer) [(None, 1)]          0                                            \n",
      "__________________________________________________________________________________________________\n",
      "age_segment (InputLayer)        [(None, 1)]          0                                            \n",
      "__________________________________________________________________________________________________\n",
      "cust_maternity_views (InputLaye [(None, 1)]          0                                            \n",
      "__________________________________________________________________________________________________\n",
      "customer_age (InputLayer)       [(None, 8)]          0                                            \n",
      "__________________________________________________________________________________________________\n",
      "customer_gender (InputLayer)    [(None, 4)]          0                                            \n",
      "__________________________________________________________________________________________________\n",
      "event_age (InputLayer)          [(None, 8)]          0                                            \n",
      "__________________________________________________________________________________________________\n",
      "event_gender (InputLayer)       [(None, 4)]          0                                            \n",
      "__________________________________________________________________________________________________\n",
      "event_top_ppt (InputLayer)      [(None, 1)]          0                                            \n",
      "__________________________________________________________________________________________________\n",
      "join_channel (InputLayer)       [(None, 1)]          0                                            \n",
      "__________________________________________________________________________________________________\n",
      "non_branded (InputLayer)        [(None, 1)]          0                                            \n",
      "__________________________________________________________________________________________________\n",
      "subjectline_eligible (InputLaye [(None, 1)]          0                                            \n",
      "__________________________________________________________________________________________________\n",
      "text_embd_cart_adds (InputLayer [(None, 100)]        0                                            \n",
      "__________________________________________________________________________________________________\n",
      "text_embd_event (InputLayer)    [(None, 100)]        0                                            \n",
      "__________________________________________________________________________________________________\n",
      "text_embd_style_views (InputLay [(None, 100)]        0                                            \n",
      "__________________________________________________________________________________________________\n",
      "normalization_3 (Normalization) (None, 85)           171         concatenate_5[0][0]              \n",
      "__________________________________________________________________________________________________\n",
      "dense_features_6 (DenseFeatures (None, 364)          0           activation_channel[0][0]         \n",
      "                                                                 age_segment[0][0]                \n",
      "                                                                 cust_maternity_views[0][0]       \n",
      "                                                                 customer_age[0][0]               \n",
      "                                                                 customer_gender[0][0]            \n",
      "                                                                 event_age[0][0]                  \n",
      "                                                                 event_gender[0][0]               \n",
      "                                                                 event_top_ppt[0][0]              \n",
      "                                                                 join_channel[0][0]               \n",
      "                                                                 non_branded[0][0]                \n",
      "                                                                 subjectline_eligible[0][0]       \n",
      "                                                                 text_embd_cart_adds[0][0]        \n",
      "                                                                 text_embd_event[0][0]            \n",
      "                                                                 text_embd_style_views[0][0]      \n",
      "__________________________________________________________________________________________________\n",
      "concatenate_6 (Concatenate)     (None, 449)          0           normalization_3[0][0]            \n",
      "                                                                 dense_features_6[0][0]           \n",
      "__________________________________________________________________________________________________\n",
      "sequential_6 (Sequential)       (None, 1)            3625217     concatenate_6[0][0]              \n",
      "==================================================================================================\n",
      "Total params: 3,625,388\n",
      "Trainable params: 3,617,793\n",
      "Non-trainable params: 7,595\n",
      "__________________________________________________________________________________________________\n"
     ]
    }
   ],
   "source": [
    "sort_model.summary()"
   ]
  },
  {
   "cell_type": "code",
   "execution_count": 167,
   "metadata": {},
   "outputs": [
    {
     "name": "stdout",
     "output_type": "stream",
     "text": [
      "Epoch 1/6\n"
     ]
    },
    {
     "name": "stderr",
     "output_type": "stream",
     "text": [
      "/opt/conda/lib/python3.8/site-packages/tensorflow/python/keras/engine/functional.py:588: UserWarning: Input dict contained keys ['customer_id', 'event_id', 'send_date'] which did not match any model input. They will be ignored by the model.\n",
      "  warnings.warn(\n"
     ]
    },
    {
     "name": "stdout",
     "output_type": "stream",
     "text": [
      "10/10 [==============================] - 40s 3s/step - loss: 0.2750 - accuracy: 0.6076 - precision_6: 0.7187 - recall_6: 0.6702 - val_loss: 0.3504 - val_accuracy: 0.5350 - val_precision_6: 0.7357 - val_recall_6: 0.2130\n",
      "\n",
      "Epoch 00001: val_loss improved from inf to 0.35040, saving model to gs://personalization-tensorflow/models/text_features/v8_2048_5layer_allnorm_cozjpi48/checkpoints/\n",
      "Epoch 2/6\n",
      "10/10 [==============================] - 18s 2s/step - loss: 0.2006 - accuracy: 0.7036 - precision_6: 0.7602 - recall_6: 0.8075 - val_loss: 0.3288 - val_accuracy: 0.5632 - val_precision_6: 0.7457 - val_recall_6: 0.2866\n",
      "\n",
      "Epoch 00002: val_loss improved from 0.35040 to 0.32881, saving model to gs://personalization-tensorflow/models/text_features/v8_2048_5layer_allnorm_cozjpi48/checkpoints/\n",
      "Epoch 3/6\n",
      "10/10 [==============================] - 18s 2s/step - loss: 0.1700 - accuracy: 0.7628 - precision_6: 0.7871 - recall_6: 0.8801 - val_loss: 0.2895 - val_accuracy: 0.5784 - val_precision_6: 0.6722 - val_recall_6: 0.4237\n",
      "\n",
      "Epoch 00003: val_loss improved from 0.32881 to 0.28951, saving model to gs://personalization-tensorflow/models/text_features/v8_2048_5layer_allnorm_cozjpi48/checkpoints/\n",
      "Epoch 4/6\n",
      "10/10 [==============================] - 18s 2s/step - loss: 0.1439 - accuracy: 0.8132 - precision_6: 0.8249 - recall_6: 0.9117 - val_loss: 0.2609 - val_accuracy: 0.5897 - val_precision_6: 0.6183 - val_recall_6: 0.6219\n",
      "\n",
      "Epoch 00004: val_loss improved from 0.28951 to 0.26094, saving model to gs://personalization-tensorflow/models/text_features/v8_2048_5layer_allnorm_cozjpi48/checkpoints/\n",
      "Epoch 5/6\n",
      "10/10 [==============================] - 18s 2s/step - loss: 0.1151 - accuracy: 0.8619 - precision_6: 0.8702 - recall_6: 0.9304 - val_loss: 0.2521 - val_accuracy: 0.5890 - val_precision_6: 0.5899 - val_recall_6: 0.7770\n",
      "\n",
      "Epoch 00005: val_loss improved from 0.26094 to 0.25212, saving model to gs://personalization-tensorflow/models/text_features/v8_2048_5layer_allnorm_cozjpi48/checkpoints/\n",
      "Epoch 6/6\n",
      "10/10 [==============================] - 18s 2s/step - loss: 0.0852 - accuracy: 0.9061 - precision_6: 0.9153 - recall_6: 0.9457 - val_loss: 0.2637 - val_accuracy: 0.5778 - val_precision_6: 0.5714 - val_recall_6: 0.8643\n",
      "\n",
      "Epoch 00006: val_loss did not improve from 0.25212\n",
      "INFO:tensorflow:Assets written to: gs://personalization-tensorflow/models/text_features/v8_2048_5layer_allnorm_cozjpi48/saved_model/assets\n"
     ]
    },
    {
     "name": "stderr",
     "output_type": "stream",
     "text": [
      "[I 220321 06:10:18 builder_impl:774] Assets written to: gs://personalization-tensorflow/models/text_features/v8_2048_5layer_allnorm_cozjpi48/saved_model/assets\n"
     ]
    },
    {
     "name": "stdout",
     "output_type": "stream",
     "text": [
      "10/10 [==============================] - 4s 412ms/step - loss: 0.2521 - accuracy: 0.5890 - precision_6: 0.5899 - recall_6: 0.7770\n"
     ]
    }
   ],
   "source": [
    "# fairing:include-cell\n",
    "# Start the training process\n",
    "try:\n",
    "    start_time = time.time()  \n",
    "    if cache_data:\n",
    "        training_data = training_data.cache()\n",
    "        validation_data = validation_data.cache()\n",
    "    # Fit the model\n",
    "    model_history = sort_model.fit(training_data, validation_data=validation_data, epochs=num_epochs, callbacks=callbacks)\n",
    "    # Log time taken to fit model\n",
    "    modeldb_expt_run.log_metric('model_fit_run_duration_in_secs', (time.time() - start_time))            \n",
    "    # Save Model\n",
    "    model_save_path = os.path.join(model_data_path_prefix, 'saved_model/')\n",
    "    sort_model.save(model_save_path)\n",
    "    # But reload model from checkpoint (lowest validation loss) to generate validation performance\n",
    "    model_checkpoint_path = os.path.join(model_data_path_prefix, 'checkpoints/')\n",
    "    if use_checkpointed_model:\n",
    "        # But reload model from checkpoint (lowest validation loss) to generate validation performance        \n",
    "        sort_model.load_weights(model_checkpoint_path)    \n",
    "    # Log other metrics from model including validation data performance\n",
    "    log_model_metrics(modeldb_expt_run, sort_model, model_save_path, model_checkpoint_path, validation_data)\n",
    "    modeldb_expt_run.log_tag('success')\n",
    "except:\n",
    "    modeldb_expt_run.log_tag('failed_run')\n",
    "    raise"
   ]
  },
  {
   "cell_type": "markdown",
   "metadata": {
    "tags": []
   },
   "source": [
    "## Evaluate Performance of Model"
   ]
  },
  {
   "cell_type": "code",
   "execution_count": 168,
   "metadata": {},
   "outputs": [
    {
     "name": "stderr",
     "output_type": "stream",
     "text": [
      "/opt/conda/lib/python3.8/site-packages/tensorflow/python/keras/engine/functional.py:588: UserWarning: Input dict contained keys ['customer_id', 'event_id', 'send_date'] which did not match any model input. They will be ignored by the model.\n",
      "  warnings.warn(\n"
     ]
    },
    {
     "name": "stdout",
     "output_type": "stream",
     "text": [
      "10/10 [==============================] - 5s 411ms/step\n",
      "Time taken for generating labels is 4.738344192504883secs\n"
     ]
    }
   ],
   "source": [
    "# fairing:include-cell\n",
    "st = time.time()\n",
    "\n",
    "# Get predicted labels for validation data\n",
    "pred_indices_raw = sort_model.predict(validation_data, verbose=1)\n",
    "pred_indices = (pred_indices_raw > 0.5)\n",
    "\n",
    "# Get true labels for test data\n",
    "iterator = validation_data.as_numpy_iterator()\n",
    "true_labels = np.array([])\n",
    "for x in iterator:\n",
    "    true_labels = np.append(true_labels, x[-1])\n",
    "print(\"Time taken for generating labels is {}secs\".format(time.time() - st))"
   ]
  },
  {
   "cell_type": "code",
   "execution_count": 169,
   "metadata": {},
   "outputs": [
    {
     "name": "stdout",
     "output_type": "stream",
     "text": [
      "I am here\n"
     ]
    }
   ],
   "source": [
    "print('I am here')"
   ]
  },
  {
   "cell_type": "code",
   "execution_count": 170,
   "metadata": {},
   "outputs": [
    {
     "name": "stdout",
     "output_type": "stream",
     "text": [
      "              precision    recall  f1-score   support\n",
      "\n",
      "     class 0       0.59      0.37      0.45      9452\n",
      "     class 1       0.59      0.78      0.67     11028\n",
      "\n",
      "    accuracy                           0.59     20480\n",
      "   macro avg       0.59      0.57      0.56     20480\n",
      "weighted avg       0.59      0.59      0.57     20480\n",
      "\n",
      "upload complete (ROC)\n",
      "upload complete (PR)\n",
      "upload complete (confusion_matrix)\n",
      "upload complete (confusion_matrix_normalized)\n"
     ]
    },
    {
     "data": {
      "image/png": "[encoded data removed]",
      "text/plain": [
       "<Figure size 360x360 with 1 Axes>"
      ]
     },
     "metadata": {
      "needs_background": "light"
     },
     "output_type": "display_data"
    },
    {
     "data": {
      "image/png": "[encoded data removed]",
      "text/plain": [
       "<Figure size 360x360 with 1 Axes>"
      ]
     },
     "metadata": {
      "needs_background": "light"
     },
     "output_type": "display_data"
    },
    {
     "data": {
      "image/png": "[encoded data removed]",
      "text/plain": [
       "<Figure size 360x360 with 2 Axes>"
      ]
     },
     "metadata": {
      "needs_background": "light"
     },
     "output_type": "display_data"
    },
    {
     "data": {
      "image/png": "[encoded data removed]",
      "text/plain": [
       "<Figure size 360x360 with 2 Axes>"
      ]
     },
     "metadata": {
      "needs_background": "light"
     },
     "output_type": "display_data"
    }
   ],
   "source": [
    "# fairing:include-cell\n",
    "# Making sure directory is removed if already exists\n",
    "if os.path.exists('/tmp/plots'):        \n",
    "    shutil.rmtree('/tmp/plots')\n",
    "os.mkdir('/tmp/plots')\n",
    "\n",
    "target_names = ['class 0', 'class 1']\n",
    "\n",
    "# Print Some Performance Metrics\n",
    "print(classification_report(true_labels, pred_indices, target_names = target_names, zero_division = 0))\n",
    "cr = classification_report(true_labels, pred_indices, target_names = target_names, zero_division=0, output_dict = True)\n",
    "class_0_recall = np.around(cr['class 0']['recall'], decimals=5)\n",
    "class_1_recall = np.around(cr['class 1']['recall'], decimals=5)\n",
    "modeldb_expt_run.log_metrics({'Recall_Class_0': class_0_recall, 'Recall_Class_1': class_1_recall, })\n",
    "\n",
    "\n",
    "# Create ROC curve\n",
    "figure = plt.figure(figsize=(5, 5))\n",
    "fpr, tpr, thresholds = roc_curve(true_labels, pred_indices_raw)\n",
    "plt.plot(fpr, tpr)\n",
    "plt.title('ROC curve')\n",
    "plt.ylabel('TPR')\n",
    "plt.xlabel('FPR')\n",
    "plt.savefig('/tmp/plots/roc.png')\n",
    "modeldb_expt_run.log_artifact('ROC', '/tmp/plots/roc.png')\n",
    "\n",
    "# Create PR curve\n",
    "figure = plt.figure(figsize=(5, 5))\n",
    "precision, recall, thresholds = precision_recall_curve(true_labels, pred_indices_raw)\n",
    "plt.plot(recall, precision)\n",
    "plt.title('PR curve')\n",
    "plt.ylabel('Precision')\n",
    "plt.xlabel('Recall')\n",
    "plt.savefig('/tmp/plots/pr.png')\n",
    "modeldb_expt_run.log_artifact('PR', '/tmp/plots/pr.png')\n",
    "\n",
    "\n",
    "# Create confusion matrix\n",
    "cm = confusion_matrix(true_labels, pred_indices)\n",
    "cm_df = pd.DataFrame(cm, index = target_names, columns = target_names)\n",
    "cm_normalize_df = pd.DataFrame(normalize(cm, 'l1', axis = 1), index = target_names, columns = target_names)\n",
    "figure = plt.figure(figsize=(5, 5))\n",
    "svm = sns.heatmap(cm_df, annot=True,cmap=plt.cm.Blues)\n",
    "plt.tight_layout()\n",
    "plt.ylabel('True label')\n",
    "plt.xlabel('Predicted label')\n",
    "figure = svm.get_figure()    \n",
    "figure.savefig('/tmp/plots/cm.png')\n",
    "\n",
    "figure = plt.figure(figsize=(5, 5))\n",
    "svm = sns.heatmap(cm_normalize_df, annot=True,cmap=plt.cm.Blues)\n",
    "plt.tight_layout()\n",
    "plt.ylabel('True label')\n",
    "plt.xlabel('Predicted label')\n",
    "figure = svm.get_figure()    \n",
    "figure.savefig('/tmp/plots/cm_norm.png')\n",
    "\n",
    "# Saving confusion_matrix\n",
    "modeldb_expt_run.log_artifact('confusion_matrix', '/tmp/plots/cm.png')\n",
    "modeldb_expt_run.log_artifact('confusion_matrix_normalized', '/tmp/plots/cm_norm.png')"
   ]
  },
  {
   "cell_type": "code",
   "execution_count": null,
   "metadata": {},
   "outputs": [
    {
     "name": "stdout",
     "output_type": "stream",
     "text": [
      "10/10 [==============================] - 10s 935ms/step\n",
      "Process took 10.353562355041504secs\n"
     ]
    }
   ],
   "source": [
    "# fairing:include-cell\n",
    "# Get LTR Metrics on a test-data set\n",
    "if os.path.exists('/tmp/data'):        \n",
    "    shutil.rmtree('/tmp/data')\n",
    "os.mkdir('/tmp/data')\n",
    "\n",
    "# Get predictions from the model\n",
    "st = time.time()\n",
    "model_predictions = sort_model.predict(test_data, verbose=1)\n",
    "print('Process took {}secs'.format(time.time() - st))\n",
    "\n",
    "# Construct a pandas dataframe with scores and target\n",
    "st = time.time()\n",
    "model_results_df = pd.DataFrame()\n",
    "for f, t in test_data:\n",
    "    temp = pd.DataFrame()\n",
    "    temp[target_name] = t.numpy().ravel()\n",
    "    temp['customer_id'] = f['customer_id']\n",
    "    model_results_df = model_results_df.append(temp)\n",
    "print('Process took {}secs'.format(time.time() - st))\n",
    "model_results_df['predicted'] = model_predictions\n",
    "prediction_column = 'predicted'\n",
    "\n",
    "# Call the function to evaluate LTR metrics\n",
    "model_metrics = pd.DataFrame()\n",
    "model_hit_rate, model_ndcg = evaluation_utilities.get_ltr_metrics(model_results_df, \n",
    "                                                                         max_rank, \n",
    "                                                                         target_name, \n",
    "                                                                         prediction_column)\n",
    "\n",
    "model_metrics['hit_rate'] = model_hit_rate\n",
    "model_metrics['ndcg'] = model_ndcg\n",
    "\n",
    "modeldb_expt_run.log_metrics({'HR_10': model_hit_rate[9], 'NDCG_10': model_ndcg[9]})\n",
    "model_metrics.to_csv(f'/tmp/data/{modeldb_expt_run.name}.csv')\n",
    "modeldb_expt_run.log_artifact('LTRMetrics', f'/tmp/data/{modeldb_expt_run.name}.csv')"
   ]
  },
  {
   "cell_type": "code",
   "execution_count": null,
   "metadata": {},
   "outputs": [],
   "source": [
    "# fairing:include-cell\n",
    "modeldb_expt_run.log_metric('experiment_run_duration_in_secs', (time.time() - start_time))            "
   ]
  },
  {
   "cell_type": "markdown",
   "metadata": {},
   "source": [
    "### Run below cells to get information about the model"
   ]
  },
  {
   "cell_type": "code",
   "execution_count": null,
   "metadata": {},
   "outputs": [],
   "source": [
    "#a_sort_model = get_sort_model(feature_normalizer)"
   ]
  },
  {
   "cell_type": "code",
   "execution_count": null,
   "metadata": {},
   "outputs": [],
   "source": [
    "#a_sort_model.summary()"
   ]
  },
  {
   "cell_type": "code",
   "execution_count": null,
   "metadata": {},
   "outputs": [],
   "source": [
    "#sort_model.get_layer(index=-1).summary()"
   ]
  },
  {
   "cell_type": "code",
   "execution_count": null,
   "metadata": {},
   "outputs": [],
   "source": [
    "#sort_model.summary()"
   ]
  },
  {
   "cell_type": "code",
   "execution_count": null,
   "metadata": {},
   "outputs": [],
   "source": [
    "#sort_model.get_layer(index=-1).summary()"
   ]
  },
  {
   "cell_type": "markdown",
   "metadata": {},
   "source": [
    "### Run Below to evaluate model from checkpoint"
   ]
  },
  {
   "cell_type": "code",
   "execution_count": null,
   "metadata": {},
   "outputs": [],
   "source": [
    "errout"
   ]
  },
  {
   "cell_type": "code",
   "execution_count": null,
   "metadata": {},
   "outputs": [],
   "source": [
    "a_sort_model = get_sort_model(numeric_preprocessor=feature_normalizer)"
   ]
  },
  {
   "cell_type": "code",
   "execution_count": null,
   "metadata": {},
   "outputs": [],
   "source": [
    "model_save_path = 'gs://personalization-tensorflow/models/text_features/4layer_1024_target_0_458_correct_age_gender_jqgdjbdo'\n",
    "checkpoint_path = os.path.join(model_save_path, 'checkpoints/')"
   ]
  },
  {
   "cell_type": "code",
   "execution_count": null,
   "metadata": {},
   "outputs": [],
   "source": [
    "a_sort_model.load_weights(checkpoint_path)"
   ]
  },
  {
   "cell_type": "code",
   "execution_count": null,
   "metadata": {},
   "outputs": [],
   "source": [
    "# Get predictions from the model\n",
    "st = time.time()\n",
    "model_predictions = a_sort_model.predict(test_data, verbose = 1)\n",
    "print('Process took {}secs'.format(time.time() - st))\n",
    "\n",
    "# Construct a pandas dataframe with scores and target\n",
    "st = time.time()\n",
    "model_results_df = pd.DataFrame()\n",
    "for f, t in test_data:\n",
    "    temp = pd.DataFrame()\n",
    "    temp[target_name] = t\n",
    "    temp['customer_id'] = f['customer_id']\n",
    "    model_results_df = model_results_df.append(temp)\n",
    "print('Process took {}secs'.format(time.time() - st))\n",
    "model_results_df['predicted'] = model_predictions\n",
    "prediction_column = 'predicted'\n",
    "\n",
    "# Call the function to evaluate LTR metrics\n",
    "model_metrics = pd.DataFrame()\n",
    "model_hit_rate, model_ndcg = evaluation_utilities.get_ltr_metrics(model_results_df, \n",
    "                                                                         max_rank, \n",
    "                                                                         target_name, \n",
    "                                                                         prediction_column)\n",
    "\n",
    "model_metrics['hit_rate'] = model_hit_rate\n",
    "model_metrics['ndcg'] = model_ndcg"
   ]
  },
  {
   "cell_type": "code",
   "execution_count": null,
   "metadata": {},
   "outputs": [],
   "source": [
    "## Compare with BS Results\n",
    "file_path_to_bs_results = \"bs_results_on_test_test_v2.csv\"\n",
    "bs_model_metrics = pd.read_csv(file_path_to_bs_results)"
   ]
  },
  {
   "cell_type": "code",
   "execution_count": null,
   "metadata": {},
   "outputs": [],
   "source": [
    "plt.figure()\n",
    "plt.plot(np.arange(1,max_rank), model_metrics['hit_rate'], '*-', label='Text based model')\n",
    "plt.plot(np.arange(1,max_rank), bs_model_metrics['hit_rate'], '*-', label='Estimated-demand based model')\n",
    "plt.ylabel('HR@K')\n",
    "plt.xlabel('K')\n",
    "plt.grid(b=True)\n",
    "plt.legend()\n",
    "\n",
    "plt.figure()\n",
    "plt.plot(np.arange(1,max_rank), model_metrics['ndcg'], '*-', label='Text based model')\n",
    "plt.plot(np.arange(1,max_rank), bs_model_metrics['ndcg'], '*-', label='Estimated-demand based model')\n",
    "plt.ylabel('NDCG@K')\n",
    "plt.xlabel('K')\n",
    "plt.grid(b=True)\n",
    "plt.legend()\n",
    "\n",
    "plt.show()"
   ]
  }
 ],
 "metadata": {
  "kernelspec": {
   "display_name": "Python 3",
   "language": "python",
   "name": "python3"
  },
  "language_info": {
   "codemirror_mode": {
    "name": "ipython",
    "version": 3
   },
   "file_extension": ".py",
   "mimetype": "text/x-python",
   "name": "python",
   "nbconvert_exporter": "python",
   "pygments_lexer": "ipython3",
   "version": "3.8.8"
  }
 },
 "nbformat": 4,
 "nbformat_minor": 4
}
