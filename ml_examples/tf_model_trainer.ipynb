{
 "cells": [
  {
   "cell_type": "markdown",
   "metadata": {},
   "source": [
    "# TF Model training script"
   ]
  },
  {
   "cell_type": "markdown",
   "metadata": {
    "tags": []
   },
   "source": [
    "## Imports and other initializations"
   ]
  },
  {
   "cell_type": "code",
   "execution_count": 61,
   "metadata": {},
   "outputs": [],
   "source": [
    "# fairing:include-cell\n",
    "import tensorflow as tf\n",
    "from tensorflow.keras import layers\n",
    "from tensorflow.keras.layers.experimental import preprocessing\n",
    "\n",
    "import numpy as np\n",
    "import sys\n",
    "import os\n",
    "from pathlib import Path\n",
    "import pandas as pd\n",
    "from kubeflow import fairing \n",
    "import time\n",
    "import json\n",
    "import logging\n",
    "import imp\n",
    "import yaml\n",
    "import seaborn as sns\n",
    "import shutil\n",
    "from sklearn.metrics import classification_report, roc_curve, roc_auc_score, confusion_matrix, precision_recall_curve\n",
    "from sklearn.preprocessing import normalize\n",
    "from google.cloud import storage\n",
    "\n",
    "from matplotlib import pyplot as plt\n",
    "\n",
    "sys.path.append('../utilities/')\n",
    "import modeldb_tf_utilities\n",
    "import evaluation_utilities\n",
    "import model_utilities\n",
    "imp.reload(modeldb_tf_utilities)\n",
    "imp.reload(evaluation_utilities)\n",
    "imp.reload(model_utilities)\n",
    "\n",
    "AUTOTUNE = tf.data.experimental.AUTOTUNE"
   ]
  },
  {
   "cell_type": "code",
   "execution_count": 62,
   "metadata": {},
   "outputs": [
    {
     "name": "stdout",
     "output_type": "stream",
     "text": [
      "rmenon\n",
      "zulilymodeltraining\n"
     ]
    }
   ],
   "source": [
    "# fairing:include-cell\n",
    "# Global configs that would be used at all the steps of the notebook.\n",
    "GCP_PROJECT = fairing.backends.gcp.guess_project_name()\n",
    "NAMESPACE = fairing.backends.utils.get_current_k8s_namespace()\n",
    "PROJECT_ID = GCP_PROJECT\n",
    "MODELDB_CLIENT_URL = \"https://modeldb.mlp.ml.gce.z8s.io/\"\n",
    "print(NAMESPACE)\n",
    "print(GCP_PROJECT)"
   ]
  },
  {
   "cell_type": "markdown",
   "metadata": {
    "tags": []
   },
   "source": [
    "## Configuration Parameters"
   ]
  },
  {
   "cell_type": "markdown",
   "metadata": {
    "tags": []
   },
   "source": [
    "### Model and Data Related"
   ]
  },
  {
   "cell_type": "code",
   "execution_count": 63,
   "metadata": {},
   "outputs": [],
   "source": [
    "# fairing:include-cell\n",
    "# YAML file containing model data configuration: i.e. Feature names, identification of categorical names etc\n",
    "model_data_config_file_name = \"./../model_configs/text_based_config.yaml\"\n",
    "\n",
    "# Dataset paths\n",
    "data_config = {\n",
    "    \"training\":'gs://zulilymodeltraining/rmenon/data/train/all_features_text_train_v5*.csv',\n",
    "    \"validation\":'gs://zulilymodeltraining/rmenon/data/valid/all_features_text_valid_v5*.csv',\n",
    "    \"test\":'gs://zulilymodeltraining/rmenon/data/test/all_features_text_test_v5*.csv',\n",
    "}\n",
    "\n",
    "# Path to save trained model and other model-related specs\n",
    "model_data_path_prefix= f\"gs://personalization-tensorflow/models/text_features/\"\n",
    "\n",
    "# Model training parameters\n",
    "model_fit_config = {\n",
    "    \"batch_size\": 2048,\n",
    "    \"initial_lr\": 1e-3,\n",
    "    \"epochs\": 10\n",
    "}\n",
    "\n",
    "# Evaluating LTR performance metrics\n",
    "max_rank = 15\n",
    "\n",
    "# Use distributed training across GPUs (only set to True if using >1GPU). Also only efficient for large models.\n",
    "use_distributed_training = False\n",
    "\n",
    "# Use checkpointed model (usually based on lowest validation loss) to generate validation metrics\n",
    "use_checkpointed_model = True\n",
    "\n",
    "# Run locally for testing\n",
    "run_local = False"
   ]
  },
  {
   "cell_type": "markdown",
   "metadata": {},
   "source": [
    "### Feature Normalizer Related"
   ]
  },
  {
   "cell_type": "code",
   "execution_count": 64,
   "metadata": {},
   "outputs": [],
   "source": [
    "# fairing:include-cell\n",
    "# Parameters related to feature normalizer for the model\n",
    "num_samples_to_train_normalizer = 500 # Set a sample size (in terms of number of batches). If set to None, the entire \"training\" set will be used to train the normalizer.\n",
    "if run_local:\n",
    "    num_samples_to_train_normalizer = 1"
   ]
  },
  {
   "cell_type": "markdown",
   "metadata": {},
   "source": [
    "### Model DB Related"
   ]
  },
  {
   "cell_type": "code",
   "execution_count": 65,
   "metadata": {},
   "outputs": [],
   "source": [
    "# fairing:include-cell\n",
    "# Model DB configuration parameters\n",
    "modeldb_config = {\n",
    "    ## Required configs\n",
    "    # These are required configs for a modeldb run. \n",
    "    # Please refer to notes here: https://confluence.zulily.com/display/tech/Notes+about+using+ModelDB if you are updaing the default\n",
    "    # project and experiment name.\n",
    "    \"client_url\": MODELDB_CLIENT_URL,\n",
    "    \"project_name\": 'P13N_Event_Sort_Models_2021',\n",
    "    \"experiment_name\": f\"text-features\",\n",
    "    # Username is mapped into as a ModelDB tag which will help to identiy a run by an user.\n",
    "    \"username\": NAMESPACE,\n",
    "    \n",
    "    ## Optional configs\n",
    "    # If an experiment run name is not specified, then ModelDB will randomly assign a run_name.\n",
    "    \"experiment_run_name\": '4layer_1024_target_0_458_dataset_v5',#'4layer_1024_target_0_458_dataset_v4',\n",
    "    # This parameter is by default true and is required if you are going to run multiple runs with same experiment_run_name.\n",
    "    # This will prevent you from overwritng an experiment_run data and create a new run everytime a pipeline runs.\n",
    "    \"add_random_hash_to_run_name\": 'true'\n",
    "}"
   ]
  },
  {
   "cell_type": "markdown",
   "metadata": {},
   "source": [
    "### Model Internal initializations based on YAML configuration"
   ]
  },
  {
   "cell_type": "code",
   "execution_count": 66,
   "metadata": {},
   "outputs": [],
   "source": [
    "# fairing:include-cell\n",
    "# Retrieve model configuration from YAML file.\n",
    "with open(model_data_config_file_name) as file:\n",
    "    model_data_config = yaml.load(file, Loader=yaml.SafeLoader)\n",
    "# Do some name mappings to make code cleaner\n",
    "feature_names = model_data_config['feature_names']\n",
    "categorical_columns = model_data_config['categorical_columns']\n",
    "categorical_columns_vocabulary_list = model_data_config['categorical_columns_vocabulary_list']\n",
    "numeric_columns_to_norm = model_data_config['numeric_columns_to_norm']\n",
    "numeric_columns_remaining = [xx for xx in feature_names if ((xx not in categorical_columns) \\\n",
    "                                                            and (xx not in numeric_columns_to_norm))]\n",
    "target_name = model_data_config['target_name']\n",
    "numeric_columns_remaining.remove(target_name)"
   ]
  },
  {
   "cell_type": "markdown",
   "metadata": {
    "tags": []
   },
   "source": [
    "## Create/ Load a Feature Normalizer"
   ]
  },
  {
   "cell_type": "code",
   "execution_count": 67,
   "metadata": {},
   "outputs": [],
   "source": [
    "# fairing:include-cell\n",
    "def google_file_path_exists(path_name):\n",
    "    \"\"\"\n",
    "    Checks if a file path exists in google storage\n",
    "    path_name should be something like 'gs://zulilymodeltraining/rmenon/tf-models-data/normalizer_models/saved_model.pb'\n",
    "    \"\"\"    \n",
    "\n",
    "    storage_client = storage.Client()\n",
    "    interim = path_name.split('//') # Extract gs:\n",
    "    interim = interim[1].split('/') # Extract stuff after gs, 'zulilymodeltraining/rmenon/tf-models-data/normalizer_models/saved_model.pb'\n",
    "    bucket_name = interim[0] # Extract bucket name, 'zulilymodeltraining'\n",
    "    name = ('/').join(interim[1:]) #Create file path excluding bucket name, 'rmenon/tf-models-data/normalizer_models/saved_model.pb'\n",
    "    bucket = storage_client.bucket(bucket_name)\n",
    "    stats = storage.Blob(bucket=bucket, name=name).exists(storage_client)\n",
    "    return(stats)"
   ]
  },
  {
   "cell_type": "code",
   "execution_count": 68,
   "metadata": {},
   "outputs": [
    {
     "name": "stdout",
     "output_type": "stream",
     "text": [
      "Normalizer training took 117.9924829006195secs\n"
     ]
    }
   ],
   "source": [
    "# fairing:include-cell\n",
    "st = time.time()\n",
    "\n",
    "# Create a data generator to run thru the training data\n",
    "column_defaults = ['float32' for column in numeric_columns_to_norm]\n",
    "data_batches_for_norm = tf.data.experimental.make_csv_dataset(\n",
    "    file_pattern = data_config[\"training\"], \n",
    "    select_columns = numeric_columns_to_norm,\n",
    "    column_defaults = column_defaults,\n",
    "    num_epochs=1, # Only want to go thru this data once in 1 training epoch    \n",
    "    ignore_errors = False,\n",
    "    batch_size = 2048    \n",
    "    )\n",
    "\n",
    "# Stack features: Change from dictionary format to a a stacked tensor array\n",
    "def stack_features(features):\n",
    "    return tf.stack(list(features.values()), axis=1)\n",
    "data_batches_for_norm_stacked = data_batches_for_norm.map(stack_features)\n",
    "\n",
    "# Pick a random sample if specified\n",
    "if num_samples_to_train_normalizer is not None:\n",
    "    data_batches_for_norm_stacked = data_batches_for_norm_stacked.take(int(num_samples_to_train_normalizer))\n",
    "\n",
    "# Train the normalizer \n",
    "if use_distributed_training:\n",
    "    mirrored_strategy = tf.distribute.MirroredStrategy()\n",
    "    with mirrored_strategy.scope():\n",
    "        feature_normalizer = preprocessing.Normalization()\n",
    "        feature_normalizer.adapt(data_batches_for_norm_stacked)\n",
    "else:\n",
    "    feature_normalizer = preprocessing.Normalization()\n",
    "    feature_normalizer.adapt(data_batches_for_norm_stacked)\n",
    "print('Normalizer training took {}secs'.format(time.time() - st))"
   ]
  },
  {
   "cell_type": "markdown",
   "metadata": {
    "tags": []
   },
   "source": [
    "## Model Helper functions"
   ]
  },
  {
   "cell_type": "code",
   "execution_count": 69,
   "metadata": {},
   "outputs": [],
   "source": [
    "# fairing:include-cell\n",
    "# Model-DB logging functions\n",
    "def log_model_attributes(modeldb_expt_run):\n",
    "    \"\"\"\n",
    "    Capturing Model attributes before starting training in ModelDB.\n",
    "    \"\"\"\n",
    "    modeldb_expt_run.log_hyperparameters(model_fit_config)\n",
    "    modeldb_expt_run.log_attributes(data_config)\n",
    "    modeldb_expt_run.log_attributes(model_data_config)\n",
    "\n",
    "    \n",
    "def log_model_metrics(modeldb_expt_run, model, model_save_path, model_checkpoint_path, test_ds = None):\n",
    "    \"\"\"\n",
    "    Capturing Model metrics at the end of training in ModelDB.\n",
    "    \"\"\"\n",
    "    \n",
    "    # Log the paths where the model and related data were saved\n",
    "    modeldb_expt_run.log_artifact_path('other_model_related_data_path', model_data_path_prefix)\n",
    "    modeldb_expt_run.log_artifact_path('model_save_path', model_save_path)\n",
    "    modeldb_expt_run.log_artifact_path('model_checkpoint_path', model_checkpoint_path)\n",
    "    \n",
    "    # Log accuracy of the supplied data set (if supplied)\n",
    "    if test_ds is not None:\n",
    "        loss, accuracy, precision, recall = model.evaluate(test_ds)        \n",
    "        modeldb_expt_run.log_metric('loss_', loss)\n",
    "        modeldb_expt_run.log_metric('accuracy', accuracy)\n",
    "        modeldb_expt_run.log_metric('precision', precision)\n",
    "        modeldb_expt_run.log_metric('recall', recall)\n",
    "        \n",
    "\n",
    "def log_model_summary(modeldb_expt_run, model):\n",
    "    \"\"\"\n",
    "    Log the structure of the Model\n",
    "    \"\"\"\n",
    "    stringlist = []\n",
    "    # Only store the last sequential layer\n",
    "    model.get_layer(index=-1).summary(print_fn=lambda x: stringlist.append(x))\n",
    "    short_model_summary = \"\\n\".join(stringlist)    \n",
    "    \n",
    "    if os.path.exists('/tmp/model/'):        \n",
    "        shutil.rmtree('/tmp/model')\n",
    "    os.mkdir('/tmp/model')\n",
    "\n",
    "    with open('/tmp/model/model.txt', 'w') as f:\n",
    "        f.write(short_model_summary)\n",
    "    f.close()\n",
    "    modeldb_expt_run.log_artifact('Model_Summary', '/tmp/model/model.txt')    "
   ]
  },
  {
   "cell_type": "code",
   "execution_count": 70,
   "metadata": {},
   "outputs": [],
   "source": [
    "# fairing:include-cell\n",
    "# Target variable mapping function\n",
    "def parse_label_from_data(features, labels):\n",
    "    \"\"\"\n",
    "    Function to map the data parsed in order to generate the labels\n",
    "    \"\"\"\n",
    "   \n",
    "    label_0_values = tf.constant([0], dtype=tf.dtypes.float32)    \n",
    "    labels = tf.reshape(labels, [-1, 1])\n",
    "    labels_converted = tf.where(tf.reduce_any(tf.equal(labels, label_0_values), axis=1), \n",
    "                              tf.constant(0, dtype=tf.dtypes.int64), \n",
    "                              tf.constant(1, dtype=tf.dtypes.int64)) \n",
    "    return features, labels_converted\n",
    "\n",
    "# CSV Data generator\n",
    "def get_dataset_generator(file_path, target_name, feature_names, shuffle_dataset = True):\n",
    "    \"\"\"\n",
    "    Dataset does not need to be shuffled for validation and testing\n",
    "    \"\"\"\n",
    "    column_defaults = ['string' if column in categorical_columns else 'float32' for column in feature_names]\n",
    "    data_batches = tf.data.experimental.make_csv_dataset(\n",
    "        file_pattern = file_path, \n",
    "        select_columns = feature_names,\n",
    "        column_defaults = column_defaults,\n",
    "        num_epochs=1, # Only want to go thru this data once in 1 training epoch\n",
    "        label_name=target_name,\n",
    "        ignore_errors = False,\n",
    "        shuffle = shuffle_dataset,\n",
    "        batch_size = model_fit_config['batch_size'],\n",
    "        sloppy = False, # Better reading performance since data reads will not be deterministic\n",
    "        prefetch_buffer_size = 1,\n",
    "        num_parallel_reads = 4 # Set this to >1 only if using multiple CPUs\n",
    "        )\n",
    "    data_batches = data_batches.map(parse_label_from_data, num_parallel_calls=AUTOTUNE)\n",
    "    \n",
    "    return data_batches"
   ]
  },
  {
   "cell_type": "markdown",
   "metadata": {
    "tags": []
   },
   "source": [
    "## Model Setup and training"
   ]
  },
  {
   "cell_type": "code",
   "execution_count": 72,
   "metadata": {},
   "outputs": [],
   "source": [
    "# fairing:include-cell\n",
    "# Get test and validation data generators\n",
    "training_data = get_dataset_generator(data_config['training'], target_name, feature_names)\n",
    "validation_data = get_dataset_generator(data_config['validation'], target_name, feature_names, shuffle_dataset=False)\n",
    "test_features = list(feature_names)\n",
    "test_features.insert(0,'customer_id') # Need this information to evaluate against test dataset for LTR metrics. \n",
    "#Note that relative position of this field compared to other fields should be correct.\n",
    "test_data = get_dataset_generator(data_config['test'], target_name, test_features, shuffle_dataset=False)\n",
    "\n",
    "if run_local:\n",
    "    # For testing purposes: Selects just 1 batch of data for training, validation and test\n",
    "    training_data = training_data.take(1)\n",
    "    validation_data = validation_data.take(1)\n",
    "    test_data = test_data.take(1)\n",
    "else:\n",
    "    # Using just 1/10th dataset for training and validation\n",
    "    training_data = training_data.shard(10, 1) \n",
    "    validation_data = validation_data.shard(10, 1)"
   ]
  },
  {
   "cell_type": "code",
   "execution_count": 73,
   "metadata": {},
   "outputs": [
    {
     "name": "stdout",
     "output_type": "stream",
     "text": [
      "connection successfully established\n",
      "got existing Project: P13N_Event_Sort_Models_2021\n",
      "got existing Experiment: text-features\n",
      "created new ExperimentRun: 4layer_1024_target_0_458_dataset_v5_zhsofzkm\n",
      "upload complete (Model_Summary)\n"
     ]
    }
   ],
   "source": [
    "# fairing:include-cell\n",
    "initial_lr = model_fit_config['initial_lr']\n",
    "num_epochs = model_fit_config['epochs']\n",
    "\n",
    "# Create Model-DB Instance\n",
    "modeldb_expt_run = modeldb_tf_utilities.create_modeldb_experiment_run(modeldb_config)\n",
    "\n",
    "# Get callbacks and save paths\n",
    "model_data_path_prefix = os.path.join(model_data_path_prefix, modeldb_expt_run.name)\n",
    "callbacks = modeldb_tf_utilities.get_tf_callbacks(modeldb_expt_run, model_data_path_prefix)\n",
    "\n",
    "# Save some attributes before training starts\n",
    "log_model_attributes(modeldb_expt_run)\n",
    "\n",
    "# Define model \n",
    "#loss=tf.keras.losses.BinaryCrossentropy(from_logits=False)\n",
    "loss=tf.keras.losses.MeanSquaredError()\n",
    "optimizer=tf.optimizers.Adam(learning_rate=initial_lr)\n",
    "\n",
    "# Create a distribution strategy to run on multiple GPUs\n",
    "if use_distributed_training:\n",
    "    with mirrored_strategy.scope():\n",
    "        sort_model = model_utilities.get_sort_model_ep(feature_normalizer, \n",
    "                                                       numeric_columns_to_norm, \n",
    "                                                       numeric_columns_remaining, \n",
    "                                                       categorical_columns,\n",
    "                                                       categorical_columns_vocabulary_list)\n",
    "        sort_model.compile(loss=loss, optimizer=optimizer, metrics=['accuracy', tf.keras.metrics.Precision(), tf.keras.metrics.Recall()])\n",
    "else:\n",
    "    sort_model = model_utilities.get_sort_model_ep(feature_normalizer,\n",
    "                                                   numeric_columns_to_norm, \n",
    "                                                   numeric_columns_remaining, \n",
    "                                                   categorical_columns,\n",
    "                                                   categorical_columns_vocabulary_list)\n",
    "    sort_model.compile(loss=loss, optimizer=optimizer, metrics=['accuracy', tf.keras.metrics.Precision(), tf.keras.metrics.Recall()])\n",
    "\n",
    "log_model_summary(modeldb_expt_run, sort_model)"
   ]
  },
  {
   "cell_type": "code",
   "execution_count": 74,
   "metadata": {},
   "outputs": [
    {
     "name": "stdout",
     "output_type": "stream",
     "text": [
      "Epoch 1/10\n",
      "1/1 [==============================] - 40s 40s/step - loss: 0.2665 - accuracy: 0.5122 - precision_1: 0.5389 - recall_1: 0.7032 - val_loss: 0.2676 - val_accuracy: 0.5005 - val_precision_1: 0.8765 - val_recall_1: 0.0655\n",
      "\n",
      "Epoch 00001: val_loss improved from inf to 0.26758, saving model to gs://personalization-tensorflow/models/text_features/4layer_1024_target_0_458_dataset_v5_zhsofzkm/checkpoints/\n",
      "Epoch 2/10\n",
      "1/1 [==============================] - 2s 2s/step - loss: 0.2819 - accuracy: 0.4985 - precision_1: 0.6735 - recall_1: 0.1484 - val_loss: 0.3218 - val_accuracy: 0.5283 - val_precision_1: 0.5293 - val_recall_1: 0.9834\n",
      "\n",
      "Epoch 00002: val_loss did not improve from 0.26758\n",
      "Epoch 3/10\n",
      "1/1 [==============================] - 2s 2s/step - loss: 0.3000 - accuracy: 0.5649 - precision_1: 0.5589 - recall_1: 0.9433 - val_loss: 0.3057 - val_accuracy: 0.5288 - val_precision_1: 0.5292 - val_recall_1: 0.9963\n",
      "\n",
      "Epoch 00003: val_loss did not improve from 0.26758\n",
      "Epoch 4/10\n",
      "1/1 [==============================] - 2s 2s/step - loss: 0.2867 - accuracy: 0.5684 - precision_1: 0.5599 - recall_1: 0.9586 - val_loss: 0.2524 - val_accuracy: 0.5439 - val_precision_1: 0.5425 - val_recall_1: 0.8828\n",
      "\n",
      "Epoch 00004: val_loss improved from 0.26758 to 0.25235, saving model to gs://personalization-tensorflow/models/text_features/4layer_1024_target_0_458_dataset_v5_zhsofzkm/checkpoints/\n",
      "Epoch 5/10\n",
      "1/1 [==============================] - 2s 2s/step - loss: 0.2498 - accuracy: 0.5859 - precision_1: 0.5881 - recall_1: 0.7923 - val_loss: 0.2458 - val_accuracy: 0.5396 - val_precision_1: 0.7390 - val_recall_1: 0.2011\n",
      "\n",
      "Epoch 00005: val_loss improved from 0.25235 to 0.24582, saving model to gs://personalization-tensorflow/models/text_features/4layer_1024_target_0_458_dataset_v5_zhsofzkm/checkpoints/\n",
      "Epoch 6/10\n",
      "1/1 [==============================] - 2s 2s/step - loss: 0.2534 - accuracy: 0.5728 - precision_1: 0.6787 - recall_1: 0.4047 - val_loss: 0.2471 - val_accuracy: 0.5356 - val_precision_1: 0.7588 - val_recall_1: 0.1799\n",
      "\n",
      "Epoch 00006: val_loss did not improve from 0.24582\n",
      "Epoch 7/10\n",
      "1/1 [==============================] - 2s 2s/step - loss: 0.2594 - accuracy: 0.5366 - precision_1: 0.6437 - recall_1: 0.3282 - val_loss: 0.2379 - val_accuracy: 0.6064 - val_precision_1: 0.6119 - val_recall_1: 0.7011\n",
      "\n",
      "Epoch 00007: val_loss improved from 0.24582 to 0.23786, saving model to gs://personalization-tensorflow/models/text_features/4layer_1024_target_0_458_dataset_v5_zhsofzkm/checkpoints/\n",
      "Epoch 8/10\n",
      "1/1 [==============================] - 2s 2s/step - loss: 0.2385 - accuracy: 0.6040 - precision_1: 0.6550 - recall_1: 0.5719 - val_loss: 0.2491 - val_accuracy: 0.5439 - val_precision_1: 0.5440 - val_recall_1: 0.8561\n",
      "\n",
      "Epoch 00008: val_loss did not improve from 0.23786\n",
      "Epoch 9/10\n",
      "1/1 [==============================] - 2s 2s/step - loss: 0.2388 - accuracy: 0.6221 - precision_1: 0.6140 - recall_1: 0.8183 - val_loss: 0.2510 - val_accuracy: 0.5400 - val_precision_1: 0.5402 - val_recall_1: 0.8801\n",
      "\n",
      "Epoch 00009: val_loss did not improve from 0.23786\n",
      "Epoch 10/10\n",
      "1/1 [==============================] - 2s 2s/step - loss: 0.2375 - accuracy: 0.6167 - precision_1: 0.6058 - recall_1: 0.8417 - val_loss: 0.2392 - val_accuracy: 0.5645 - val_precision_1: 0.5569 - val_recall_1: 0.8662\n",
      "\n",
      "Epoch 00010: val_loss did not improve from 0.23786\n",
      "INFO:tensorflow:Assets written to: gs://personalization-tensorflow/models/text_features/4layer_1024_target_0_458_dataset_v5_zhsofzkm/saved_model/assets\n"
     ]
    },
    {
     "name": "stderr",
     "output_type": "stream",
     "text": [
      "[I 211109 00:26:35 builder_impl:774] Assets written to: gs://personalization-tensorflow/models/text_features/4layer_1024_target_0_458_dataset_v5_zhsofzkm/saved_model/assets\n"
     ]
    },
    {
     "name": "stdout",
     "output_type": "stream",
     "text": [
      "1/1 [==============================] - 12s 12s/step - loss: 0.2379 - accuracy: 0.6064 - precision_1: 0.6119 - recall_1: 0.7011\n"
     ]
    }
   ],
   "source": [
    "# fairing:include-cell\n",
    "# Start the training process\n",
    "try:\n",
    "    start_time = time.time()  \n",
    "    cached_ds = training_data.cache()\n",
    "    cached_validation_ds = validation_data.cache()\n",
    "    # Fit the model\n",
    "    model_history = sort_model.fit(cached_ds, validation_data=cached_validation_ds, epochs=num_epochs, callbacks=callbacks)\n",
    "    # Log time taken to fit model\n",
    "    modeldb_expt_run.log_metric('model_fit_run_duration_in_secs', (time.time() - start_time))            \n",
    "    # Save Model\n",
    "    model_save_path = os.path.join(model_data_path_prefix, 'saved_model/')\n",
    "    sort_model.save(model_save_path)\n",
    "    # But reload model from checkpoint (lowest validation loss) to generate validation performance\n",
    "    model_checkpoint_path = os.path.join(model_data_path_prefix, 'checkpoints/')\n",
    "    if use_checkpointed_model:\n",
    "        # But reload model from checkpoint (lowest validation loss) to generate validation performance        \n",
    "        sort_model.load_weights(model_checkpoint_path)    \n",
    "    # Log other metrics from model including validation data performance\n",
    "    log_model_metrics(modeldb_expt_run, sort_model, model_save_path, model_checkpoint_path, validation_data)\n",
    "    modeldb_expt_run.log_tag('success')\n",
    "except:\n",
    "    modeldb_expt_run.log_tag('failed_run')\n",
    "    raise"
   ]
  },
  {
   "cell_type": "markdown",
   "metadata": {
    "tags": []
   },
   "source": [
    "## Evaluate Performance of Model"
   ]
  },
  {
   "cell_type": "code",
   "execution_count": 76,
   "metadata": {},
   "outputs": [
    {
     "name": "stdout",
     "output_type": "stream",
     "text": [
      "1/1 [==============================] - 6s 6s/step\n",
      "Time taken for generating labels is 6.782681226730347secs\n"
     ]
    }
   ],
   "source": [
    "# fairing:include-cell\n",
    "st = time.time()\n",
    "\n",
    "# Get predicted labels for validation data\n",
    "pred_indices_raw = sort_model.predict(cached_validation_ds, verbose=1)\n",
    "pred_indices = (pred_indices_raw > 0.5)\n",
    "\n",
    "# Get true labels for test data\n",
    "iterator = cached_validation_ds.as_numpy_iterator()\n",
    "true_labels = np.array([])\n",
    "for x in iterator:\n",
    "    true_labels = np.append(true_labels, x[-1])\n",
    "print(\"Time taken for generating labels is {}secs\".format(time.time() - st))"
   ]
  },
  {
   "cell_type": "code",
   "execution_count": 77,
   "metadata": {},
   "outputs": [
    {
     "name": "stdout",
     "output_type": "stream",
     "text": [
      "              precision    recall  f1-score   support\n",
      "\n",
      "     class 0       0.60      0.50      0.54       964\n",
      "     class 1       0.61      0.70      0.65      1084\n",
      "\n",
      "    accuracy                           0.61      2048\n",
      "   macro avg       0.60      0.60      0.60      2048\n",
      "weighted avg       0.61      0.61      0.60      2048\n",
      "\n",
      "upload complete (ROC_cp)\n",
      "upload complete (PR_cp)\n",
      "upload complete (confusion_matrix_cp)\n",
      "upload complete (confusion_matrix_normalized_cp)\n"
     ]
    },
    {
     "data": {
      "image/png": "[encoded data removed]",
      "text/plain": [
       "<Figure size 360x360 with 1 Axes>"
      ]
     },
     "metadata": {
      "needs_background": "light"
     },
     "output_type": "display_data"
    },
    {
     "data": {
      "image/png": "[encoded data removed]",
      "text/plain": [
       "<Figure size 360x360 with 1 Axes>"
      ]
     },
     "metadata": {
      "needs_background": "light"
     },
     "output_type": "display_data"
    },
    {
     "data": {
      "image/png": "[encoded data removed]",
      "text/plain": [
       "<Figure size 360x360 with 2 Axes>"
      ]
     },
     "metadata": {
      "needs_background": "light"
     },
     "output_type": "display_data"
    },
    {
     "data": {
      "image/png": "[encoded data removed]",
      "text/plain": [
       "<Figure size 360x360 with 2 Axes>"
      ]
     },
     "metadata": {
      "needs_background": "light"
     },
     "output_type": "display_data"
    }
   ],
   "source": [
    "# fairing:include-cell\n",
    "# Making sure directory is removed if already exists\n",
    "if os.path.exists('/tmp/plots'):        \n",
    "    shutil.rmtree('/tmp/plots')\n",
    "os.mkdir('/tmp/plots')\n",
    "\n",
    "target_names = ['class 0', 'class 1']\n",
    "\n",
    "# Print Some Performance Metrics\n",
    "print(classification_report(true_labels, pred_indices, target_names = target_names, zero_division = 0))\n",
    "cr = classification_report(true_labels, pred_indices, target_names = target_names, zero_division=0, output_dict = True)\n",
    "class_0_recall = np.around(cr['class 0']['recall'], decimals=5)\n",
    "class_1_recall = np.around(cr['class 1']['recall'], decimals=5)\n",
    "modeldb_expt_run.log_metrics({'Recall_Class_0': class_0_recall, 'Recall_Class_1': class_1_recall, })\n",
    "\n",
    "\n",
    "# Create ROC curve\n",
    "figure = plt.figure(figsize=(5, 5))\n",
    "fpr, tpr, thresholds = roc_curve(true_labels, pred_indices_raw)\n",
    "plt.plot(fpr, tpr)\n",
    "plt.title('ROC curve')\n",
    "plt.ylabel('TPR')\n",
    "plt.xlabel('FPR')\n",
    "plt.savefig('/tmp/plots/roc.png')\n",
    "modeldb_expt_run.log_artifact('ROC', '/tmp/plots/roc.png')\n",
    "\n",
    "# Create PR curve\n",
    "figure = plt.figure(figsize=(5, 5))\n",
    "precision, recall, thresholds = precision_recall_curve(true_labels, pred_indices_raw)\n",
    "plt.plot(recall, precision)\n",
    "plt.title('PR curve')\n",
    "plt.ylabel('Precision')\n",
    "plt.xlabel('Recall')\n",
    "plt.savefig('/tmp/plots/pr.png')\n",
    "modeldb_expt_run.log_artifact('PR', '/tmp/plots/pr.png')\n",
    "\n",
    "\n",
    "# Create confusion matrix\n",
    "cm = confusion_matrix(true_labels, pred_indices)\n",
    "cm_df = pd.DataFrame(cm, index = target_names, columns = target_names)\n",
    "cm_normalize_df = pd.DataFrame(normalize(cm, 'l1', axis = 1), index = target_names, columns = target_names)\n",
    "figure = plt.figure(figsize=(5, 5))\n",
    "svm = sns.heatmap(cm_df, annot=True,cmap=plt.cm.Blues)\n",
    "plt.tight_layout()\n",
    "plt.ylabel('True label')\n",
    "plt.xlabel('Predicted label')\n",
    "figure = svm.get_figure()    \n",
    "figure.savefig('/tmp/plots/cm.png')\n",
    "\n",
    "figure = plt.figure(figsize=(5, 5))\n",
    "svm = sns.heatmap(cm_normalize_df, annot=True,cmap=plt.cm.Blues)\n",
    "plt.tight_layout()\n",
    "plt.ylabel('True label')\n",
    "plt.xlabel('Predicted label')\n",
    "figure = svm.get_figure()    \n",
    "figure.savefig('/tmp/plots/cm_norm.png')\n",
    "\n",
    "# Saving confusion_matrix\n",
    "modeldb_expt_run.log_artifact('confusion_matrix', '/tmp/plots/cm.png')\n",
    "modeldb_expt_run.log_artifact('confusion_matrix_normalized', '/tmp/plots/cm_norm.png')"
   ]
  },
  {
   "cell_type": "code",
   "execution_count": 78,
   "metadata": {},
   "outputs": [
    {
     "name": "stderr",
     "output_type": "stream",
     "text": [
      "/opt/conda/lib/python3.8/site-packages/tensorflow/python/keras/engine/functional.py:588: UserWarning: Input dict contained keys ['customer_id'] which did not match any model input. They will be ignored by the model.\n",
      "  warnings.warn(\n"
     ]
    },
    {
     "name": "stdout",
     "output_type": "stream",
     "text": [
      "1/1 [==============================] - 17s 17s/step\n",
      "Process took 16.630746603012085secs\n",
      "Process took 9.753758430480957secs\n"
     ]
    },
    {
     "ename": "ValueError",
     "evalue": "Input contains NaN, infinity or a value too large for dtype('float64').",
     "output_type": "error",
     "traceback": [
      "\u001b[0;31m---------------------------------------------------------------------------\u001b[0m",
      "\u001b[0;31mValueError\u001b[0m                                Traceback (most recent call last)",
      "\u001b[0;32m<ipython-input-78-4dda4c9a412e>\u001b[0m in \u001b[0;36m<module>\u001b[0;34m\u001b[0m\n\u001b[1;32m     24\u001b[0m \u001b[0;31m# Call the function to evaluate LTR metrics\u001b[0m\u001b[0;34m\u001b[0m\u001b[0;34m\u001b[0m\u001b[0;34m\u001b[0m\u001b[0m\n\u001b[1;32m     25\u001b[0m \u001b[0mmodel_metrics\u001b[0m \u001b[0;34m=\u001b[0m \u001b[0mpd\u001b[0m\u001b[0;34m.\u001b[0m\u001b[0mDataFrame\u001b[0m\u001b[0;34m(\u001b[0m\u001b[0;34m)\u001b[0m\u001b[0;34m\u001b[0m\u001b[0;34m\u001b[0m\u001b[0m\n\u001b[0;32m---> 26\u001b[0;31m model_hit_rate, model_ndcg = evaluation_utilities.get_ltr_metrics(model_results_df, \n\u001b[0m\u001b[1;32m     27\u001b[0m                                                                          \u001b[0mmax_rank\u001b[0m\u001b[0;34m,\u001b[0m\u001b[0;34m\u001b[0m\u001b[0;34m\u001b[0m\u001b[0m\n\u001b[1;32m     28\u001b[0m                                                                          \u001b[0mtarget_name\u001b[0m\u001b[0;34m,\u001b[0m\u001b[0;34m\u001b[0m\u001b[0;34m\u001b[0m\u001b[0m\n",
      "\u001b[0;32m~/personalization-tensorflow/utilities/evaluation_utilities.py\u001b[0m in \u001b[0;36mget_ltr_metrics\u001b[0;34m(model_results_df, K, target_column, score_column, customer_column)\u001b[0m\n\u001b[1;32m     55\u001b[0m     \u001b[0mmodel_ndcg\u001b[0m \u001b[0;34m=\u001b[0m \u001b[0mlist\u001b[0m\u001b[0;34m(\u001b[0m\u001b[0;34m)\u001b[0m\u001b[0;34m\u001b[0m\u001b[0;34m\u001b[0m\u001b[0m\n\u001b[1;32m     56\u001b[0m     \u001b[0;32mfor\u001b[0m \u001b[0mkk\u001b[0m \u001b[0;32min\u001b[0m \u001b[0mnp\u001b[0m\u001b[0;34m.\u001b[0m\u001b[0marange\u001b[0m\u001b[0;34m(\u001b[0m\u001b[0;36m1\u001b[0m\u001b[0;34m,\u001b[0m\u001b[0mK\u001b[0m\u001b[0;34m)\u001b[0m\u001b[0;34m:\u001b[0m\u001b[0;34m\u001b[0m\u001b[0;34m\u001b[0m\u001b[0m\n\u001b[0;32m---> 57\u001b[0;31m         \u001b[0mndcg_val\u001b[0m \u001b[0;34m=\u001b[0m \u001b[0mndcg_score\u001b[0m\u001b[0;34m(\u001b[0m\u001b[0my_true\u001b[0m\u001b[0;34m,\u001b[0m \u001b[0my_score\u001b[0m\u001b[0;34m,\u001b[0m \u001b[0mignore_ties\u001b[0m \u001b[0;34m=\u001b[0m \u001b[0;32mFalse\u001b[0m\u001b[0;34m,\u001b[0m \u001b[0mk\u001b[0m\u001b[0;34m=\u001b[0m\u001b[0mkk\u001b[0m\u001b[0;34m)\u001b[0m\u001b[0;34m\u001b[0m\u001b[0;34m\u001b[0m\u001b[0m\n\u001b[0m\u001b[1;32m     58\u001b[0m         \u001b[0mmodel_ndcg\u001b[0m\u001b[0;34m.\u001b[0m\u001b[0mappend\u001b[0m\u001b[0;34m(\u001b[0m\u001b[0mndcg_val\u001b[0m\u001b[0;34m)\u001b[0m\u001b[0;34m\u001b[0m\u001b[0;34m\u001b[0m\u001b[0m\n\u001b[1;32m     59\u001b[0m \u001b[0;34m\u001b[0m\u001b[0m\n",
      "\u001b[0;32m/opt/conda/lib/python3.8/site-packages/sklearn/utils/validation.py\u001b[0m in \u001b[0;36minner_f\u001b[0;34m(*args, **kwargs)\u001b[0m\n\u001b[1;32m     61\u001b[0m             \u001b[0mextra_args\u001b[0m \u001b[0;34m=\u001b[0m \u001b[0mlen\u001b[0m\u001b[0;34m(\u001b[0m\u001b[0margs\u001b[0m\u001b[0;34m)\u001b[0m \u001b[0;34m-\u001b[0m \u001b[0mlen\u001b[0m\u001b[0;34m(\u001b[0m\u001b[0mall_args\u001b[0m\u001b[0;34m)\u001b[0m\u001b[0;34m\u001b[0m\u001b[0;34m\u001b[0m\u001b[0m\n\u001b[1;32m     62\u001b[0m             \u001b[0;32mif\u001b[0m \u001b[0mextra_args\u001b[0m \u001b[0;34m<=\u001b[0m \u001b[0;36m0\u001b[0m\u001b[0;34m:\u001b[0m\u001b[0;34m\u001b[0m\u001b[0;34m\u001b[0m\u001b[0m\n\u001b[0;32m---> 63\u001b[0;31m                 \u001b[0;32mreturn\u001b[0m \u001b[0mf\u001b[0m\u001b[0;34m(\u001b[0m\u001b[0;34m*\u001b[0m\u001b[0margs\u001b[0m\u001b[0;34m,\u001b[0m \u001b[0;34m**\u001b[0m\u001b[0mkwargs\u001b[0m\u001b[0;34m)\u001b[0m\u001b[0;34m\u001b[0m\u001b[0;34m\u001b[0m\u001b[0m\n\u001b[0m\u001b[1;32m     64\u001b[0m \u001b[0;34m\u001b[0m\u001b[0m\n\u001b[1;32m     65\u001b[0m             \u001b[0;31m# extra_args > 0\u001b[0m\u001b[0;34m\u001b[0m\u001b[0;34m\u001b[0m\u001b[0;34m\u001b[0m\u001b[0m\n",
      "\u001b[0;32m/opt/conda/lib/python3.8/site-packages/sklearn/metrics/_ranking.py\u001b[0m in \u001b[0;36mndcg_score\u001b[0;34m(y_true, y_score, k, sample_weight, ignore_ties)\u001b[0m\n\u001b[1;32m   1562\u001b[0m \u001b[0;34m\u001b[0m\u001b[0m\n\u001b[1;32m   1563\u001b[0m     \"\"\"\n\u001b[0;32m-> 1564\u001b[0;31m     \u001b[0my_true\u001b[0m \u001b[0;34m=\u001b[0m \u001b[0mcheck_array\u001b[0m\u001b[0;34m(\u001b[0m\u001b[0my_true\u001b[0m\u001b[0;34m,\u001b[0m \u001b[0mensure_2d\u001b[0m\u001b[0;34m=\u001b[0m\u001b[0;32mFalse\u001b[0m\u001b[0;34m)\u001b[0m\u001b[0;34m\u001b[0m\u001b[0;34m\u001b[0m\u001b[0m\n\u001b[0m\u001b[1;32m   1565\u001b[0m     \u001b[0my_score\u001b[0m \u001b[0;34m=\u001b[0m \u001b[0mcheck_array\u001b[0m\u001b[0;34m(\u001b[0m\u001b[0my_score\u001b[0m\u001b[0;34m,\u001b[0m \u001b[0mensure_2d\u001b[0m\u001b[0;34m=\u001b[0m\u001b[0;32mFalse\u001b[0m\u001b[0;34m)\u001b[0m\u001b[0;34m\u001b[0m\u001b[0;34m\u001b[0m\u001b[0m\n\u001b[1;32m   1566\u001b[0m     \u001b[0mcheck_consistent_length\u001b[0m\u001b[0;34m(\u001b[0m\u001b[0my_true\u001b[0m\u001b[0;34m,\u001b[0m \u001b[0my_score\u001b[0m\u001b[0;34m,\u001b[0m \u001b[0msample_weight\u001b[0m\u001b[0;34m)\u001b[0m\u001b[0;34m\u001b[0m\u001b[0;34m\u001b[0m\u001b[0m\n",
      "\u001b[0;32m/opt/conda/lib/python3.8/site-packages/sklearn/utils/validation.py\u001b[0m in \u001b[0;36minner_f\u001b[0;34m(*args, **kwargs)\u001b[0m\n\u001b[1;32m     61\u001b[0m             \u001b[0mextra_args\u001b[0m \u001b[0;34m=\u001b[0m \u001b[0mlen\u001b[0m\u001b[0;34m(\u001b[0m\u001b[0margs\u001b[0m\u001b[0;34m)\u001b[0m \u001b[0;34m-\u001b[0m \u001b[0mlen\u001b[0m\u001b[0;34m(\u001b[0m\u001b[0mall_args\u001b[0m\u001b[0;34m)\u001b[0m\u001b[0;34m\u001b[0m\u001b[0;34m\u001b[0m\u001b[0m\n\u001b[1;32m     62\u001b[0m             \u001b[0;32mif\u001b[0m \u001b[0mextra_args\u001b[0m \u001b[0;34m<=\u001b[0m \u001b[0;36m0\u001b[0m\u001b[0;34m:\u001b[0m\u001b[0;34m\u001b[0m\u001b[0;34m\u001b[0m\u001b[0m\n\u001b[0;32m---> 63\u001b[0;31m                 \u001b[0;32mreturn\u001b[0m \u001b[0mf\u001b[0m\u001b[0;34m(\u001b[0m\u001b[0;34m*\u001b[0m\u001b[0margs\u001b[0m\u001b[0;34m,\u001b[0m \u001b[0;34m**\u001b[0m\u001b[0mkwargs\u001b[0m\u001b[0;34m)\u001b[0m\u001b[0;34m\u001b[0m\u001b[0;34m\u001b[0m\u001b[0m\n\u001b[0m\u001b[1;32m     64\u001b[0m \u001b[0;34m\u001b[0m\u001b[0m\n\u001b[1;32m     65\u001b[0m             \u001b[0;31m# extra_args > 0\u001b[0m\u001b[0;34m\u001b[0m\u001b[0;34m\u001b[0m\u001b[0;34m\u001b[0m\u001b[0m\n",
      "\u001b[0;32m/opt/conda/lib/python3.8/site-packages/sklearn/utils/validation.py\u001b[0m in \u001b[0;36mcheck_array\u001b[0;34m(array, accept_sparse, accept_large_sparse, dtype, order, copy, force_all_finite, ensure_2d, allow_nd, ensure_min_samples, ensure_min_features, estimator)\u001b[0m\n\u001b[1;32m    718\u001b[0m \u001b[0;34m\u001b[0m\u001b[0m\n\u001b[1;32m    719\u001b[0m         \u001b[0;32mif\u001b[0m \u001b[0mforce_all_finite\u001b[0m\u001b[0;34m:\u001b[0m\u001b[0;34m\u001b[0m\u001b[0;34m\u001b[0m\u001b[0m\n\u001b[0;32m--> 720\u001b[0;31m             _assert_all_finite(array,\n\u001b[0m\u001b[1;32m    721\u001b[0m                                allow_nan=force_all_finite == 'allow-nan')\n\u001b[1;32m    722\u001b[0m \u001b[0;34m\u001b[0m\u001b[0m\n",
      "\u001b[0;32m/opt/conda/lib/python3.8/site-packages/sklearn/utils/validation.py\u001b[0m in \u001b[0;36m_assert_all_finite\u001b[0;34m(X, allow_nan, msg_dtype)\u001b[0m\n\u001b[1;32m    101\u001b[0m                 not allow_nan and not np.isfinite(X).all()):\n\u001b[1;32m    102\u001b[0m             \u001b[0mtype_err\u001b[0m \u001b[0;34m=\u001b[0m \u001b[0;34m'infinity'\u001b[0m \u001b[0;32mif\u001b[0m \u001b[0mallow_nan\u001b[0m \u001b[0;32melse\u001b[0m \u001b[0;34m'NaN, infinity'\u001b[0m\u001b[0;34m\u001b[0m\u001b[0;34m\u001b[0m\u001b[0m\n\u001b[0;32m--> 103\u001b[0;31m             raise ValueError(\n\u001b[0m\u001b[1;32m    104\u001b[0m                     \u001b[0mmsg_err\u001b[0m\u001b[0;34m.\u001b[0m\u001b[0mformat\u001b[0m\u001b[0;34m\u001b[0m\u001b[0;34m\u001b[0m\u001b[0m\n\u001b[1;32m    105\u001b[0m                     (type_err,\n",
      "\u001b[0;31mValueError\u001b[0m: Input contains NaN, infinity or a value too large for dtype('float64')."
     ]
    }
   ],
   "source": [
    "# fairing:include-cell\n",
    "# Get LTR Metrics on a test-data set\n",
    "if os.path.exists('/tmp/data'):        \n",
    "    shutil.rmtree('/tmp/data')\n",
    "os.mkdir('/tmp/data')\n",
    "\n",
    "# Get predictions from the model\n",
    "st = time.time()\n",
    "model_predictions = sort_model.predict(test_data, verbose=1)\n",
    "print('Process took {}secs'.format(time.time() - st))\n",
    "\n",
    "# Construct a pandas dataframe with scores and target\n",
    "st = time.time()\n",
    "model_results_df = pd.DataFrame()\n",
    "for f, t in test_data:\n",
    "    temp = pd.DataFrame()\n",
    "    temp[target_name] = t\n",
    "    temp['customer_id'] = f['customer_id']\n",
    "    model_results_df = model_results_df.append(temp)\n",
    "print('Process took {}secs'.format(time.time() - st))\n",
    "model_results_df['predicted'] = model_predictions\n",
    "prediction_column = 'predicted'\n",
    "\n",
    "# Call the function to evaluate LTR metrics\n",
    "model_metrics = pd.DataFrame()\n",
    "model_hit_rate, model_ndcg = evaluation_utilities.get_ltr_metrics(model_results_df, \n",
    "                                                                         max_rank, \n",
    "                                                                         target_name, \n",
    "                                                                         prediction_column)\n",
    "\n",
    "model_metrics['hit_rate'] = model_hit_rate\n",
    "model_metrics['ndcg'] = model_ndcg\n",
    "\n",
    "modeldb_expt_run.log_metrics({'HR_10': model_hit_rate[9], 'NDCG_10': model_ndcg[9]})\n",
    "model_metrics.to_csv(f'/tmp/data/{modeldb_expt_run.name}.csv')\n",
    "modeldb_expt_run.log_artifact('LTRMetrics', f'/tmp/data/{modeldb_expt_run.name}.csv')"
   ]
  },
  {
   "cell_type": "code",
   "execution_count": null,
   "metadata": {},
   "outputs": [],
   "source": [
    "# fairing:include-cell\n",
    "modeldb_expt_run.log_metric('experiment_run_duration_in_secs', (time.time() - start_time))            "
   ]
  },
  {
   "cell_type": "markdown",
   "metadata": {},
   "source": [
    "### Run below cells to get information about the model"
   ]
  },
  {
   "cell_type": "code",
   "execution_count": null,
   "metadata": {},
   "outputs": [],
   "source": [
    "#a_sort_model = get_sort_model(feature_normalizer)"
   ]
  },
  {
   "cell_type": "code",
   "execution_count": null,
   "metadata": {},
   "outputs": [],
   "source": [
    "#a_sort_model.summary()"
   ]
  },
  {
   "cell_type": "code",
   "execution_count": null,
   "metadata": {},
   "outputs": [],
   "source": [
    "#sort_model.get_layer(index=-1).summary()"
   ]
  },
  {
   "cell_type": "code",
   "execution_count": null,
   "metadata": {},
   "outputs": [],
   "source": [
    "#sort_model.summary()"
   ]
  },
  {
   "cell_type": "code",
   "execution_count": null,
   "metadata": {},
   "outputs": [],
   "source": [
    "#sort_model.get_layer(index=-1).summary()"
   ]
  },
  {
   "cell_type": "markdown",
   "metadata": {},
   "source": [
    "### Run Below to evaluate model from checkpoint"
   ]
  },
  {
   "cell_type": "code",
   "execution_count": null,
   "metadata": {},
   "outputs": [],
   "source": [
    "errout"
   ]
  },
  {
   "cell_type": "code",
   "execution_count": null,
   "metadata": {},
   "outputs": [],
   "source": [
    "a_sort_model = get_sort_model(numeric_preprocessor=feature_normalizer)"
   ]
  },
  {
   "cell_type": "code",
   "execution_count": null,
   "metadata": {},
   "outputs": [],
   "source": [
    "model_save_path = 'gs://personalization-tensorflow/models/text_features/4layer_1024_target_0_458_correct_age_gender_jqgdjbdo'\n",
    "checkpoint_path = os.path.join(model_save_path, 'checkpoints/')"
   ]
  },
  {
   "cell_type": "code",
   "execution_count": null,
   "metadata": {},
   "outputs": [],
   "source": [
    "a_sort_model.load_weights(checkpoint_path)"
   ]
  },
  {
   "cell_type": "code",
   "execution_count": null,
   "metadata": {},
   "outputs": [],
   "source": [
    "# Get predictions from the model\n",
    "st = time.time()\n",
    "model_predictions = a_sort_model.predict(test_data, verbose = 1)\n",
    "print('Process took {}secs'.format(time.time() - st))\n",
    "\n",
    "# Construct a pandas dataframe with scores and target\n",
    "st = time.time()\n",
    "model_results_df = pd.DataFrame()\n",
    "for f, t in test_data:\n",
    "    temp = pd.DataFrame()\n",
    "    temp[target_name] = t\n",
    "    temp['customer_id'] = f['customer_id']\n",
    "    model_results_df = model_results_df.append(temp)\n",
    "print('Process took {}secs'.format(time.time() - st))\n",
    "model_results_df['predicted'] = model_predictions\n",
    "prediction_column = 'predicted'\n",
    "\n",
    "# Call the function to evaluate LTR metrics\n",
    "model_metrics = pd.DataFrame()\n",
    "model_hit_rate, model_ndcg = evaluation_utilities.get_ltr_metrics(model_results_df, \n",
    "                                                                         max_rank, \n",
    "                                                                         target_name, \n",
    "                                                                         prediction_column)\n",
    "\n",
    "model_metrics['hit_rate'] = model_hit_rate\n",
    "model_metrics['ndcg'] = model_ndcg"
   ]
  },
  {
   "cell_type": "code",
   "execution_count": null,
   "metadata": {},
   "outputs": [],
   "source": [
    "## Compare with BS Results\n",
    "file_path_to_bs_results = \"bs_results_on_test_test_v2.csv\"\n",
    "bs_model_metrics = pd.read_csv(file_path_to_bs_results)"
   ]
  },
  {
   "cell_type": "code",
   "execution_count": null,
   "metadata": {},
   "outputs": [],
   "source": [
    "plt.figure()\n",
    "plt.plot(np.arange(1,max_rank), model_metrics['hit_rate'], '*-', label='Text based model')\n",
    "plt.plot(np.arange(1,max_rank), bs_model_metrics['hit_rate'], '*-', label='Estimated-demand based model')\n",
    "plt.ylabel('HR@K')\n",
    "plt.xlabel('K')\n",
    "plt.grid(b=True)\n",
    "plt.legend()\n",
    "\n",
    "plt.figure()\n",
    "plt.plot(np.arange(1,max_rank), model_metrics['ndcg'], '*-', label='Text based model')\n",
    "plt.plot(np.arange(1,max_rank), bs_model_metrics['ndcg'], '*-', label='Estimated-demand based model')\n",
    "plt.ylabel('NDCG@K')\n",
    "plt.xlabel('K')\n",
    "plt.grid(b=True)\n",
    "plt.legend()\n",
    "\n",
    "plt.show()"
   ]
  }
 ],
 "metadata": {
  "kernelspec": {
   "display_name": "Python 3",
   "language": "python",
   "name": "python3"
  },
  "language_info": {
   "codemirror_mode": {
    "name": "ipython",
    "version": 3
   },
   "file_extension": ".py",
   "mimetype": "text/x-python",
   "name": "python",
   "nbconvert_exporter": "python",
   "pygments_lexer": "ipython3",
   "version": "3.8.8"
  }
 },
 "nbformat": 4,
 "nbformat_minor": 4
}
