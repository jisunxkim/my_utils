{
 "cells": [
  {
   "cell_type": "code",
   "execution_count": 4,
   "id": "ab65eae3-6ba8-4794-b6be-cc97d5012c24",
   "metadata": {
    "tags": []
   },
   "outputs": [
    {
     "name": "stdout",
     "output_type": "stream",
     "text": [
      "Folder 'new_folder' already exists.\n"
     ]
    }
   ],
   "source": [
    "def make_folder(folder_name):\n",
    "    # Create a folder using a relative path (starting with a dot)\n",
    "    if not os.path.exists(f\"./{folder_name}\"):\n",
    "        os.makedirs(folder_name)\n",
    "        print(f\"Folder '{folder_name}' created successfully.\")\n",
    "    else:\n",
    "        print(f\"Folder '{folder_name}' already exists.\")"
   ]
  },
  {
   "cell_type": "code",
   "execution_count": null,
   "id": "28bcdfe7-b546-4293-82b8-4f8386bf10d9",
   "metadata": {},
   "outputs": [],
   "source": []
  }
 ],
 "metadata": {
  "kernelspec": {
   "display_name": "kf_base",
   "language": "python",
   "name": "kf_base"
  },
  "language_info": {
   "codemirror_mode": {
    "name": "ipython",
    "version": 3
   },
   "file_extension": ".py",
   "mimetype": "text/x-python",
   "name": "python",
   "nbconvert_exporter": "python",
   "pygments_lexer": "ipython3",
   "version": "3.8.16"
  }
 },
 "nbformat": 4,
 "nbformat_minor": 5
}
